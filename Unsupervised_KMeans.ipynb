{
  "nbformat": 4,
  "nbformat_minor": 0,
  "metadata": {
    "colab": {
      "provenance": [],
      "include_colab_link": true
    },
    "kernelspec": {
      "name": "python3",
      "display_name": "Python 3"
    },
    "language_info": {
      "name": "python"
    }
  },
  "cells": [
    {
      "cell_type": "markdown",
      "metadata": {
        "id": "view-in-github",
        "colab_type": "text"
      },
      "source": [
        "<a href=\"https://colab.research.google.com/github/Adevrari/Unsupervised-KMeans/blob/main/Unsupervised_KMeans.ipynb\" target=\"_parent\"><img src=\"https://colab.research.google.com/assets/colab-badge.svg\" alt=\"Open In Colab\"/></a>"
      ]
    },
    {
      "cell_type": "markdown",
      "metadata": {
        "id": "yf1ZClGCGgS1"
      },
      "source": [
        "<hr>\n",
        "\n",
        "# **KMeans Case Study**\n",
        "\n",
        "<hr>"
      ]
    },
    {
      "cell_type": "markdown",
      "metadata": {
        "id": "jv7MZ_jSRWzj"
      },
      "source": [
        "**K-Means clustering is the most popular unsupervised machine learning algorithm. K-Means clustering is used to find intrinsic groups within the unlabelled dataset and draw inferences from them. In this kernel, I implement K-Means clustering to find intrinsic groups within the dataset that display the same behaviour.**"
      ]
    },
    {
      "cell_type": "markdown",
      "metadata": {
        "id": "11xs8CMyNHss"
      },
      "source": [
        "<hr>\n",
        "\n",
        "# **Step 1 - Import the libraries**"
      ]
    },
    {
      "cell_type": "markdown",
      "metadata": {
        "id": "SiGpP8uyGsjU"
      },
      "source": [
        "**1. Configuration libraries**"
      ]
    },
    {
      "cell_type": "code",
      "execution_count": null,
      "metadata": {
        "id": "wAirwAprGQxB"
      },
      "outputs": [],
      "source": [
        "import warnings\n",
        "warnings.filterwarnings('ignore')"
      ]
    },
    {
      "cell_type": "markdown",
      "metadata": {
        "id": "KBT3inI8Gyr-"
      },
      "source": [
        "**2. Mandatory ones**"
      ]
    },
    {
      "cell_type": "code",
      "execution_count": null,
      "metadata": {
        "id": "IVe7ErPwG1LC"
      },
      "outputs": [],
      "source": [
        "import numpy as np\n",
        "import pandas as pd\n",
        "import seaborn as sns\n",
        "import plotly.express as px\n",
        "import matplotlib.pyplot as plt"
      ]
    },
    {
      "cell_type": "markdown",
      "source": [
        "**3. Model Selection Libraries**"
      ],
      "metadata": {
        "id": "ZTViXhT3UfXo"
      }
    },
    {
      "cell_type": "code",
      "source": [
        "from sklearn.cluster import KMeans\n",
        "from sklearn.metrics import silhouette_score\n",
        "from sklearn.preprocessing import StandardScaler"
      ],
      "metadata": {
        "id": "-8z9CyJHUeOV"
      },
      "execution_count": null,
      "outputs": []
    },
    {
      "cell_type": "markdown",
      "metadata": {
        "id": "yA6NJEW1NztP"
      },
      "source": [
        "<hr>\n",
        "\n",
        "# **Step 2 - Data Loading**"
      ]
    },
    {
      "cell_type": "code",
      "execution_count": null,
      "metadata": {
        "id": "UhwT0xoKkbcl"
      },
      "outputs": [],
      "source": [
        "df = pd.read_csv(\"Cricket.csv\", encoding = 'latin1')"
      ]
    },
    {
      "cell_type": "markdown",
      "source": [
        "**Data Inspection**"
      ],
      "metadata": {
        "id": "U1PnKzpbVXOW"
      }
    },
    {
      "cell_type": "code",
      "source": [
        "df.head().style.set_properties(\n",
        "    **{\n",
        "        'background-color':'#5d576b',\n",
        "        \"color\": 'white',\n",
        "        \"border-color\":'white',\n",
        "        'border-style': 'solid'\n",
        "    }\n",
        ")"
      ],
      "metadata": {
        "colab": {
          "base_uri": "https://localhost:8080/",
          "height": 220
        },
        "id": "6yHZ9ReBUtWT",
        "outputId": "aad66ee1-01d5-4aa5-b11b-226f155dff01"
      },
      "execution_count": null,
      "outputs": [
        {
          "output_type": "execute_result",
          "data": {
            "text/plain": [
              "<pandas.io.formats.style.Styler at 0x7f3091596920>"
            ],
            "text/html": [
              "<style type=\"text/css\">\n",
              "#T_3c7f8_row0_col0, #T_3c7f8_row0_col1, #T_3c7f8_row0_col2, #T_3c7f8_row0_col3, #T_3c7f8_row0_col4, #T_3c7f8_row0_col5, #T_3c7f8_row0_col6, #T_3c7f8_row0_col7, #T_3c7f8_row0_col8, #T_3c7f8_row0_col9, #T_3c7f8_row0_col10, #T_3c7f8_row0_col11, #T_3c7f8_row0_col12, #T_3c7f8_row1_col0, #T_3c7f8_row1_col1, #T_3c7f8_row1_col2, #T_3c7f8_row1_col3, #T_3c7f8_row1_col4, #T_3c7f8_row1_col5, #T_3c7f8_row1_col6, #T_3c7f8_row1_col7, #T_3c7f8_row1_col8, #T_3c7f8_row1_col9, #T_3c7f8_row1_col10, #T_3c7f8_row1_col11, #T_3c7f8_row1_col12, #T_3c7f8_row2_col0, #T_3c7f8_row2_col1, #T_3c7f8_row2_col2, #T_3c7f8_row2_col3, #T_3c7f8_row2_col4, #T_3c7f8_row2_col5, #T_3c7f8_row2_col6, #T_3c7f8_row2_col7, #T_3c7f8_row2_col8, #T_3c7f8_row2_col9, #T_3c7f8_row2_col10, #T_3c7f8_row2_col11, #T_3c7f8_row2_col12, #T_3c7f8_row3_col0, #T_3c7f8_row3_col1, #T_3c7f8_row3_col2, #T_3c7f8_row3_col3, #T_3c7f8_row3_col4, #T_3c7f8_row3_col5, #T_3c7f8_row3_col6, #T_3c7f8_row3_col7, #T_3c7f8_row3_col8, #T_3c7f8_row3_col9, #T_3c7f8_row3_col10, #T_3c7f8_row3_col11, #T_3c7f8_row3_col12, #T_3c7f8_row4_col0, #T_3c7f8_row4_col1, #T_3c7f8_row4_col2, #T_3c7f8_row4_col3, #T_3c7f8_row4_col4, #T_3c7f8_row4_col5, #T_3c7f8_row4_col6, #T_3c7f8_row4_col7, #T_3c7f8_row4_col8, #T_3c7f8_row4_col9, #T_3c7f8_row4_col10, #T_3c7f8_row4_col11, #T_3c7f8_row4_col12 {\n",
              "  background-color: #5d576b;\n",
              "  color: white;\n",
              "  border-color: white;\n",
              "  border-style: solid;\n",
              "}\n",
              "</style>\n",
              "<table id=\"T_3c7f8\" class=\"dataframe\">\n",
              "  <thead>\n",
              "    <tr>\n",
              "      <th class=\"blank level0\" >&nbsp;</th>\n",
              "      <th id=\"T_3c7f8_level0_col0\" class=\"col_heading level0 col0\" >Player</th>\n",
              "      <th id=\"T_3c7f8_level0_col1\" class=\"col_heading level0 col1\" >Span</th>\n",
              "      <th id=\"T_3c7f8_level0_col2\" class=\"col_heading level0 col2\" >Mat</th>\n",
              "      <th id=\"T_3c7f8_level0_col3\" class=\"col_heading level0 col3\" >Inns</th>\n",
              "      <th id=\"T_3c7f8_level0_col4\" class=\"col_heading level0 col4\" >NO</th>\n",
              "      <th id=\"T_3c7f8_level0_col5\" class=\"col_heading level0 col5\" >Runs</th>\n",
              "      <th id=\"T_3c7f8_level0_col6\" class=\"col_heading level0 col6\" >HS</th>\n",
              "      <th id=\"T_3c7f8_level0_col7\" class=\"col_heading level0 col7\" >Ave</th>\n",
              "      <th id=\"T_3c7f8_level0_col8\" class=\"col_heading level0 col8\" >BF</th>\n",
              "      <th id=\"T_3c7f8_level0_col9\" class=\"col_heading level0 col9\" >SR</th>\n",
              "      <th id=\"T_3c7f8_level0_col10\" class=\"col_heading level0 col10\" >100</th>\n",
              "      <th id=\"T_3c7f8_level0_col11\" class=\"col_heading level0 col11\" >50</th>\n",
              "      <th id=\"T_3c7f8_level0_col12\" class=\"col_heading level0 col12\" >0</th>\n",
              "    </tr>\n",
              "  </thead>\n",
              "  <tbody>\n",
              "    <tr>\n",
              "      <th id=\"T_3c7f8_level0_row0\" class=\"row_heading level0 row0\" >0</th>\n",
              "      <td id=\"T_3c7f8_row0_col0\" class=\"data row0 col0\" >SR Tendulkar (INDIA)</td>\n",
              "      <td id=\"T_3c7f8_row0_col1\" class=\"data row0 col1\" >1989-2012</td>\n",
              "      <td id=\"T_3c7f8_row0_col2\" class=\"data row0 col2\" >463</td>\n",
              "      <td id=\"T_3c7f8_row0_col3\" class=\"data row0 col3\" >452</td>\n",
              "      <td id=\"T_3c7f8_row0_col4\" class=\"data row0 col4\" >41</td>\n",
              "      <td id=\"T_3c7f8_row0_col5\" class=\"data row0 col5\" >18426</td>\n",
              "      <td id=\"T_3c7f8_row0_col6\" class=\"data row0 col6\" >200*</td>\n",
              "      <td id=\"T_3c7f8_row0_col7\" class=\"data row0 col7\" >44.830000</td>\n",
              "      <td id=\"T_3c7f8_row0_col8\" class=\"data row0 col8\" >21367</td>\n",
              "      <td id=\"T_3c7f8_row0_col9\" class=\"data row0 col9\" >86.230000</td>\n",
              "      <td id=\"T_3c7f8_row0_col10\" class=\"data row0 col10\" >49</td>\n",
              "      <td id=\"T_3c7f8_row0_col11\" class=\"data row0 col11\" >96</td>\n",
              "      <td id=\"T_3c7f8_row0_col12\" class=\"data row0 col12\" >20</td>\n",
              "    </tr>\n",
              "    <tr>\n",
              "      <th id=\"T_3c7f8_level0_row1\" class=\"row_heading level0 row1\" >1</th>\n",
              "      <td id=\"T_3c7f8_row1_col0\" class=\"data row1 col0\" >KC Sangakkara (Asia/ICC/SL)</td>\n",
              "      <td id=\"T_3c7f8_row1_col1\" class=\"data row1 col1\" >2000-2015</td>\n",
              "      <td id=\"T_3c7f8_row1_col2\" class=\"data row1 col2\" >404</td>\n",
              "      <td id=\"T_3c7f8_row1_col3\" class=\"data row1 col3\" >380</td>\n",
              "      <td id=\"T_3c7f8_row1_col4\" class=\"data row1 col4\" >41</td>\n",
              "      <td id=\"T_3c7f8_row1_col5\" class=\"data row1 col5\" >14234</td>\n",
              "      <td id=\"T_3c7f8_row1_col6\" class=\"data row1 col6\" >169</td>\n",
              "      <td id=\"T_3c7f8_row1_col7\" class=\"data row1 col7\" >41.980000</td>\n",
              "      <td id=\"T_3c7f8_row1_col8\" class=\"data row1 col8\" >18048</td>\n",
              "      <td id=\"T_3c7f8_row1_col9\" class=\"data row1 col9\" >78.860000</td>\n",
              "      <td id=\"T_3c7f8_row1_col10\" class=\"data row1 col10\" >25</td>\n",
              "      <td id=\"T_3c7f8_row1_col11\" class=\"data row1 col11\" >93</td>\n",
              "      <td id=\"T_3c7f8_row1_col12\" class=\"data row1 col12\" >15</td>\n",
              "    </tr>\n",
              "    <tr>\n",
              "      <th id=\"T_3c7f8_level0_row2\" class=\"row_heading level0 row2\" >2</th>\n",
              "      <td id=\"T_3c7f8_row2_col0\" class=\"data row2 col0\" >RT Ponting (AUS/ICC)</td>\n",
              "      <td id=\"T_3c7f8_row2_col1\" class=\"data row2 col1\" >1995-2012</td>\n",
              "      <td id=\"T_3c7f8_row2_col2\" class=\"data row2 col2\" >375</td>\n",
              "      <td id=\"T_3c7f8_row2_col3\" class=\"data row2 col3\" >365</td>\n",
              "      <td id=\"T_3c7f8_row2_col4\" class=\"data row2 col4\" >39</td>\n",
              "      <td id=\"T_3c7f8_row2_col5\" class=\"data row2 col5\" >13704</td>\n",
              "      <td id=\"T_3c7f8_row2_col6\" class=\"data row2 col6\" >164</td>\n",
              "      <td id=\"T_3c7f8_row2_col7\" class=\"data row2 col7\" >42.030000</td>\n",
              "      <td id=\"T_3c7f8_row2_col8\" class=\"data row2 col8\" >17046</td>\n",
              "      <td id=\"T_3c7f8_row2_col9\" class=\"data row2 col9\" >80.390000</td>\n",
              "      <td id=\"T_3c7f8_row2_col10\" class=\"data row2 col10\" >30</td>\n",
              "      <td id=\"T_3c7f8_row2_col11\" class=\"data row2 col11\" >82</td>\n",
              "      <td id=\"T_3c7f8_row2_col12\" class=\"data row2 col12\" >20</td>\n",
              "    </tr>\n",
              "    <tr>\n",
              "      <th id=\"T_3c7f8_level0_row3\" class=\"row_heading level0 row3\" >3</th>\n",
              "      <td id=\"T_3c7f8_row3_col0\" class=\"data row3 col0\" >ST Jayasuriya (Asia/SL)</td>\n",
              "      <td id=\"T_3c7f8_row3_col1\" class=\"data row3 col1\" >1989-2011</td>\n",
              "      <td id=\"T_3c7f8_row3_col2\" class=\"data row3 col2\" >445</td>\n",
              "      <td id=\"T_3c7f8_row3_col3\" class=\"data row3 col3\" >433</td>\n",
              "      <td id=\"T_3c7f8_row3_col4\" class=\"data row3 col4\" >18</td>\n",
              "      <td id=\"T_3c7f8_row3_col5\" class=\"data row3 col5\" >13430</td>\n",
              "      <td id=\"T_3c7f8_row3_col6\" class=\"data row3 col6\" >189</td>\n",
              "      <td id=\"T_3c7f8_row3_col7\" class=\"data row3 col7\" >32.360000</td>\n",
              "      <td id=\"T_3c7f8_row3_col8\" class=\"data row3 col8\" >14725</td>\n",
              "      <td id=\"T_3c7f8_row3_col9\" class=\"data row3 col9\" >91.200000</td>\n",
              "      <td id=\"T_3c7f8_row3_col10\" class=\"data row3 col10\" >28</td>\n",
              "      <td id=\"T_3c7f8_row3_col11\" class=\"data row3 col11\" >68</td>\n",
              "      <td id=\"T_3c7f8_row3_col12\" class=\"data row3 col12\" >34</td>\n",
              "    </tr>\n",
              "    <tr>\n",
              "      <th id=\"T_3c7f8_level0_row4\" class=\"row_heading level0 row4\" >4</th>\n",
              "      <td id=\"T_3c7f8_row4_col0\" class=\"data row4 col0\" >DPMD Jayawardene (Asia/SL)</td>\n",
              "      <td id=\"T_3c7f8_row4_col1\" class=\"data row4 col1\" >1998-2015</td>\n",
              "      <td id=\"T_3c7f8_row4_col2\" class=\"data row4 col2\" >448</td>\n",
              "      <td id=\"T_3c7f8_row4_col3\" class=\"data row4 col3\" >418</td>\n",
              "      <td id=\"T_3c7f8_row4_col4\" class=\"data row4 col4\" >39</td>\n",
              "      <td id=\"T_3c7f8_row4_col5\" class=\"data row4 col5\" >12650</td>\n",
              "      <td id=\"T_3c7f8_row4_col6\" class=\"data row4 col6\" >144</td>\n",
              "      <td id=\"T_3c7f8_row4_col7\" class=\"data row4 col7\" >33.370000</td>\n",
              "      <td id=\"T_3c7f8_row4_col8\" class=\"data row4 col8\" >16020</td>\n",
              "      <td id=\"T_3c7f8_row4_col9\" class=\"data row4 col9\" >78.960000</td>\n",
              "      <td id=\"T_3c7f8_row4_col10\" class=\"data row4 col10\" >19</td>\n",
              "      <td id=\"T_3c7f8_row4_col11\" class=\"data row4 col11\" >77</td>\n",
              "      <td id=\"T_3c7f8_row4_col12\" class=\"data row4 col12\" >28</td>\n",
              "    </tr>\n",
              "  </tbody>\n",
              "</table>\n"
            ]
          },
          "metadata": {},
          "execution_count": 5
        }
      ]
    },
    {
      "cell_type": "markdown",
      "source": [
        "**Insights**\n",
        "  * **1. We need to work on the `HS` Columns**\n",
        "  * **2. Using the `span` column we can find the numner of year that player played in total**"
      ],
      "metadata": {
        "id": "EPqtFgTqV3Oo"
      }
    },
    {
      "cell_type": "markdown",
      "metadata": {
        "id": "X3pjMXVYKFpJ"
      },
      "source": [
        "**Shape Inspection**"
      ]
    },
    {
      "cell_type": "code",
      "source": [
        "a = df.shape\n",
        "print(f'The rows are : {a[0]} and columns are {a[1]}')"
      ],
      "metadata": {
        "colab": {
          "base_uri": "https://localhost:8080/"
        },
        "id": "vScHlgoRVYx3",
        "outputId": "0d65e223-8789-4179-84bf-eea79f483f1e"
      },
      "execution_count": null,
      "outputs": [
        {
          "output_type": "stream",
          "name": "stdout",
          "text": [
            "The rows are : 79 and columns are 13\n"
          ]
        }
      ]
    },
    {
      "cell_type": "markdown",
      "source": [
        "**Columns Inspection**"
      ],
      "metadata": {
        "id": "aQPxq6zbYSpK"
      }
    },
    {
      "cell_type": "code",
      "source": [
        "df.columns"
      ],
      "metadata": {
        "colab": {
          "base_uri": "https://localhost:8080/"
        },
        "id": "wnK3VCUhYMYu",
        "outputId": "79f0b54a-caff-4b36-9932-0e6fece694ca"
      },
      "execution_count": null,
      "outputs": [
        {
          "output_type": "execute_result",
          "data": {
            "text/plain": [
              "Index(['Player', 'Span', 'Mat', 'Inns', 'NO', 'Runs', 'HS', 'Ave', 'BF', 'SR',\n",
              "       '100', '50', '0'],\n",
              "      dtype='object')"
            ]
          },
          "metadata": {},
          "execution_count": 7
        }
      ]
    },
    {
      "cell_type": "markdown",
      "source": [
        "**Information Analysis**"
      ],
      "metadata": {
        "id": "HaA5vDMAYn4J"
      }
    },
    {
      "cell_type": "code",
      "source": [
        "df.info()"
      ],
      "metadata": {
        "colab": {
          "base_uri": "https://localhost:8080/"
        },
        "id": "X6Q_a9sLYWUp",
        "outputId": "825f3b69-5a5f-42ea-c7cc-6653042d6fc3"
      },
      "execution_count": null,
      "outputs": [
        {
          "output_type": "stream",
          "name": "stdout",
          "text": [
            "<class 'pandas.core.frame.DataFrame'>\n",
            "RangeIndex: 79 entries, 0 to 78\n",
            "Data columns (total 13 columns):\n",
            " #   Column  Non-Null Count  Dtype  \n",
            "---  ------  --------------  -----  \n",
            " 0   Player  79 non-null     object \n",
            " 1   Span    79 non-null     object \n",
            " 2   Mat     79 non-null     int64  \n",
            " 3   Inns    79 non-null     int64  \n",
            " 4   NO      79 non-null     int64  \n",
            " 5   Runs    79 non-null     int64  \n",
            " 6   HS      79 non-null     object \n",
            " 7   Ave     79 non-null     float64\n",
            " 8   BF      79 non-null     int64  \n",
            " 9   SR      79 non-null     float64\n",
            " 10  100     79 non-null     int64  \n",
            " 11  50      79 non-null     int64  \n",
            " 12  0       79 non-null     int64  \n",
            "dtypes: float64(2), int64(8), object(3)\n",
            "memory usage: 8.1+ KB\n"
          ]
        }
      ]
    },
    {
      "cell_type": "markdown",
      "source": [
        "**Insights**\n",
        "  * **`HS` is object, it should be numeric**\n",
        "  * **`span` is also object....needs to be transformed into span**\n"
      ],
      "metadata": {
        "id": "tND7tTXNYvd3"
      }
    },
    {
      "cell_type": "markdown",
      "source": [
        "<hr>\n",
        "\n",
        "# **Step 3 - Data Preprocessing / Feature Engineering**"
      ],
      "metadata": {
        "id": "CCIHhf0bZL4G"
      }
    },
    {
      "cell_type": "markdown",
      "source": [
        "**Wokring on the Span Columns**"
      ],
      "metadata": {
        "id": "KP0ungf0ZSfe"
      }
    },
    {
      "cell_type": "code",
      "source": [
        "df[['StartYear', 'EndingYear']] = df['Span'].str.split(\"-\", expand = True)"
      ],
      "metadata": {
        "id": "AVmTDVr9Yr6X"
      },
      "execution_count": null,
      "outputs": []
    },
    {
      "cell_type": "code",
      "source": [
        "df.head().style.set_properties(\n",
        "    **{\n",
        "        'background-color':'#fb9692',\n",
        "        \"color\": 'black',\n",
        "        \"border-color\":'black',\n",
        "        'border-style': 'solid'\n",
        "    }\n",
        ")"
      ],
      "metadata": {
        "colab": {
          "base_uri": "https://localhost:8080/",
          "height": 220
        },
        "id": "_E8hN1prZkKh",
        "outputId": "d2b22f62-16c8-4265-9aee-e05c343158b3"
      },
      "execution_count": null,
      "outputs": [
        {
          "output_type": "execute_result",
          "data": {
            "text/plain": [
              "<pandas.io.formats.style.Styler at 0x7f3090ffbac0>"
            ],
            "text/html": [
              "<style type=\"text/css\">\n",
              "#T_a251b_row0_col0, #T_a251b_row0_col1, #T_a251b_row0_col2, #T_a251b_row0_col3, #T_a251b_row0_col4, #T_a251b_row0_col5, #T_a251b_row0_col6, #T_a251b_row0_col7, #T_a251b_row0_col8, #T_a251b_row0_col9, #T_a251b_row0_col10, #T_a251b_row0_col11, #T_a251b_row0_col12, #T_a251b_row0_col13, #T_a251b_row0_col14, #T_a251b_row1_col0, #T_a251b_row1_col1, #T_a251b_row1_col2, #T_a251b_row1_col3, #T_a251b_row1_col4, #T_a251b_row1_col5, #T_a251b_row1_col6, #T_a251b_row1_col7, #T_a251b_row1_col8, #T_a251b_row1_col9, #T_a251b_row1_col10, #T_a251b_row1_col11, #T_a251b_row1_col12, #T_a251b_row1_col13, #T_a251b_row1_col14, #T_a251b_row2_col0, #T_a251b_row2_col1, #T_a251b_row2_col2, #T_a251b_row2_col3, #T_a251b_row2_col4, #T_a251b_row2_col5, #T_a251b_row2_col6, #T_a251b_row2_col7, #T_a251b_row2_col8, #T_a251b_row2_col9, #T_a251b_row2_col10, #T_a251b_row2_col11, #T_a251b_row2_col12, #T_a251b_row2_col13, #T_a251b_row2_col14, #T_a251b_row3_col0, #T_a251b_row3_col1, #T_a251b_row3_col2, #T_a251b_row3_col3, #T_a251b_row3_col4, #T_a251b_row3_col5, #T_a251b_row3_col6, #T_a251b_row3_col7, #T_a251b_row3_col8, #T_a251b_row3_col9, #T_a251b_row3_col10, #T_a251b_row3_col11, #T_a251b_row3_col12, #T_a251b_row3_col13, #T_a251b_row3_col14, #T_a251b_row4_col0, #T_a251b_row4_col1, #T_a251b_row4_col2, #T_a251b_row4_col3, #T_a251b_row4_col4, #T_a251b_row4_col5, #T_a251b_row4_col6, #T_a251b_row4_col7, #T_a251b_row4_col8, #T_a251b_row4_col9, #T_a251b_row4_col10, #T_a251b_row4_col11, #T_a251b_row4_col12, #T_a251b_row4_col13, #T_a251b_row4_col14 {\n",
              "  background-color: #fb9692;\n",
              "  color: black;\n",
              "  border-color: black;\n",
              "  border-style: solid;\n",
              "}\n",
              "</style>\n",
              "<table id=\"T_a251b\" class=\"dataframe\">\n",
              "  <thead>\n",
              "    <tr>\n",
              "      <th class=\"blank level0\" >&nbsp;</th>\n",
              "      <th id=\"T_a251b_level0_col0\" class=\"col_heading level0 col0\" >Player</th>\n",
              "      <th id=\"T_a251b_level0_col1\" class=\"col_heading level0 col1\" >Span</th>\n",
              "      <th id=\"T_a251b_level0_col2\" class=\"col_heading level0 col2\" >Mat</th>\n",
              "      <th id=\"T_a251b_level0_col3\" class=\"col_heading level0 col3\" >Inns</th>\n",
              "      <th id=\"T_a251b_level0_col4\" class=\"col_heading level0 col4\" >NO</th>\n",
              "      <th id=\"T_a251b_level0_col5\" class=\"col_heading level0 col5\" >Runs</th>\n",
              "      <th id=\"T_a251b_level0_col6\" class=\"col_heading level0 col6\" >HS</th>\n",
              "      <th id=\"T_a251b_level0_col7\" class=\"col_heading level0 col7\" >Ave</th>\n",
              "      <th id=\"T_a251b_level0_col8\" class=\"col_heading level0 col8\" >BF</th>\n",
              "      <th id=\"T_a251b_level0_col9\" class=\"col_heading level0 col9\" >SR</th>\n",
              "      <th id=\"T_a251b_level0_col10\" class=\"col_heading level0 col10\" >100</th>\n",
              "      <th id=\"T_a251b_level0_col11\" class=\"col_heading level0 col11\" >50</th>\n",
              "      <th id=\"T_a251b_level0_col12\" class=\"col_heading level0 col12\" >0</th>\n",
              "      <th id=\"T_a251b_level0_col13\" class=\"col_heading level0 col13\" >StartYear</th>\n",
              "      <th id=\"T_a251b_level0_col14\" class=\"col_heading level0 col14\" >EndingYear</th>\n",
              "    </tr>\n",
              "  </thead>\n",
              "  <tbody>\n",
              "    <tr>\n",
              "      <th id=\"T_a251b_level0_row0\" class=\"row_heading level0 row0\" >0</th>\n",
              "      <td id=\"T_a251b_row0_col0\" class=\"data row0 col0\" >SR Tendulkar (INDIA)</td>\n",
              "      <td id=\"T_a251b_row0_col1\" class=\"data row0 col1\" >1989-2012</td>\n",
              "      <td id=\"T_a251b_row0_col2\" class=\"data row0 col2\" >463</td>\n",
              "      <td id=\"T_a251b_row0_col3\" class=\"data row0 col3\" >452</td>\n",
              "      <td id=\"T_a251b_row0_col4\" class=\"data row0 col4\" >41</td>\n",
              "      <td id=\"T_a251b_row0_col5\" class=\"data row0 col5\" >18426</td>\n",
              "      <td id=\"T_a251b_row0_col6\" class=\"data row0 col6\" >200*</td>\n",
              "      <td id=\"T_a251b_row0_col7\" class=\"data row0 col7\" >44.830000</td>\n",
              "      <td id=\"T_a251b_row0_col8\" class=\"data row0 col8\" >21367</td>\n",
              "      <td id=\"T_a251b_row0_col9\" class=\"data row0 col9\" >86.230000</td>\n",
              "      <td id=\"T_a251b_row0_col10\" class=\"data row0 col10\" >49</td>\n",
              "      <td id=\"T_a251b_row0_col11\" class=\"data row0 col11\" >96</td>\n",
              "      <td id=\"T_a251b_row0_col12\" class=\"data row0 col12\" >20</td>\n",
              "      <td id=\"T_a251b_row0_col13\" class=\"data row0 col13\" >1989</td>\n",
              "      <td id=\"T_a251b_row0_col14\" class=\"data row0 col14\" >2012</td>\n",
              "    </tr>\n",
              "    <tr>\n",
              "      <th id=\"T_a251b_level0_row1\" class=\"row_heading level0 row1\" >1</th>\n",
              "      <td id=\"T_a251b_row1_col0\" class=\"data row1 col0\" >KC Sangakkara (Asia/ICC/SL)</td>\n",
              "      <td id=\"T_a251b_row1_col1\" class=\"data row1 col1\" >2000-2015</td>\n",
              "      <td id=\"T_a251b_row1_col2\" class=\"data row1 col2\" >404</td>\n",
              "      <td id=\"T_a251b_row1_col3\" class=\"data row1 col3\" >380</td>\n",
              "      <td id=\"T_a251b_row1_col4\" class=\"data row1 col4\" >41</td>\n",
              "      <td id=\"T_a251b_row1_col5\" class=\"data row1 col5\" >14234</td>\n",
              "      <td id=\"T_a251b_row1_col6\" class=\"data row1 col6\" >169</td>\n",
              "      <td id=\"T_a251b_row1_col7\" class=\"data row1 col7\" >41.980000</td>\n",
              "      <td id=\"T_a251b_row1_col8\" class=\"data row1 col8\" >18048</td>\n",
              "      <td id=\"T_a251b_row1_col9\" class=\"data row1 col9\" >78.860000</td>\n",
              "      <td id=\"T_a251b_row1_col10\" class=\"data row1 col10\" >25</td>\n",
              "      <td id=\"T_a251b_row1_col11\" class=\"data row1 col11\" >93</td>\n",
              "      <td id=\"T_a251b_row1_col12\" class=\"data row1 col12\" >15</td>\n",
              "      <td id=\"T_a251b_row1_col13\" class=\"data row1 col13\" >2000</td>\n",
              "      <td id=\"T_a251b_row1_col14\" class=\"data row1 col14\" >2015</td>\n",
              "    </tr>\n",
              "    <tr>\n",
              "      <th id=\"T_a251b_level0_row2\" class=\"row_heading level0 row2\" >2</th>\n",
              "      <td id=\"T_a251b_row2_col0\" class=\"data row2 col0\" >RT Ponting (AUS/ICC)</td>\n",
              "      <td id=\"T_a251b_row2_col1\" class=\"data row2 col1\" >1995-2012</td>\n",
              "      <td id=\"T_a251b_row2_col2\" class=\"data row2 col2\" >375</td>\n",
              "      <td id=\"T_a251b_row2_col3\" class=\"data row2 col3\" >365</td>\n",
              "      <td id=\"T_a251b_row2_col4\" class=\"data row2 col4\" >39</td>\n",
              "      <td id=\"T_a251b_row2_col5\" class=\"data row2 col5\" >13704</td>\n",
              "      <td id=\"T_a251b_row2_col6\" class=\"data row2 col6\" >164</td>\n",
              "      <td id=\"T_a251b_row2_col7\" class=\"data row2 col7\" >42.030000</td>\n",
              "      <td id=\"T_a251b_row2_col8\" class=\"data row2 col8\" >17046</td>\n",
              "      <td id=\"T_a251b_row2_col9\" class=\"data row2 col9\" >80.390000</td>\n",
              "      <td id=\"T_a251b_row2_col10\" class=\"data row2 col10\" >30</td>\n",
              "      <td id=\"T_a251b_row2_col11\" class=\"data row2 col11\" >82</td>\n",
              "      <td id=\"T_a251b_row2_col12\" class=\"data row2 col12\" >20</td>\n",
              "      <td id=\"T_a251b_row2_col13\" class=\"data row2 col13\" >1995</td>\n",
              "      <td id=\"T_a251b_row2_col14\" class=\"data row2 col14\" >2012</td>\n",
              "    </tr>\n",
              "    <tr>\n",
              "      <th id=\"T_a251b_level0_row3\" class=\"row_heading level0 row3\" >3</th>\n",
              "      <td id=\"T_a251b_row3_col0\" class=\"data row3 col0\" >ST Jayasuriya (Asia/SL)</td>\n",
              "      <td id=\"T_a251b_row3_col1\" class=\"data row3 col1\" >1989-2011</td>\n",
              "      <td id=\"T_a251b_row3_col2\" class=\"data row3 col2\" >445</td>\n",
              "      <td id=\"T_a251b_row3_col3\" class=\"data row3 col3\" >433</td>\n",
              "      <td id=\"T_a251b_row3_col4\" class=\"data row3 col4\" >18</td>\n",
              "      <td id=\"T_a251b_row3_col5\" class=\"data row3 col5\" >13430</td>\n",
              "      <td id=\"T_a251b_row3_col6\" class=\"data row3 col6\" >189</td>\n",
              "      <td id=\"T_a251b_row3_col7\" class=\"data row3 col7\" >32.360000</td>\n",
              "      <td id=\"T_a251b_row3_col8\" class=\"data row3 col8\" >14725</td>\n",
              "      <td id=\"T_a251b_row3_col9\" class=\"data row3 col9\" >91.200000</td>\n",
              "      <td id=\"T_a251b_row3_col10\" class=\"data row3 col10\" >28</td>\n",
              "      <td id=\"T_a251b_row3_col11\" class=\"data row3 col11\" >68</td>\n",
              "      <td id=\"T_a251b_row3_col12\" class=\"data row3 col12\" >34</td>\n",
              "      <td id=\"T_a251b_row3_col13\" class=\"data row3 col13\" >1989</td>\n",
              "      <td id=\"T_a251b_row3_col14\" class=\"data row3 col14\" >2011</td>\n",
              "    </tr>\n",
              "    <tr>\n",
              "      <th id=\"T_a251b_level0_row4\" class=\"row_heading level0 row4\" >4</th>\n",
              "      <td id=\"T_a251b_row4_col0\" class=\"data row4 col0\" >DPMD Jayawardene (Asia/SL)</td>\n",
              "      <td id=\"T_a251b_row4_col1\" class=\"data row4 col1\" >1998-2015</td>\n",
              "      <td id=\"T_a251b_row4_col2\" class=\"data row4 col2\" >448</td>\n",
              "      <td id=\"T_a251b_row4_col3\" class=\"data row4 col3\" >418</td>\n",
              "      <td id=\"T_a251b_row4_col4\" class=\"data row4 col4\" >39</td>\n",
              "      <td id=\"T_a251b_row4_col5\" class=\"data row4 col5\" >12650</td>\n",
              "      <td id=\"T_a251b_row4_col6\" class=\"data row4 col6\" >144</td>\n",
              "      <td id=\"T_a251b_row4_col7\" class=\"data row4 col7\" >33.370000</td>\n",
              "      <td id=\"T_a251b_row4_col8\" class=\"data row4 col8\" >16020</td>\n",
              "      <td id=\"T_a251b_row4_col9\" class=\"data row4 col9\" >78.960000</td>\n",
              "      <td id=\"T_a251b_row4_col10\" class=\"data row4 col10\" >19</td>\n",
              "      <td id=\"T_a251b_row4_col11\" class=\"data row4 col11\" >77</td>\n",
              "      <td id=\"T_a251b_row4_col12\" class=\"data row4 col12\" >28</td>\n",
              "      <td id=\"T_a251b_row4_col13\" class=\"data row4 col13\" >1998</td>\n",
              "      <td id=\"T_a251b_row4_col14\" class=\"data row4 col14\" >2015</td>\n",
              "    </tr>\n",
              "  </tbody>\n",
              "</table>\n"
            ]
          },
          "metadata": {},
          "execution_count": 10
        }
      ]
    },
    {
      "cell_type": "markdown",
      "source": [
        "**Checking for the datatype inorder to find experience**"
      ],
      "metadata": {
        "id": "ZQ3T7wiRagoB"
      }
    },
    {
      "cell_type": "code",
      "source": [
        "df[\"StartYear\"].dtype"
      ],
      "metadata": {
        "colab": {
          "base_uri": "https://localhost:8080/"
        },
        "id": "RHS0x3tuaIO4",
        "outputId": "4e573046-1838-43ff-8ba1-2cef96d7548d"
      },
      "execution_count": null,
      "outputs": [
        {
          "output_type": "execute_result",
          "data": {
            "text/plain": [
              "dtype('O')"
            ]
          },
          "metadata": {},
          "execution_count": 11
        }
      ]
    },
    {
      "cell_type": "markdown",
      "source": [
        "Since this data is in object, we need to typecast to formulate the experience"
      ],
      "metadata": {
        "id": "1ngKv60Barxq"
      }
    },
    {
      "cell_type": "code",
      "source": [
        "df[['StartYear', 'EndingYear']] = df[['StartYear', 'EndingYear']].astype(int)"
      ],
      "metadata": {
        "id": "lIODWa2Jalwk"
      },
      "execution_count": null,
      "outputs": []
    },
    {
      "cell_type": "code",
      "source": [
        "df[\"StartYear\"].dtype"
      ],
      "metadata": {
        "colab": {
          "base_uri": "https://localhost:8080/"
        },
        "id": "SS1nVizna3TZ",
        "outputId": "d4111c90-289a-452e-d34a-cf174d9212a3"
      },
      "execution_count": null,
      "outputs": [
        {
          "output_type": "execute_result",
          "data": {
            "text/plain": [
              "dtype('int64')"
            ]
          },
          "metadata": {},
          "execution_count": 13
        }
      ]
    },
    {
      "cell_type": "markdown",
      "source": [
        "Working with the experience columns"
      ],
      "metadata": {
        "id": "0Aa4EeDNa6UD"
      }
    },
    {
      "cell_type": "code",
      "source": [
        "df['Experience'] = df['EndingYear'] - df['StartYear']"
      ],
      "metadata": {
        "id": "v6TEEVi0a40f"
      },
      "execution_count": null,
      "outputs": []
    },
    {
      "cell_type": "code",
      "source": [
        "df['Experience']"
      ],
      "metadata": {
        "colab": {
          "base_uri": "https://localhost:8080/"
        },
        "id": "jxQLTc2JbDOt",
        "outputId": "0d1ce0c9-77bf-4f30-9634-6a92373bd518"
      },
      "execution_count": null,
      "outputs": [
        {
          "output_type": "execute_result",
          "data": {
            "text/plain": [
              "0     23\n",
              "1     15\n",
              "2     17\n",
              "3     22\n",
              "4     17\n",
              "      ..\n",
              "74    16\n",
              "75    13\n",
              "76    10\n",
              "77    11\n",
              "78    15\n",
              "Name: Experience, Length: 79, dtype: int64"
            ]
          },
          "metadata": {},
          "execution_count": 15
        }
      ]
    },
    {
      "cell_type": "code",
      "source": [
        "df['Experience'].value_counts()"
      ],
      "metadata": {
        "colab": {
          "base_uri": "https://localhost:8080/"
        },
        "id": "prra83gPbNYo",
        "outputId": "9c0497a7-60eb-4715-fe1c-5c738bbdaeaf"
      },
      "execution_count": null,
      "outputs": [
        {
          "output_type": "execute_result",
          "data": {
            "text/plain": [
              "11    10\n",
              "17     9\n",
              "15     8\n",
              "16     8\n",
              "14     8\n",
              "10     8\n",
              "12     7\n",
              "13     7\n",
              "8      4\n",
              "18     3\n",
              "19     2\n",
              "9      2\n",
              "23     1\n",
              "22     1\n",
              "21     1\n",
              "Name: Experience, dtype: int64"
            ]
          },
          "metadata": {},
          "execution_count": 16
        }
      ]
    },
    {
      "cell_type": "code",
      "source": [
        "df.head().style.set_properties(\n",
        "    **{\n",
        "        'background-color':'#d09586',\n",
        "        \"color\": 'black',\n",
        "        \"border-color\":'black',\n",
        "        'border-style': 'solid'\n",
        "    }\n",
        ")"
      ],
      "metadata": {
        "colab": {
          "base_uri": "https://localhost:8080/",
          "height": 220
        },
        "id": "OP9rHIHib3K7",
        "outputId": "d1fc413f-1ae7-48bd-ad5e-e0bd3a5987f2"
      },
      "execution_count": null,
      "outputs": [
        {
          "output_type": "execute_result",
          "data": {
            "text/plain": [
              "<pandas.io.formats.style.Styler at 0x7f3090ffbf10>"
            ],
            "text/html": [
              "<style type=\"text/css\">\n",
              "#T_8dadc_row0_col0, #T_8dadc_row0_col1, #T_8dadc_row0_col2, #T_8dadc_row0_col3, #T_8dadc_row0_col4, #T_8dadc_row0_col5, #T_8dadc_row0_col6, #T_8dadc_row0_col7, #T_8dadc_row0_col8, #T_8dadc_row0_col9, #T_8dadc_row0_col10, #T_8dadc_row0_col11, #T_8dadc_row0_col12, #T_8dadc_row0_col13, #T_8dadc_row0_col14, #T_8dadc_row0_col15, #T_8dadc_row1_col0, #T_8dadc_row1_col1, #T_8dadc_row1_col2, #T_8dadc_row1_col3, #T_8dadc_row1_col4, #T_8dadc_row1_col5, #T_8dadc_row1_col6, #T_8dadc_row1_col7, #T_8dadc_row1_col8, #T_8dadc_row1_col9, #T_8dadc_row1_col10, #T_8dadc_row1_col11, #T_8dadc_row1_col12, #T_8dadc_row1_col13, #T_8dadc_row1_col14, #T_8dadc_row1_col15, #T_8dadc_row2_col0, #T_8dadc_row2_col1, #T_8dadc_row2_col2, #T_8dadc_row2_col3, #T_8dadc_row2_col4, #T_8dadc_row2_col5, #T_8dadc_row2_col6, #T_8dadc_row2_col7, #T_8dadc_row2_col8, #T_8dadc_row2_col9, #T_8dadc_row2_col10, #T_8dadc_row2_col11, #T_8dadc_row2_col12, #T_8dadc_row2_col13, #T_8dadc_row2_col14, #T_8dadc_row2_col15, #T_8dadc_row3_col0, #T_8dadc_row3_col1, #T_8dadc_row3_col2, #T_8dadc_row3_col3, #T_8dadc_row3_col4, #T_8dadc_row3_col5, #T_8dadc_row3_col6, #T_8dadc_row3_col7, #T_8dadc_row3_col8, #T_8dadc_row3_col9, #T_8dadc_row3_col10, #T_8dadc_row3_col11, #T_8dadc_row3_col12, #T_8dadc_row3_col13, #T_8dadc_row3_col14, #T_8dadc_row3_col15, #T_8dadc_row4_col0, #T_8dadc_row4_col1, #T_8dadc_row4_col2, #T_8dadc_row4_col3, #T_8dadc_row4_col4, #T_8dadc_row4_col5, #T_8dadc_row4_col6, #T_8dadc_row4_col7, #T_8dadc_row4_col8, #T_8dadc_row4_col9, #T_8dadc_row4_col10, #T_8dadc_row4_col11, #T_8dadc_row4_col12, #T_8dadc_row4_col13, #T_8dadc_row4_col14, #T_8dadc_row4_col15 {\n",
              "  background-color: #d09586;\n",
              "  color: black;\n",
              "  border-color: black;\n",
              "  border-style: solid;\n",
              "}\n",
              "</style>\n",
              "<table id=\"T_8dadc\" class=\"dataframe\">\n",
              "  <thead>\n",
              "    <tr>\n",
              "      <th class=\"blank level0\" >&nbsp;</th>\n",
              "      <th id=\"T_8dadc_level0_col0\" class=\"col_heading level0 col0\" >Player</th>\n",
              "      <th id=\"T_8dadc_level0_col1\" class=\"col_heading level0 col1\" >Span</th>\n",
              "      <th id=\"T_8dadc_level0_col2\" class=\"col_heading level0 col2\" >Mat</th>\n",
              "      <th id=\"T_8dadc_level0_col3\" class=\"col_heading level0 col3\" >Inns</th>\n",
              "      <th id=\"T_8dadc_level0_col4\" class=\"col_heading level0 col4\" >NO</th>\n",
              "      <th id=\"T_8dadc_level0_col5\" class=\"col_heading level0 col5\" >Runs</th>\n",
              "      <th id=\"T_8dadc_level0_col6\" class=\"col_heading level0 col6\" >HS</th>\n",
              "      <th id=\"T_8dadc_level0_col7\" class=\"col_heading level0 col7\" >Ave</th>\n",
              "      <th id=\"T_8dadc_level0_col8\" class=\"col_heading level0 col8\" >BF</th>\n",
              "      <th id=\"T_8dadc_level0_col9\" class=\"col_heading level0 col9\" >SR</th>\n",
              "      <th id=\"T_8dadc_level0_col10\" class=\"col_heading level0 col10\" >100</th>\n",
              "      <th id=\"T_8dadc_level0_col11\" class=\"col_heading level0 col11\" >50</th>\n",
              "      <th id=\"T_8dadc_level0_col12\" class=\"col_heading level0 col12\" >0</th>\n",
              "      <th id=\"T_8dadc_level0_col13\" class=\"col_heading level0 col13\" >StartYear</th>\n",
              "      <th id=\"T_8dadc_level0_col14\" class=\"col_heading level0 col14\" >EndingYear</th>\n",
              "      <th id=\"T_8dadc_level0_col15\" class=\"col_heading level0 col15\" >Experience</th>\n",
              "    </tr>\n",
              "  </thead>\n",
              "  <tbody>\n",
              "    <tr>\n",
              "      <th id=\"T_8dadc_level0_row0\" class=\"row_heading level0 row0\" >0</th>\n",
              "      <td id=\"T_8dadc_row0_col0\" class=\"data row0 col0\" >SR Tendulkar (INDIA)</td>\n",
              "      <td id=\"T_8dadc_row0_col1\" class=\"data row0 col1\" >1989-2012</td>\n",
              "      <td id=\"T_8dadc_row0_col2\" class=\"data row0 col2\" >463</td>\n",
              "      <td id=\"T_8dadc_row0_col3\" class=\"data row0 col3\" >452</td>\n",
              "      <td id=\"T_8dadc_row0_col4\" class=\"data row0 col4\" >41</td>\n",
              "      <td id=\"T_8dadc_row0_col5\" class=\"data row0 col5\" >18426</td>\n",
              "      <td id=\"T_8dadc_row0_col6\" class=\"data row0 col6\" >200*</td>\n",
              "      <td id=\"T_8dadc_row0_col7\" class=\"data row0 col7\" >44.830000</td>\n",
              "      <td id=\"T_8dadc_row0_col8\" class=\"data row0 col8\" >21367</td>\n",
              "      <td id=\"T_8dadc_row0_col9\" class=\"data row0 col9\" >86.230000</td>\n",
              "      <td id=\"T_8dadc_row0_col10\" class=\"data row0 col10\" >49</td>\n",
              "      <td id=\"T_8dadc_row0_col11\" class=\"data row0 col11\" >96</td>\n",
              "      <td id=\"T_8dadc_row0_col12\" class=\"data row0 col12\" >20</td>\n",
              "      <td id=\"T_8dadc_row0_col13\" class=\"data row0 col13\" >1989</td>\n",
              "      <td id=\"T_8dadc_row0_col14\" class=\"data row0 col14\" >2012</td>\n",
              "      <td id=\"T_8dadc_row0_col15\" class=\"data row0 col15\" >23</td>\n",
              "    </tr>\n",
              "    <tr>\n",
              "      <th id=\"T_8dadc_level0_row1\" class=\"row_heading level0 row1\" >1</th>\n",
              "      <td id=\"T_8dadc_row1_col0\" class=\"data row1 col0\" >KC Sangakkara (Asia/ICC/SL)</td>\n",
              "      <td id=\"T_8dadc_row1_col1\" class=\"data row1 col1\" >2000-2015</td>\n",
              "      <td id=\"T_8dadc_row1_col2\" class=\"data row1 col2\" >404</td>\n",
              "      <td id=\"T_8dadc_row1_col3\" class=\"data row1 col3\" >380</td>\n",
              "      <td id=\"T_8dadc_row1_col4\" class=\"data row1 col4\" >41</td>\n",
              "      <td id=\"T_8dadc_row1_col5\" class=\"data row1 col5\" >14234</td>\n",
              "      <td id=\"T_8dadc_row1_col6\" class=\"data row1 col6\" >169</td>\n",
              "      <td id=\"T_8dadc_row1_col7\" class=\"data row1 col7\" >41.980000</td>\n",
              "      <td id=\"T_8dadc_row1_col8\" class=\"data row1 col8\" >18048</td>\n",
              "      <td id=\"T_8dadc_row1_col9\" class=\"data row1 col9\" >78.860000</td>\n",
              "      <td id=\"T_8dadc_row1_col10\" class=\"data row1 col10\" >25</td>\n",
              "      <td id=\"T_8dadc_row1_col11\" class=\"data row1 col11\" >93</td>\n",
              "      <td id=\"T_8dadc_row1_col12\" class=\"data row1 col12\" >15</td>\n",
              "      <td id=\"T_8dadc_row1_col13\" class=\"data row1 col13\" >2000</td>\n",
              "      <td id=\"T_8dadc_row1_col14\" class=\"data row1 col14\" >2015</td>\n",
              "      <td id=\"T_8dadc_row1_col15\" class=\"data row1 col15\" >15</td>\n",
              "    </tr>\n",
              "    <tr>\n",
              "      <th id=\"T_8dadc_level0_row2\" class=\"row_heading level0 row2\" >2</th>\n",
              "      <td id=\"T_8dadc_row2_col0\" class=\"data row2 col0\" >RT Ponting (AUS/ICC)</td>\n",
              "      <td id=\"T_8dadc_row2_col1\" class=\"data row2 col1\" >1995-2012</td>\n",
              "      <td id=\"T_8dadc_row2_col2\" class=\"data row2 col2\" >375</td>\n",
              "      <td id=\"T_8dadc_row2_col3\" class=\"data row2 col3\" >365</td>\n",
              "      <td id=\"T_8dadc_row2_col4\" class=\"data row2 col4\" >39</td>\n",
              "      <td id=\"T_8dadc_row2_col5\" class=\"data row2 col5\" >13704</td>\n",
              "      <td id=\"T_8dadc_row2_col6\" class=\"data row2 col6\" >164</td>\n",
              "      <td id=\"T_8dadc_row2_col7\" class=\"data row2 col7\" >42.030000</td>\n",
              "      <td id=\"T_8dadc_row2_col8\" class=\"data row2 col8\" >17046</td>\n",
              "      <td id=\"T_8dadc_row2_col9\" class=\"data row2 col9\" >80.390000</td>\n",
              "      <td id=\"T_8dadc_row2_col10\" class=\"data row2 col10\" >30</td>\n",
              "      <td id=\"T_8dadc_row2_col11\" class=\"data row2 col11\" >82</td>\n",
              "      <td id=\"T_8dadc_row2_col12\" class=\"data row2 col12\" >20</td>\n",
              "      <td id=\"T_8dadc_row2_col13\" class=\"data row2 col13\" >1995</td>\n",
              "      <td id=\"T_8dadc_row2_col14\" class=\"data row2 col14\" >2012</td>\n",
              "      <td id=\"T_8dadc_row2_col15\" class=\"data row2 col15\" >17</td>\n",
              "    </tr>\n",
              "    <tr>\n",
              "      <th id=\"T_8dadc_level0_row3\" class=\"row_heading level0 row3\" >3</th>\n",
              "      <td id=\"T_8dadc_row3_col0\" class=\"data row3 col0\" >ST Jayasuriya (Asia/SL)</td>\n",
              "      <td id=\"T_8dadc_row3_col1\" class=\"data row3 col1\" >1989-2011</td>\n",
              "      <td id=\"T_8dadc_row3_col2\" class=\"data row3 col2\" >445</td>\n",
              "      <td id=\"T_8dadc_row3_col3\" class=\"data row3 col3\" >433</td>\n",
              "      <td id=\"T_8dadc_row3_col4\" class=\"data row3 col4\" >18</td>\n",
              "      <td id=\"T_8dadc_row3_col5\" class=\"data row3 col5\" >13430</td>\n",
              "      <td id=\"T_8dadc_row3_col6\" class=\"data row3 col6\" >189</td>\n",
              "      <td id=\"T_8dadc_row3_col7\" class=\"data row3 col7\" >32.360000</td>\n",
              "      <td id=\"T_8dadc_row3_col8\" class=\"data row3 col8\" >14725</td>\n",
              "      <td id=\"T_8dadc_row3_col9\" class=\"data row3 col9\" >91.200000</td>\n",
              "      <td id=\"T_8dadc_row3_col10\" class=\"data row3 col10\" >28</td>\n",
              "      <td id=\"T_8dadc_row3_col11\" class=\"data row3 col11\" >68</td>\n",
              "      <td id=\"T_8dadc_row3_col12\" class=\"data row3 col12\" >34</td>\n",
              "      <td id=\"T_8dadc_row3_col13\" class=\"data row3 col13\" >1989</td>\n",
              "      <td id=\"T_8dadc_row3_col14\" class=\"data row3 col14\" >2011</td>\n",
              "      <td id=\"T_8dadc_row3_col15\" class=\"data row3 col15\" >22</td>\n",
              "    </tr>\n",
              "    <tr>\n",
              "      <th id=\"T_8dadc_level0_row4\" class=\"row_heading level0 row4\" >4</th>\n",
              "      <td id=\"T_8dadc_row4_col0\" class=\"data row4 col0\" >DPMD Jayawardene (Asia/SL)</td>\n",
              "      <td id=\"T_8dadc_row4_col1\" class=\"data row4 col1\" >1998-2015</td>\n",
              "      <td id=\"T_8dadc_row4_col2\" class=\"data row4 col2\" >448</td>\n",
              "      <td id=\"T_8dadc_row4_col3\" class=\"data row4 col3\" >418</td>\n",
              "      <td id=\"T_8dadc_row4_col4\" class=\"data row4 col4\" >39</td>\n",
              "      <td id=\"T_8dadc_row4_col5\" class=\"data row4 col5\" >12650</td>\n",
              "      <td id=\"T_8dadc_row4_col6\" class=\"data row4 col6\" >144</td>\n",
              "      <td id=\"T_8dadc_row4_col7\" class=\"data row4 col7\" >33.370000</td>\n",
              "      <td id=\"T_8dadc_row4_col8\" class=\"data row4 col8\" >16020</td>\n",
              "      <td id=\"T_8dadc_row4_col9\" class=\"data row4 col9\" >78.960000</td>\n",
              "      <td id=\"T_8dadc_row4_col10\" class=\"data row4 col10\" >19</td>\n",
              "      <td id=\"T_8dadc_row4_col11\" class=\"data row4 col11\" >77</td>\n",
              "      <td id=\"T_8dadc_row4_col12\" class=\"data row4 col12\" >28</td>\n",
              "      <td id=\"T_8dadc_row4_col13\" class=\"data row4 col13\" >1998</td>\n",
              "      <td id=\"T_8dadc_row4_col14\" class=\"data row4 col14\" >2015</td>\n",
              "      <td id=\"T_8dadc_row4_col15\" class=\"data row4 col15\" >17</td>\n",
              "    </tr>\n",
              "  </tbody>\n",
              "</table>\n"
            ]
          },
          "metadata": {},
          "execution_count": 17
        }
      ]
    },
    {
      "cell_type": "markdown",
      "source": [
        "**Insights**\n",
        "  **Most of the players are having the experience in between 10 - 17 years**"
      ],
      "metadata": {
        "id": "-VfVvpM2bics"
      }
    },
    {
      "cell_type": "markdown",
      "source": [
        "<hr>\n",
        "\n",
        "**Working with the `HS`**"
      ],
      "metadata": {
        "id": "o0IM2DRhbrDT"
      }
    },
    {
      "cell_type": "code",
      "source": [
        "df['HS'].value_counts()"
      ],
      "metadata": {
        "colab": {
          "base_uri": "https://localhost:8080/"
        },
        "id": "9cUwhO-MbVR0",
        "outputId": "fd26103b-7c88-46d7-cc9c-26df78cf7aff"
      },
      "execution_count": null,
      "outputs": [
        {
          "output_type": "execute_result",
          "data": {
            "text/plain": [
              "119*    3\n",
              "145     3\n",
              "120*    3\n",
              "131*    3\n",
              "169     2\n",
              "       ..\n",
              "124     1\n",
              "134*    1\n",
              "130     1\n",
              "159     1\n",
              "156     1\n",
              "Name: HS, Length: 62, dtype: int64"
            ]
          },
          "metadata": {},
          "execution_count": 18
        }
      ]
    },
    {
      "cell_type": "markdown",
      "source": [
        "***Making a dataset specifically for HS, for better formulation**"
      ],
      "metadata": {
        "id": "DnUNkJ12cbKK"
      }
    },
    {
      "cell_type": "code",
      "source": [
        "df2 = df['HS']"
      ],
      "metadata": {
        "id": "ryhzl43TcIJ-"
      },
      "execution_count": null,
      "outputs": []
    },
    {
      "cell_type": "code",
      "source": [
        "df2.to_string()"
      ],
      "metadata": {
        "colab": {
          "base_uri": "https://localhost:8080/",
          "height": 122
        },
        "id": "e9sA-DKvce2X",
        "outputId": "6a24c792-3d64-4035-9897-016ed386e987"
      },
      "execution_count": null,
      "outputs": [
        {
          "output_type": "execute_result",
          "data": {
            "text/plain": [
              "'0     200*\\n1      169\\n2      164\\n3      189\\n4      144\\n5     137*\\n6      139\\n7      183\\n8      153\\n9      169\\n10    161*\\n11    141*\\n12     172\\n13    183*\\n14    153*\\n15    162*\\n16     145\\n17     215\\n18     194\\n19     150\\n20     150\\n21    152*\\n22    132*\\n23     173\\n24     219\\n25     183\\n26     175\\n27     124\\n28    134*\\n29     130\\n30    120*\\n31    131*\\n32    119*\\n33     144\\n34     159\\n35     102\\n36    145*\\n37     141\\n38    108*\\n39    188*\\n40     145\\n41     143\\n42    189*\\n43    142*\\n44    139*\\n45    127*\\n46    131*\\n47     122\\n48    174*\\n49    181*\\n50     166\\n51     145\\n52     122\\n53     121\\n54    140*\\n55    119*\\n56    120*\\n57    124*\\n58    113*\\n59    185*\\n60     154\\n61    116*\\n62     112\\n63    237*\\n64    109*\\n65     264\\n66     141\\n67     119\\n68    144*\\n69    145*\\n70    150*\\n71    131*\\n72    133*\\n73    119*\\n74    133*\\n75     96*\\n76    120*\\n77     156\\n78     112'"
            ],
            "application/vnd.google.colaboratory.intrinsic+json": {
              "type": "string"
            }
          },
          "metadata": {},
          "execution_count": 20
        }
      ]
    },
    {
      "cell_type": "markdown",
      "source": [
        "**How to work upon the data**"
      ],
      "metadata": {
        "id": "LIxHN5Jzc-SB"
      }
    },
    {
      "cell_type": "code",
      "source": [
        "df[['HS', 'Extra']] = df['HS'].str.split('*', expand = True)"
      ],
      "metadata": {
        "id": "QXLpMq7zcfiP"
      },
      "execution_count": null,
      "outputs": []
    },
    {
      "cell_type": "markdown",
      "source": [
        "**Check for the values**"
      ],
      "metadata": {
        "id": "Qxe4WOU2B8Lv"
      }
    },
    {
      "cell_type": "code",
      "source": [
        "df['HS']"
      ],
      "metadata": {
        "colab": {
          "base_uri": "https://localhost:8080/"
        },
        "id": "082bRlKJB9xH",
        "outputId": "b408e75d-cfbb-4928-900e-d72a5bf98cd0"
      },
      "execution_count": null,
      "outputs": [
        {
          "output_type": "execute_result",
          "data": {
            "text/plain": [
              "0     200\n",
              "1     169\n",
              "2     164\n",
              "3     189\n",
              "4     144\n",
              "     ... \n",
              "74    133\n",
              "75     96\n",
              "76    120\n",
              "77    156\n",
              "78    112\n",
              "Name: HS, Length: 79, dtype: object"
            ]
          },
          "metadata": {},
          "execution_count": 22
        }
      ]
    },
    {
      "cell_type": "code",
      "source": [
        "df['Extra']"
      ],
      "metadata": {
        "colab": {
          "base_uri": "https://localhost:8080/"
        },
        "id": "_XkkzyAQB_yE",
        "outputId": "379c07b6-b798-4483-a389-906c2a7830f1"
      },
      "execution_count": null,
      "outputs": [
        {
          "output_type": "execute_result",
          "data": {
            "text/plain": [
              "0         \n",
              "1     None\n",
              "2     None\n",
              "3     None\n",
              "4     None\n",
              "      ... \n",
              "74        \n",
              "75        \n",
              "76        \n",
              "77    None\n",
              "78    None\n",
              "Name: Extra, Length: 79, dtype: object"
            ]
          },
          "metadata": {},
          "execution_count": 23
        }
      ]
    },
    {
      "cell_type": "markdown",
      "source": [
        "**Converting into integer**"
      ],
      "metadata": {
        "id": "E7LVvkT-CIzO"
      }
    },
    {
      "cell_type": "code",
      "source": [
        "df['HS'] = df['HS'].astype(int)"
      ],
      "metadata": {
        "id": "EU2gc_KWCKtd"
      },
      "execution_count": null,
      "outputs": []
    },
    {
      "cell_type": "markdown",
      "source": [
        "**Data Check**"
      ],
      "metadata": {
        "id": "bGgChj8MCNE8"
      }
    },
    {
      "cell_type": "code",
      "source": [
        "df.head().style.set_properties(\n",
        "    **{\n",
        "        'background-color':'#c0d6e4',\n",
        "        \"color\": 'black',\n",
        "        \"border-color\":'black',\n",
        "        'border-style': 'solid'\n",
        "    }\n",
        ")"
      ],
      "metadata": {
        "colab": {
          "base_uri": "https://localhost:8080/",
          "height": 220
        },
        "id": "3DEDoYLpCMLy",
        "outputId": "aee2ded5-12ef-4b13-93dd-ece52d0a843b"
      },
      "execution_count": null,
      "outputs": [
        {
          "output_type": "execute_result",
          "data": {
            "text/plain": [
              "<pandas.io.formats.style.Styler at 0x7f3091024d30>"
            ],
            "text/html": [
              "<style type=\"text/css\">\n",
              "#T_d08d2_row0_col0, #T_d08d2_row0_col1, #T_d08d2_row0_col2, #T_d08d2_row0_col3, #T_d08d2_row0_col4, #T_d08d2_row0_col5, #T_d08d2_row0_col6, #T_d08d2_row0_col7, #T_d08d2_row0_col8, #T_d08d2_row0_col9, #T_d08d2_row0_col10, #T_d08d2_row0_col11, #T_d08d2_row0_col12, #T_d08d2_row0_col13, #T_d08d2_row0_col14, #T_d08d2_row0_col15, #T_d08d2_row0_col16, #T_d08d2_row1_col0, #T_d08d2_row1_col1, #T_d08d2_row1_col2, #T_d08d2_row1_col3, #T_d08d2_row1_col4, #T_d08d2_row1_col5, #T_d08d2_row1_col6, #T_d08d2_row1_col7, #T_d08d2_row1_col8, #T_d08d2_row1_col9, #T_d08d2_row1_col10, #T_d08d2_row1_col11, #T_d08d2_row1_col12, #T_d08d2_row1_col13, #T_d08d2_row1_col14, #T_d08d2_row1_col15, #T_d08d2_row1_col16, #T_d08d2_row2_col0, #T_d08d2_row2_col1, #T_d08d2_row2_col2, #T_d08d2_row2_col3, #T_d08d2_row2_col4, #T_d08d2_row2_col5, #T_d08d2_row2_col6, #T_d08d2_row2_col7, #T_d08d2_row2_col8, #T_d08d2_row2_col9, #T_d08d2_row2_col10, #T_d08d2_row2_col11, #T_d08d2_row2_col12, #T_d08d2_row2_col13, #T_d08d2_row2_col14, #T_d08d2_row2_col15, #T_d08d2_row2_col16, #T_d08d2_row3_col0, #T_d08d2_row3_col1, #T_d08d2_row3_col2, #T_d08d2_row3_col3, #T_d08d2_row3_col4, #T_d08d2_row3_col5, #T_d08d2_row3_col6, #T_d08d2_row3_col7, #T_d08d2_row3_col8, #T_d08d2_row3_col9, #T_d08d2_row3_col10, #T_d08d2_row3_col11, #T_d08d2_row3_col12, #T_d08d2_row3_col13, #T_d08d2_row3_col14, #T_d08d2_row3_col15, #T_d08d2_row3_col16, #T_d08d2_row4_col0, #T_d08d2_row4_col1, #T_d08d2_row4_col2, #T_d08d2_row4_col3, #T_d08d2_row4_col4, #T_d08d2_row4_col5, #T_d08d2_row4_col6, #T_d08d2_row4_col7, #T_d08d2_row4_col8, #T_d08d2_row4_col9, #T_d08d2_row4_col10, #T_d08d2_row4_col11, #T_d08d2_row4_col12, #T_d08d2_row4_col13, #T_d08d2_row4_col14, #T_d08d2_row4_col15, #T_d08d2_row4_col16 {\n",
              "  background-color: #c0d6e4;\n",
              "  color: black;\n",
              "  border-color: black;\n",
              "  border-style: solid;\n",
              "}\n",
              "</style>\n",
              "<table id=\"T_d08d2\" class=\"dataframe\">\n",
              "  <thead>\n",
              "    <tr>\n",
              "      <th class=\"blank level0\" >&nbsp;</th>\n",
              "      <th id=\"T_d08d2_level0_col0\" class=\"col_heading level0 col0\" >Player</th>\n",
              "      <th id=\"T_d08d2_level0_col1\" class=\"col_heading level0 col1\" >Span</th>\n",
              "      <th id=\"T_d08d2_level0_col2\" class=\"col_heading level0 col2\" >Mat</th>\n",
              "      <th id=\"T_d08d2_level0_col3\" class=\"col_heading level0 col3\" >Inns</th>\n",
              "      <th id=\"T_d08d2_level0_col4\" class=\"col_heading level0 col4\" >NO</th>\n",
              "      <th id=\"T_d08d2_level0_col5\" class=\"col_heading level0 col5\" >Runs</th>\n",
              "      <th id=\"T_d08d2_level0_col6\" class=\"col_heading level0 col6\" >HS</th>\n",
              "      <th id=\"T_d08d2_level0_col7\" class=\"col_heading level0 col7\" >Ave</th>\n",
              "      <th id=\"T_d08d2_level0_col8\" class=\"col_heading level0 col8\" >BF</th>\n",
              "      <th id=\"T_d08d2_level0_col9\" class=\"col_heading level0 col9\" >SR</th>\n",
              "      <th id=\"T_d08d2_level0_col10\" class=\"col_heading level0 col10\" >100</th>\n",
              "      <th id=\"T_d08d2_level0_col11\" class=\"col_heading level0 col11\" >50</th>\n",
              "      <th id=\"T_d08d2_level0_col12\" class=\"col_heading level0 col12\" >0</th>\n",
              "      <th id=\"T_d08d2_level0_col13\" class=\"col_heading level0 col13\" >StartYear</th>\n",
              "      <th id=\"T_d08d2_level0_col14\" class=\"col_heading level0 col14\" >EndingYear</th>\n",
              "      <th id=\"T_d08d2_level0_col15\" class=\"col_heading level0 col15\" >Experience</th>\n",
              "      <th id=\"T_d08d2_level0_col16\" class=\"col_heading level0 col16\" >Extra</th>\n",
              "    </tr>\n",
              "  </thead>\n",
              "  <tbody>\n",
              "    <tr>\n",
              "      <th id=\"T_d08d2_level0_row0\" class=\"row_heading level0 row0\" >0</th>\n",
              "      <td id=\"T_d08d2_row0_col0\" class=\"data row0 col0\" >SR Tendulkar (INDIA)</td>\n",
              "      <td id=\"T_d08d2_row0_col1\" class=\"data row0 col1\" >1989-2012</td>\n",
              "      <td id=\"T_d08d2_row0_col2\" class=\"data row0 col2\" >463</td>\n",
              "      <td id=\"T_d08d2_row0_col3\" class=\"data row0 col3\" >452</td>\n",
              "      <td id=\"T_d08d2_row0_col4\" class=\"data row0 col4\" >41</td>\n",
              "      <td id=\"T_d08d2_row0_col5\" class=\"data row0 col5\" >18426</td>\n",
              "      <td id=\"T_d08d2_row0_col6\" class=\"data row0 col6\" >200</td>\n",
              "      <td id=\"T_d08d2_row0_col7\" class=\"data row0 col7\" >44.830000</td>\n",
              "      <td id=\"T_d08d2_row0_col8\" class=\"data row0 col8\" >21367</td>\n",
              "      <td id=\"T_d08d2_row0_col9\" class=\"data row0 col9\" >86.230000</td>\n",
              "      <td id=\"T_d08d2_row0_col10\" class=\"data row0 col10\" >49</td>\n",
              "      <td id=\"T_d08d2_row0_col11\" class=\"data row0 col11\" >96</td>\n",
              "      <td id=\"T_d08d2_row0_col12\" class=\"data row0 col12\" >20</td>\n",
              "      <td id=\"T_d08d2_row0_col13\" class=\"data row0 col13\" >1989</td>\n",
              "      <td id=\"T_d08d2_row0_col14\" class=\"data row0 col14\" >2012</td>\n",
              "      <td id=\"T_d08d2_row0_col15\" class=\"data row0 col15\" >23</td>\n",
              "      <td id=\"T_d08d2_row0_col16\" class=\"data row0 col16\" ></td>\n",
              "    </tr>\n",
              "    <tr>\n",
              "      <th id=\"T_d08d2_level0_row1\" class=\"row_heading level0 row1\" >1</th>\n",
              "      <td id=\"T_d08d2_row1_col0\" class=\"data row1 col0\" >KC Sangakkara (Asia/ICC/SL)</td>\n",
              "      <td id=\"T_d08d2_row1_col1\" class=\"data row1 col1\" >2000-2015</td>\n",
              "      <td id=\"T_d08d2_row1_col2\" class=\"data row1 col2\" >404</td>\n",
              "      <td id=\"T_d08d2_row1_col3\" class=\"data row1 col3\" >380</td>\n",
              "      <td id=\"T_d08d2_row1_col4\" class=\"data row1 col4\" >41</td>\n",
              "      <td id=\"T_d08d2_row1_col5\" class=\"data row1 col5\" >14234</td>\n",
              "      <td id=\"T_d08d2_row1_col6\" class=\"data row1 col6\" >169</td>\n",
              "      <td id=\"T_d08d2_row1_col7\" class=\"data row1 col7\" >41.980000</td>\n",
              "      <td id=\"T_d08d2_row1_col8\" class=\"data row1 col8\" >18048</td>\n",
              "      <td id=\"T_d08d2_row1_col9\" class=\"data row1 col9\" >78.860000</td>\n",
              "      <td id=\"T_d08d2_row1_col10\" class=\"data row1 col10\" >25</td>\n",
              "      <td id=\"T_d08d2_row1_col11\" class=\"data row1 col11\" >93</td>\n",
              "      <td id=\"T_d08d2_row1_col12\" class=\"data row1 col12\" >15</td>\n",
              "      <td id=\"T_d08d2_row1_col13\" class=\"data row1 col13\" >2000</td>\n",
              "      <td id=\"T_d08d2_row1_col14\" class=\"data row1 col14\" >2015</td>\n",
              "      <td id=\"T_d08d2_row1_col15\" class=\"data row1 col15\" >15</td>\n",
              "      <td id=\"T_d08d2_row1_col16\" class=\"data row1 col16\" >None</td>\n",
              "    </tr>\n",
              "    <tr>\n",
              "      <th id=\"T_d08d2_level0_row2\" class=\"row_heading level0 row2\" >2</th>\n",
              "      <td id=\"T_d08d2_row2_col0\" class=\"data row2 col0\" >RT Ponting (AUS/ICC)</td>\n",
              "      <td id=\"T_d08d2_row2_col1\" class=\"data row2 col1\" >1995-2012</td>\n",
              "      <td id=\"T_d08d2_row2_col2\" class=\"data row2 col2\" >375</td>\n",
              "      <td id=\"T_d08d2_row2_col3\" class=\"data row2 col3\" >365</td>\n",
              "      <td id=\"T_d08d2_row2_col4\" class=\"data row2 col4\" >39</td>\n",
              "      <td id=\"T_d08d2_row2_col5\" class=\"data row2 col5\" >13704</td>\n",
              "      <td id=\"T_d08d2_row2_col6\" class=\"data row2 col6\" >164</td>\n",
              "      <td id=\"T_d08d2_row2_col7\" class=\"data row2 col7\" >42.030000</td>\n",
              "      <td id=\"T_d08d2_row2_col8\" class=\"data row2 col8\" >17046</td>\n",
              "      <td id=\"T_d08d2_row2_col9\" class=\"data row2 col9\" >80.390000</td>\n",
              "      <td id=\"T_d08d2_row2_col10\" class=\"data row2 col10\" >30</td>\n",
              "      <td id=\"T_d08d2_row2_col11\" class=\"data row2 col11\" >82</td>\n",
              "      <td id=\"T_d08d2_row2_col12\" class=\"data row2 col12\" >20</td>\n",
              "      <td id=\"T_d08d2_row2_col13\" class=\"data row2 col13\" >1995</td>\n",
              "      <td id=\"T_d08d2_row2_col14\" class=\"data row2 col14\" >2012</td>\n",
              "      <td id=\"T_d08d2_row2_col15\" class=\"data row2 col15\" >17</td>\n",
              "      <td id=\"T_d08d2_row2_col16\" class=\"data row2 col16\" >None</td>\n",
              "    </tr>\n",
              "    <tr>\n",
              "      <th id=\"T_d08d2_level0_row3\" class=\"row_heading level0 row3\" >3</th>\n",
              "      <td id=\"T_d08d2_row3_col0\" class=\"data row3 col0\" >ST Jayasuriya (Asia/SL)</td>\n",
              "      <td id=\"T_d08d2_row3_col1\" class=\"data row3 col1\" >1989-2011</td>\n",
              "      <td id=\"T_d08d2_row3_col2\" class=\"data row3 col2\" >445</td>\n",
              "      <td id=\"T_d08d2_row3_col3\" class=\"data row3 col3\" >433</td>\n",
              "      <td id=\"T_d08d2_row3_col4\" class=\"data row3 col4\" >18</td>\n",
              "      <td id=\"T_d08d2_row3_col5\" class=\"data row3 col5\" >13430</td>\n",
              "      <td id=\"T_d08d2_row3_col6\" class=\"data row3 col6\" >189</td>\n",
              "      <td id=\"T_d08d2_row3_col7\" class=\"data row3 col7\" >32.360000</td>\n",
              "      <td id=\"T_d08d2_row3_col8\" class=\"data row3 col8\" >14725</td>\n",
              "      <td id=\"T_d08d2_row3_col9\" class=\"data row3 col9\" >91.200000</td>\n",
              "      <td id=\"T_d08d2_row3_col10\" class=\"data row3 col10\" >28</td>\n",
              "      <td id=\"T_d08d2_row3_col11\" class=\"data row3 col11\" >68</td>\n",
              "      <td id=\"T_d08d2_row3_col12\" class=\"data row3 col12\" >34</td>\n",
              "      <td id=\"T_d08d2_row3_col13\" class=\"data row3 col13\" >1989</td>\n",
              "      <td id=\"T_d08d2_row3_col14\" class=\"data row3 col14\" >2011</td>\n",
              "      <td id=\"T_d08d2_row3_col15\" class=\"data row3 col15\" >22</td>\n",
              "      <td id=\"T_d08d2_row3_col16\" class=\"data row3 col16\" >None</td>\n",
              "    </tr>\n",
              "    <tr>\n",
              "      <th id=\"T_d08d2_level0_row4\" class=\"row_heading level0 row4\" >4</th>\n",
              "      <td id=\"T_d08d2_row4_col0\" class=\"data row4 col0\" >DPMD Jayawardene (Asia/SL)</td>\n",
              "      <td id=\"T_d08d2_row4_col1\" class=\"data row4 col1\" >1998-2015</td>\n",
              "      <td id=\"T_d08d2_row4_col2\" class=\"data row4 col2\" >448</td>\n",
              "      <td id=\"T_d08d2_row4_col3\" class=\"data row4 col3\" >418</td>\n",
              "      <td id=\"T_d08d2_row4_col4\" class=\"data row4 col4\" >39</td>\n",
              "      <td id=\"T_d08d2_row4_col5\" class=\"data row4 col5\" >12650</td>\n",
              "      <td id=\"T_d08d2_row4_col6\" class=\"data row4 col6\" >144</td>\n",
              "      <td id=\"T_d08d2_row4_col7\" class=\"data row4 col7\" >33.370000</td>\n",
              "      <td id=\"T_d08d2_row4_col8\" class=\"data row4 col8\" >16020</td>\n",
              "      <td id=\"T_d08d2_row4_col9\" class=\"data row4 col9\" >78.960000</td>\n",
              "      <td id=\"T_d08d2_row4_col10\" class=\"data row4 col10\" >19</td>\n",
              "      <td id=\"T_d08d2_row4_col11\" class=\"data row4 col11\" >77</td>\n",
              "      <td id=\"T_d08d2_row4_col12\" class=\"data row4 col12\" >28</td>\n",
              "      <td id=\"T_d08d2_row4_col13\" class=\"data row4 col13\" >1998</td>\n",
              "      <td id=\"T_d08d2_row4_col14\" class=\"data row4 col14\" >2015</td>\n",
              "      <td id=\"T_d08d2_row4_col15\" class=\"data row4 col15\" >17</td>\n",
              "      <td id=\"T_d08d2_row4_col16\" class=\"data row4 col16\" >None</td>\n",
              "    </tr>\n",
              "  </tbody>\n",
              "</table>\n"
            ]
          },
          "metadata": {},
          "execution_count": 25
        }
      ]
    },
    {
      "cell_type": "markdown",
      "source": [
        "**Dropping of the other irrelevant columns**"
      ],
      "metadata": {
        "id": "xOCtmE_-CRJR"
      }
    },
    {
      "cell_type": "code",
      "source": [
        "df = df.drop(['Span', 'StartYear', 'EndingYear', 'Extra'], axis = 1)"
      ],
      "metadata": {
        "id": "G615LnYrCPzl"
      },
      "execution_count": null,
      "outputs": []
    },
    {
      "cell_type": "markdown",
      "source": [
        "**Data Check**"
      ],
      "metadata": {
        "id": "FqMUgim_CZcd"
      }
    },
    {
      "cell_type": "code",
      "source": [
        "df.head().style.set_properties(\n",
        "    **{\n",
        "        'background-color':'#b6ebcf',\n",
        "        \"color\": 'black',\n",
        "        \"border-color\":'black',\n",
        "        'border-style': 'solid'\n",
        "    }\n",
        ")"
      ],
      "metadata": {
        "colab": {
          "base_uri": "https://localhost:8080/",
          "height": 220
        },
        "outputId": "7c644e7f-df1f-4c40-e632-664d247fe6db",
        "id": "4CZg5mZECZce"
      },
      "execution_count": null,
      "outputs": [
        {
          "output_type": "execute_result",
          "data": {
            "text/plain": [
              "<pandas.io.formats.style.Styler at 0x7f3091026fe0>"
            ],
            "text/html": [
              "<style type=\"text/css\">\n",
              "#T_3197e_row0_col0, #T_3197e_row0_col1, #T_3197e_row0_col2, #T_3197e_row0_col3, #T_3197e_row0_col4, #T_3197e_row0_col5, #T_3197e_row0_col6, #T_3197e_row0_col7, #T_3197e_row0_col8, #T_3197e_row0_col9, #T_3197e_row0_col10, #T_3197e_row0_col11, #T_3197e_row0_col12, #T_3197e_row1_col0, #T_3197e_row1_col1, #T_3197e_row1_col2, #T_3197e_row1_col3, #T_3197e_row1_col4, #T_3197e_row1_col5, #T_3197e_row1_col6, #T_3197e_row1_col7, #T_3197e_row1_col8, #T_3197e_row1_col9, #T_3197e_row1_col10, #T_3197e_row1_col11, #T_3197e_row1_col12, #T_3197e_row2_col0, #T_3197e_row2_col1, #T_3197e_row2_col2, #T_3197e_row2_col3, #T_3197e_row2_col4, #T_3197e_row2_col5, #T_3197e_row2_col6, #T_3197e_row2_col7, #T_3197e_row2_col8, #T_3197e_row2_col9, #T_3197e_row2_col10, #T_3197e_row2_col11, #T_3197e_row2_col12, #T_3197e_row3_col0, #T_3197e_row3_col1, #T_3197e_row3_col2, #T_3197e_row3_col3, #T_3197e_row3_col4, #T_3197e_row3_col5, #T_3197e_row3_col6, #T_3197e_row3_col7, #T_3197e_row3_col8, #T_3197e_row3_col9, #T_3197e_row3_col10, #T_3197e_row3_col11, #T_3197e_row3_col12, #T_3197e_row4_col0, #T_3197e_row4_col1, #T_3197e_row4_col2, #T_3197e_row4_col3, #T_3197e_row4_col4, #T_3197e_row4_col5, #T_3197e_row4_col6, #T_3197e_row4_col7, #T_3197e_row4_col8, #T_3197e_row4_col9, #T_3197e_row4_col10, #T_3197e_row4_col11, #T_3197e_row4_col12 {\n",
              "  background-color: #b6ebcf;\n",
              "  color: black;\n",
              "  border-color: black;\n",
              "  border-style: solid;\n",
              "}\n",
              "</style>\n",
              "<table id=\"T_3197e\" class=\"dataframe\">\n",
              "  <thead>\n",
              "    <tr>\n",
              "      <th class=\"blank level0\" >&nbsp;</th>\n",
              "      <th id=\"T_3197e_level0_col0\" class=\"col_heading level0 col0\" >Player</th>\n",
              "      <th id=\"T_3197e_level0_col1\" class=\"col_heading level0 col1\" >Mat</th>\n",
              "      <th id=\"T_3197e_level0_col2\" class=\"col_heading level0 col2\" >Inns</th>\n",
              "      <th id=\"T_3197e_level0_col3\" class=\"col_heading level0 col3\" >NO</th>\n",
              "      <th id=\"T_3197e_level0_col4\" class=\"col_heading level0 col4\" >Runs</th>\n",
              "      <th id=\"T_3197e_level0_col5\" class=\"col_heading level0 col5\" >HS</th>\n",
              "      <th id=\"T_3197e_level0_col6\" class=\"col_heading level0 col6\" >Ave</th>\n",
              "      <th id=\"T_3197e_level0_col7\" class=\"col_heading level0 col7\" >BF</th>\n",
              "      <th id=\"T_3197e_level0_col8\" class=\"col_heading level0 col8\" >SR</th>\n",
              "      <th id=\"T_3197e_level0_col9\" class=\"col_heading level0 col9\" >100</th>\n",
              "      <th id=\"T_3197e_level0_col10\" class=\"col_heading level0 col10\" >50</th>\n",
              "      <th id=\"T_3197e_level0_col11\" class=\"col_heading level0 col11\" >0</th>\n",
              "      <th id=\"T_3197e_level0_col12\" class=\"col_heading level0 col12\" >Experience</th>\n",
              "    </tr>\n",
              "  </thead>\n",
              "  <tbody>\n",
              "    <tr>\n",
              "      <th id=\"T_3197e_level0_row0\" class=\"row_heading level0 row0\" >0</th>\n",
              "      <td id=\"T_3197e_row0_col0\" class=\"data row0 col0\" >SR Tendulkar (INDIA)</td>\n",
              "      <td id=\"T_3197e_row0_col1\" class=\"data row0 col1\" >463</td>\n",
              "      <td id=\"T_3197e_row0_col2\" class=\"data row0 col2\" >452</td>\n",
              "      <td id=\"T_3197e_row0_col3\" class=\"data row0 col3\" >41</td>\n",
              "      <td id=\"T_3197e_row0_col4\" class=\"data row0 col4\" >18426</td>\n",
              "      <td id=\"T_3197e_row0_col5\" class=\"data row0 col5\" >200</td>\n",
              "      <td id=\"T_3197e_row0_col6\" class=\"data row0 col6\" >44.830000</td>\n",
              "      <td id=\"T_3197e_row0_col7\" class=\"data row0 col7\" >21367</td>\n",
              "      <td id=\"T_3197e_row0_col8\" class=\"data row0 col8\" >86.230000</td>\n",
              "      <td id=\"T_3197e_row0_col9\" class=\"data row0 col9\" >49</td>\n",
              "      <td id=\"T_3197e_row0_col10\" class=\"data row0 col10\" >96</td>\n",
              "      <td id=\"T_3197e_row0_col11\" class=\"data row0 col11\" >20</td>\n",
              "      <td id=\"T_3197e_row0_col12\" class=\"data row0 col12\" >23</td>\n",
              "    </tr>\n",
              "    <tr>\n",
              "      <th id=\"T_3197e_level0_row1\" class=\"row_heading level0 row1\" >1</th>\n",
              "      <td id=\"T_3197e_row1_col0\" class=\"data row1 col0\" >KC Sangakkara (Asia/ICC/SL)</td>\n",
              "      <td id=\"T_3197e_row1_col1\" class=\"data row1 col1\" >404</td>\n",
              "      <td id=\"T_3197e_row1_col2\" class=\"data row1 col2\" >380</td>\n",
              "      <td id=\"T_3197e_row1_col3\" class=\"data row1 col3\" >41</td>\n",
              "      <td id=\"T_3197e_row1_col4\" class=\"data row1 col4\" >14234</td>\n",
              "      <td id=\"T_3197e_row1_col5\" class=\"data row1 col5\" >169</td>\n",
              "      <td id=\"T_3197e_row1_col6\" class=\"data row1 col6\" >41.980000</td>\n",
              "      <td id=\"T_3197e_row1_col7\" class=\"data row1 col7\" >18048</td>\n",
              "      <td id=\"T_3197e_row1_col8\" class=\"data row1 col8\" >78.860000</td>\n",
              "      <td id=\"T_3197e_row1_col9\" class=\"data row1 col9\" >25</td>\n",
              "      <td id=\"T_3197e_row1_col10\" class=\"data row1 col10\" >93</td>\n",
              "      <td id=\"T_3197e_row1_col11\" class=\"data row1 col11\" >15</td>\n",
              "      <td id=\"T_3197e_row1_col12\" class=\"data row1 col12\" >15</td>\n",
              "    </tr>\n",
              "    <tr>\n",
              "      <th id=\"T_3197e_level0_row2\" class=\"row_heading level0 row2\" >2</th>\n",
              "      <td id=\"T_3197e_row2_col0\" class=\"data row2 col0\" >RT Ponting (AUS/ICC)</td>\n",
              "      <td id=\"T_3197e_row2_col1\" class=\"data row2 col1\" >375</td>\n",
              "      <td id=\"T_3197e_row2_col2\" class=\"data row2 col2\" >365</td>\n",
              "      <td id=\"T_3197e_row2_col3\" class=\"data row2 col3\" >39</td>\n",
              "      <td id=\"T_3197e_row2_col4\" class=\"data row2 col4\" >13704</td>\n",
              "      <td id=\"T_3197e_row2_col5\" class=\"data row2 col5\" >164</td>\n",
              "      <td id=\"T_3197e_row2_col6\" class=\"data row2 col6\" >42.030000</td>\n",
              "      <td id=\"T_3197e_row2_col7\" class=\"data row2 col7\" >17046</td>\n",
              "      <td id=\"T_3197e_row2_col8\" class=\"data row2 col8\" >80.390000</td>\n",
              "      <td id=\"T_3197e_row2_col9\" class=\"data row2 col9\" >30</td>\n",
              "      <td id=\"T_3197e_row2_col10\" class=\"data row2 col10\" >82</td>\n",
              "      <td id=\"T_3197e_row2_col11\" class=\"data row2 col11\" >20</td>\n",
              "      <td id=\"T_3197e_row2_col12\" class=\"data row2 col12\" >17</td>\n",
              "    </tr>\n",
              "    <tr>\n",
              "      <th id=\"T_3197e_level0_row3\" class=\"row_heading level0 row3\" >3</th>\n",
              "      <td id=\"T_3197e_row3_col0\" class=\"data row3 col0\" >ST Jayasuriya (Asia/SL)</td>\n",
              "      <td id=\"T_3197e_row3_col1\" class=\"data row3 col1\" >445</td>\n",
              "      <td id=\"T_3197e_row3_col2\" class=\"data row3 col2\" >433</td>\n",
              "      <td id=\"T_3197e_row3_col3\" class=\"data row3 col3\" >18</td>\n",
              "      <td id=\"T_3197e_row3_col4\" class=\"data row3 col4\" >13430</td>\n",
              "      <td id=\"T_3197e_row3_col5\" class=\"data row3 col5\" >189</td>\n",
              "      <td id=\"T_3197e_row3_col6\" class=\"data row3 col6\" >32.360000</td>\n",
              "      <td id=\"T_3197e_row3_col7\" class=\"data row3 col7\" >14725</td>\n",
              "      <td id=\"T_3197e_row3_col8\" class=\"data row3 col8\" >91.200000</td>\n",
              "      <td id=\"T_3197e_row3_col9\" class=\"data row3 col9\" >28</td>\n",
              "      <td id=\"T_3197e_row3_col10\" class=\"data row3 col10\" >68</td>\n",
              "      <td id=\"T_3197e_row3_col11\" class=\"data row3 col11\" >34</td>\n",
              "      <td id=\"T_3197e_row3_col12\" class=\"data row3 col12\" >22</td>\n",
              "    </tr>\n",
              "    <tr>\n",
              "      <th id=\"T_3197e_level0_row4\" class=\"row_heading level0 row4\" >4</th>\n",
              "      <td id=\"T_3197e_row4_col0\" class=\"data row4 col0\" >DPMD Jayawardene (Asia/SL)</td>\n",
              "      <td id=\"T_3197e_row4_col1\" class=\"data row4 col1\" >448</td>\n",
              "      <td id=\"T_3197e_row4_col2\" class=\"data row4 col2\" >418</td>\n",
              "      <td id=\"T_3197e_row4_col3\" class=\"data row4 col3\" >39</td>\n",
              "      <td id=\"T_3197e_row4_col4\" class=\"data row4 col4\" >12650</td>\n",
              "      <td id=\"T_3197e_row4_col5\" class=\"data row4 col5\" >144</td>\n",
              "      <td id=\"T_3197e_row4_col6\" class=\"data row4 col6\" >33.370000</td>\n",
              "      <td id=\"T_3197e_row4_col7\" class=\"data row4 col7\" >16020</td>\n",
              "      <td id=\"T_3197e_row4_col8\" class=\"data row4 col8\" >78.960000</td>\n",
              "      <td id=\"T_3197e_row4_col9\" class=\"data row4 col9\" >19</td>\n",
              "      <td id=\"T_3197e_row4_col10\" class=\"data row4 col10\" >77</td>\n",
              "      <td id=\"T_3197e_row4_col11\" class=\"data row4 col11\" >28</td>\n",
              "      <td id=\"T_3197e_row4_col12\" class=\"data row4 col12\" >17</td>\n",
              "    </tr>\n",
              "  </tbody>\n",
              "</table>\n"
            ]
          },
          "metadata": {},
          "execution_count": 27
        }
      ]
    },
    {
      "cell_type": "markdown",
      "source": [
        "**Null Check**"
      ],
      "metadata": {
        "id": "uDne7u3ECbkh"
      }
    },
    {
      "cell_type": "code",
      "source": [
        "df.isnull().sum().to_frame().style.set_properties(\n",
        "    **{\n",
        "        'background-color':'#b6ebcf',\n",
        "        \"color\": 'black',\n",
        "        \"border-color\":'black',\n",
        "        'border-style': 'solid'\n",
        "    }\n",
        ")"
      ],
      "metadata": {
        "colab": {
          "base_uri": "https://localhost:8080/",
          "height": 490
        },
        "id": "pmDZogbdCabb",
        "outputId": "92e955c4-236e-4857-f25b-01e0020dc26a"
      },
      "execution_count": null,
      "outputs": [
        {
          "output_type": "execute_result",
          "data": {
            "text/plain": [
              "<pandas.io.formats.style.Styler at 0x7f3090ffa140>"
            ],
            "text/html": [
              "<style type=\"text/css\">\n",
              "#T_5012f_row0_col0, #T_5012f_row1_col0, #T_5012f_row2_col0, #T_5012f_row3_col0, #T_5012f_row4_col0, #T_5012f_row5_col0, #T_5012f_row6_col0, #T_5012f_row7_col0, #T_5012f_row8_col0, #T_5012f_row9_col0, #T_5012f_row10_col0, #T_5012f_row11_col0, #T_5012f_row12_col0 {\n",
              "  background-color: #b6ebcf;\n",
              "  color: black;\n",
              "  border-color: black;\n",
              "  border-style: solid;\n",
              "}\n",
              "</style>\n",
              "<table id=\"T_5012f\" class=\"dataframe\">\n",
              "  <thead>\n",
              "    <tr>\n",
              "      <th class=\"blank level0\" >&nbsp;</th>\n",
              "      <th id=\"T_5012f_level0_col0\" class=\"col_heading level0 col0\" >0</th>\n",
              "    </tr>\n",
              "  </thead>\n",
              "  <tbody>\n",
              "    <tr>\n",
              "      <th id=\"T_5012f_level0_row0\" class=\"row_heading level0 row0\" >Player</th>\n",
              "      <td id=\"T_5012f_row0_col0\" class=\"data row0 col0\" >0</td>\n",
              "    </tr>\n",
              "    <tr>\n",
              "      <th id=\"T_5012f_level0_row1\" class=\"row_heading level0 row1\" >Mat</th>\n",
              "      <td id=\"T_5012f_row1_col0\" class=\"data row1 col0\" >0</td>\n",
              "    </tr>\n",
              "    <tr>\n",
              "      <th id=\"T_5012f_level0_row2\" class=\"row_heading level0 row2\" >Inns</th>\n",
              "      <td id=\"T_5012f_row2_col0\" class=\"data row2 col0\" >0</td>\n",
              "    </tr>\n",
              "    <tr>\n",
              "      <th id=\"T_5012f_level0_row3\" class=\"row_heading level0 row3\" >NO</th>\n",
              "      <td id=\"T_5012f_row3_col0\" class=\"data row3 col0\" >0</td>\n",
              "    </tr>\n",
              "    <tr>\n",
              "      <th id=\"T_5012f_level0_row4\" class=\"row_heading level0 row4\" >Runs</th>\n",
              "      <td id=\"T_5012f_row4_col0\" class=\"data row4 col0\" >0</td>\n",
              "    </tr>\n",
              "    <tr>\n",
              "      <th id=\"T_5012f_level0_row5\" class=\"row_heading level0 row5\" >HS</th>\n",
              "      <td id=\"T_5012f_row5_col0\" class=\"data row5 col0\" >0</td>\n",
              "    </tr>\n",
              "    <tr>\n",
              "      <th id=\"T_5012f_level0_row6\" class=\"row_heading level0 row6\" >Ave</th>\n",
              "      <td id=\"T_5012f_row6_col0\" class=\"data row6 col0\" >0</td>\n",
              "    </tr>\n",
              "    <tr>\n",
              "      <th id=\"T_5012f_level0_row7\" class=\"row_heading level0 row7\" >BF</th>\n",
              "      <td id=\"T_5012f_row7_col0\" class=\"data row7 col0\" >0</td>\n",
              "    </tr>\n",
              "    <tr>\n",
              "      <th id=\"T_5012f_level0_row8\" class=\"row_heading level0 row8\" >SR</th>\n",
              "      <td id=\"T_5012f_row8_col0\" class=\"data row8 col0\" >0</td>\n",
              "    </tr>\n",
              "    <tr>\n",
              "      <th id=\"T_5012f_level0_row9\" class=\"row_heading level0 row9\" >100</th>\n",
              "      <td id=\"T_5012f_row9_col0\" class=\"data row9 col0\" >0</td>\n",
              "    </tr>\n",
              "    <tr>\n",
              "      <th id=\"T_5012f_level0_row10\" class=\"row_heading level0 row10\" >50</th>\n",
              "      <td id=\"T_5012f_row10_col0\" class=\"data row10 col0\" >0</td>\n",
              "    </tr>\n",
              "    <tr>\n",
              "      <th id=\"T_5012f_level0_row11\" class=\"row_heading level0 row11\" >0</th>\n",
              "      <td id=\"T_5012f_row11_col0\" class=\"data row11 col0\" >0</td>\n",
              "    </tr>\n",
              "    <tr>\n",
              "      <th id=\"T_5012f_level0_row12\" class=\"row_heading level0 row12\" >Experience</th>\n",
              "      <td id=\"T_5012f_row12_col0\" class=\"data row12 col0\" >0</td>\n",
              "    </tr>\n",
              "  </tbody>\n",
              "</table>\n"
            ]
          },
          "metadata": {},
          "execution_count": 28
        }
      ]
    },
    {
      "cell_type": "markdown",
      "source": [
        "**Duplicates Check**"
      ],
      "metadata": {
        "id": "gborvoBKCgN4"
      }
    },
    {
      "cell_type": "code",
      "source": [
        "df.duplicated().sum()"
      ],
      "metadata": {
        "colab": {
          "base_uri": "https://localhost:8080/"
        },
        "id": "kV_j48eFCfU8",
        "outputId": "ee325c48-55db-4520-a49d-cb3c531f933c"
      },
      "execution_count": null,
      "outputs": [
        {
          "output_type": "execute_result",
          "data": {
            "text/plain": [
              "0"
            ]
          },
          "metadata": {},
          "execution_count": 29
        }
      ]
    },
    {
      "cell_type": "markdown",
      "source": [
        "**Recheck on information of data**"
      ],
      "metadata": {
        "id": "4zPCXFw2Ckor"
      }
    },
    {
      "cell_type": "code",
      "source": [
        "df.info()"
      ],
      "metadata": {
        "colab": {
          "base_uri": "https://localhost:8080/"
        },
        "id": "jX2nVX68CjEE",
        "outputId": "48ddfa1a-a4e0-4a11-e25e-c3f495c8a7ff"
      },
      "execution_count": null,
      "outputs": [
        {
          "output_type": "stream",
          "name": "stdout",
          "text": [
            "<class 'pandas.core.frame.DataFrame'>\n",
            "RangeIndex: 79 entries, 0 to 78\n",
            "Data columns (total 13 columns):\n",
            " #   Column      Non-Null Count  Dtype  \n",
            "---  ------      --------------  -----  \n",
            " 0   Player      79 non-null     object \n",
            " 1   Mat         79 non-null     int64  \n",
            " 2   Inns        79 non-null     int64  \n",
            " 3   NO          79 non-null     int64  \n",
            " 4   Runs        79 non-null     int64  \n",
            " 5   HS          79 non-null     int64  \n",
            " 6   Ave         79 non-null     float64\n",
            " 7   BF          79 non-null     int64  \n",
            " 8   SR          79 non-null     float64\n",
            " 9   100         79 non-null     int64  \n",
            " 10  50          79 non-null     int64  \n",
            " 11  0           79 non-null     int64  \n",
            " 12  Experience  79 non-null     int64  \n",
            "dtypes: float64(2), int64(10), object(1)\n",
            "memory usage: 8.1+ KB\n"
          ]
        }
      ]
    },
    {
      "cell_type": "markdown",
      "source": [
        "**Correlation Check**"
      ],
      "metadata": {
        "id": "MzaQaDDjCrxn"
      }
    },
    {
      "cell_type": "code",
      "source": [
        "plt.figure(figsize = (10, 9))\n",
        "sns.heatmap(df.corr(), annot = True, cmap = 'YlGnBu')"
      ],
      "metadata": {
        "colab": {
          "base_uri": "https://localhost:8080/",
          "height": 776
        },
        "id": "4jJYOLEiCoIv",
        "outputId": "827a15cf-c2e4-4d26-fbd7-c12a2023cae4"
      },
      "execution_count": null,
      "outputs": [
        {
          "output_type": "execute_result",
          "data": {
            "text/plain": [
              "<Axes: >"
            ]
          },
          "metadata": {},
          "execution_count": 31
        },
        {
          "output_type": "display_data",
          "data": {
            "text/plain": [
              "<Figure size 1000x900 with 2 Axes>"
            ],
            "image/png": "[encoded data removed]"
          },
          "metadata": {}
        }
      ]
    },
    {
      "cell_type": "markdown",
      "source": [
        "<hr>\n",
        "\n",
        "# **Step 4 - Model Building Phase**"
      ],
      "metadata": {
        "id": "AP-GQpy4DAUJ"
      }
    },
    {
      "cell_type": "markdown",
      "source": [
        "**We are going to make a copy of the original data, since after performing the clustering we need to map those clusters to the original data inorder see, which data point has been assigned to which clusters. Hence, this will have two datasets. First the original one and second without the `players` columns**"
      ],
      "metadata": {
        "id": "sPNGP7vSDEYR"
      }
    },
    {
      "cell_type": "code",
      "source": [
        "df_copy = df.copy()"
      ],
      "metadata": {
        "id": "4TvkqhfDC2Fe"
      },
      "execution_count": null,
      "outputs": []
    },
    {
      "cell_type": "markdown",
      "source": [
        "**Dropping of the players columns**"
      ],
      "metadata": {
        "id": "MNrxTmtDDZbt"
      }
    },
    {
      "cell_type": "code",
      "source": [
        "df_copy = df_copy.drop('Player', axis = 1)"
      ],
      "metadata": {
        "id": "ftGcRd6vDYlq"
      },
      "execution_count": null,
      "outputs": []
    },
    {
      "cell_type": "markdown",
      "source": [
        "**Data Check**"
      ],
      "metadata": {
        "id": "Fe0-aKAmDhLj"
      }
    },
    {
      "cell_type": "code",
      "source": [
        "df.head().style.set_properties(\n",
        "    **{\n",
        "        'background-color':'#F0CA86',\n",
        "        \"color\": 'black',\n",
        "        \"border-color\":'black',\n",
        "        'border-style': 'solid'\n",
        "    }\n",
        ")"
      ],
      "metadata": {
        "colab": {
          "base_uri": "https://localhost:8080/",
          "height": 220
        },
        "id": "4t_pwG93DgHw",
        "outputId": "4df3370d-4358-4f33-ce76-978052403c84"
      },
      "execution_count": null,
      "outputs": [
        {
          "output_type": "execute_result",
          "data": {
            "text/plain": [
              "<pandas.io.formats.style.Styler at 0x7f3091024fd0>"
            ],
            "text/html": [
              "<style type=\"text/css\">\n",
              "#T_78335_row0_col0, #T_78335_row0_col1, #T_78335_row0_col2, #T_78335_row0_col3, #T_78335_row0_col4, #T_78335_row0_col5, #T_78335_row0_col6, #T_78335_row0_col7, #T_78335_row0_col8, #T_78335_row0_col9, #T_78335_row0_col10, #T_78335_row0_col11, #T_78335_row0_col12, #T_78335_row1_col0, #T_78335_row1_col1, #T_78335_row1_col2, #T_78335_row1_col3, #T_78335_row1_col4, #T_78335_row1_col5, #T_78335_row1_col6, #T_78335_row1_col7, #T_78335_row1_col8, #T_78335_row1_col9, #T_78335_row1_col10, #T_78335_row1_col11, #T_78335_row1_col12, #T_78335_row2_col0, #T_78335_row2_col1, #T_78335_row2_col2, #T_78335_row2_col3, #T_78335_row2_col4, #T_78335_row2_col5, #T_78335_row2_col6, #T_78335_row2_col7, #T_78335_row2_col8, #T_78335_row2_col9, #T_78335_row2_col10, #T_78335_row2_col11, #T_78335_row2_col12, #T_78335_row3_col0, #T_78335_row3_col1, #T_78335_row3_col2, #T_78335_row3_col3, #T_78335_row3_col4, #T_78335_row3_col5, #T_78335_row3_col6, #T_78335_row3_col7, #T_78335_row3_col8, #T_78335_row3_col9, #T_78335_row3_col10, #T_78335_row3_col11, #T_78335_row3_col12, #T_78335_row4_col0, #T_78335_row4_col1, #T_78335_row4_col2, #T_78335_row4_col3, #T_78335_row4_col4, #T_78335_row4_col5, #T_78335_row4_col6, #T_78335_row4_col7, #T_78335_row4_col8, #T_78335_row4_col9, #T_78335_row4_col10, #T_78335_row4_col11, #T_78335_row4_col12 {\n",
              "  background-color: #F0CA86;\n",
              "  color: black;\n",
              "  border-color: black;\n",
              "  border-style: solid;\n",
              "}\n",
              "</style>\n",
              "<table id=\"T_78335\" class=\"dataframe\">\n",
              "  <thead>\n",
              "    <tr>\n",
              "      <th class=\"blank level0\" >&nbsp;</th>\n",
              "      <th id=\"T_78335_level0_col0\" class=\"col_heading level0 col0\" >Player</th>\n",
              "      <th id=\"T_78335_level0_col1\" class=\"col_heading level0 col1\" >Mat</th>\n",
              "      <th id=\"T_78335_level0_col2\" class=\"col_heading level0 col2\" >Inns</th>\n",
              "      <th id=\"T_78335_level0_col3\" class=\"col_heading level0 col3\" >NO</th>\n",
              "      <th id=\"T_78335_level0_col4\" class=\"col_heading level0 col4\" >Runs</th>\n",
              "      <th id=\"T_78335_level0_col5\" class=\"col_heading level0 col5\" >HS</th>\n",
              "      <th id=\"T_78335_level0_col6\" class=\"col_heading level0 col6\" >Ave</th>\n",
              "      <th id=\"T_78335_level0_col7\" class=\"col_heading level0 col7\" >BF</th>\n",
              "      <th id=\"T_78335_level0_col8\" class=\"col_heading level0 col8\" >SR</th>\n",
              "      <th id=\"T_78335_level0_col9\" class=\"col_heading level0 col9\" >100</th>\n",
              "      <th id=\"T_78335_level0_col10\" class=\"col_heading level0 col10\" >50</th>\n",
              "      <th id=\"T_78335_level0_col11\" class=\"col_heading level0 col11\" >0</th>\n",
              "      <th id=\"T_78335_level0_col12\" class=\"col_heading level0 col12\" >Experience</th>\n",
              "    </tr>\n",
              "  </thead>\n",
              "  <tbody>\n",
              "    <tr>\n",
              "      <th id=\"T_78335_level0_row0\" class=\"row_heading level0 row0\" >0</th>\n",
              "      <td id=\"T_78335_row0_col0\" class=\"data row0 col0\" >SR Tendulkar (INDIA)</td>\n",
              "      <td id=\"T_78335_row0_col1\" class=\"data row0 col1\" >463</td>\n",
              "      <td id=\"T_78335_row0_col2\" class=\"data row0 col2\" >452</td>\n",
              "      <td id=\"T_78335_row0_col3\" class=\"data row0 col3\" >41</td>\n",
              "      <td id=\"T_78335_row0_col4\" class=\"data row0 col4\" >18426</td>\n",
              "      <td id=\"T_78335_row0_col5\" class=\"data row0 col5\" >200</td>\n",
              "      <td id=\"T_78335_row0_col6\" class=\"data row0 col6\" >44.830000</td>\n",
              "      <td id=\"T_78335_row0_col7\" class=\"data row0 col7\" >21367</td>\n",
              "      <td id=\"T_78335_row0_col8\" class=\"data row0 col8\" >86.230000</td>\n",
              "      <td id=\"T_78335_row0_col9\" class=\"data row0 col9\" >49</td>\n",
              "      <td id=\"T_78335_row0_col10\" class=\"data row0 col10\" >96</td>\n",
              "      <td id=\"T_78335_row0_col11\" class=\"data row0 col11\" >20</td>\n",
              "      <td id=\"T_78335_row0_col12\" class=\"data row0 col12\" >23</td>\n",
              "    </tr>\n",
              "    <tr>\n",
              "      <th id=\"T_78335_level0_row1\" class=\"row_heading level0 row1\" >1</th>\n",
              "      <td id=\"T_78335_row1_col0\" class=\"data row1 col0\" >KC Sangakkara (Asia/ICC/SL)</td>\n",
              "      <td id=\"T_78335_row1_col1\" class=\"data row1 col1\" >404</td>\n",
              "      <td id=\"T_78335_row1_col2\" class=\"data row1 col2\" >380</td>\n",
              "      <td id=\"T_78335_row1_col3\" class=\"data row1 col3\" >41</td>\n",
              "      <td id=\"T_78335_row1_col4\" class=\"data row1 col4\" >14234</td>\n",
              "      <td id=\"T_78335_row1_col5\" class=\"data row1 col5\" >169</td>\n",
              "      <td id=\"T_78335_row1_col6\" class=\"data row1 col6\" >41.980000</td>\n",
              "      <td id=\"T_78335_row1_col7\" class=\"data row1 col7\" >18048</td>\n",
              "      <td id=\"T_78335_row1_col8\" class=\"data row1 col8\" >78.860000</td>\n",
              "      <td id=\"T_78335_row1_col9\" class=\"data row1 col9\" >25</td>\n",
              "      <td id=\"T_78335_row1_col10\" class=\"data row1 col10\" >93</td>\n",
              "      <td id=\"T_78335_row1_col11\" class=\"data row1 col11\" >15</td>\n",
              "      <td id=\"T_78335_row1_col12\" class=\"data row1 col12\" >15</td>\n",
              "    </tr>\n",
              "    <tr>\n",
              "      <th id=\"T_78335_level0_row2\" class=\"row_heading level0 row2\" >2</th>\n",
              "      <td id=\"T_78335_row2_col0\" class=\"data row2 col0\" >RT Ponting (AUS/ICC)</td>\n",
              "      <td id=\"T_78335_row2_col1\" class=\"data row2 col1\" >375</td>\n",
              "      <td id=\"T_78335_row2_col2\" class=\"data row2 col2\" >365</td>\n",
              "      <td id=\"T_78335_row2_col3\" class=\"data row2 col3\" >39</td>\n",
              "      <td id=\"T_78335_row2_col4\" class=\"data row2 col4\" >13704</td>\n",
              "      <td id=\"T_78335_row2_col5\" class=\"data row2 col5\" >164</td>\n",
              "      <td id=\"T_78335_row2_col6\" class=\"data row2 col6\" >42.030000</td>\n",
              "      <td id=\"T_78335_row2_col7\" class=\"data row2 col7\" >17046</td>\n",
              "      <td id=\"T_78335_row2_col8\" class=\"data row2 col8\" >80.390000</td>\n",
              "      <td id=\"T_78335_row2_col9\" class=\"data row2 col9\" >30</td>\n",
              "      <td id=\"T_78335_row2_col10\" class=\"data row2 col10\" >82</td>\n",
              "      <td id=\"T_78335_row2_col11\" class=\"data row2 col11\" >20</td>\n",
              "      <td id=\"T_78335_row2_col12\" class=\"data row2 col12\" >17</td>\n",
              "    </tr>\n",
              "    <tr>\n",
              "      <th id=\"T_78335_level0_row3\" class=\"row_heading level0 row3\" >3</th>\n",
              "      <td id=\"T_78335_row3_col0\" class=\"data row3 col0\" >ST Jayasuriya (Asia/SL)</td>\n",
              "      <td id=\"T_78335_row3_col1\" class=\"data row3 col1\" >445</td>\n",
              "      <td id=\"T_78335_row3_col2\" class=\"data row3 col2\" >433</td>\n",
              "      <td id=\"T_78335_row3_col3\" class=\"data row3 col3\" >18</td>\n",
              "      <td id=\"T_78335_row3_col4\" class=\"data row3 col4\" >13430</td>\n",
              "      <td id=\"T_78335_row3_col5\" class=\"data row3 col5\" >189</td>\n",
              "      <td id=\"T_78335_row3_col6\" class=\"data row3 col6\" >32.360000</td>\n",
              "      <td id=\"T_78335_row3_col7\" class=\"data row3 col7\" >14725</td>\n",
              "      <td id=\"T_78335_row3_col8\" class=\"data row3 col8\" >91.200000</td>\n",
              "      <td id=\"T_78335_row3_col9\" class=\"data row3 col9\" >28</td>\n",
              "      <td id=\"T_78335_row3_col10\" class=\"data row3 col10\" >68</td>\n",
              "      <td id=\"T_78335_row3_col11\" class=\"data row3 col11\" >34</td>\n",
              "      <td id=\"T_78335_row3_col12\" class=\"data row3 col12\" >22</td>\n",
              "    </tr>\n",
              "    <tr>\n",
              "      <th id=\"T_78335_level0_row4\" class=\"row_heading level0 row4\" >4</th>\n",
              "      <td id=\"T_78335_row4_col0\" class=\"data row4 col0\" >DPMD Jayawardene (Asia/SL)</td>\n",
              "      <td id=\"T_78335_row4_col1\" class=\"data row4 col1\" >448</td>\n",
              "      <td id=\"T_78335_row4_col2\" class=\"data row4 col2\" >418</td>\n",
              "      <td id=\"T_78335_row4_col3\" class=\"data row4 col3\" >39</td>\n",
              "      <td id=\"T_78335_row4_col4\" class=\"data row4 col4\" >12650</td>\n",
              "      <td id=\"T_78335_row4_col5\" class=\"data row4 col5\" >144</td>\n",
              "      <td id=\"T_78335_row4_col6\" class=\"data row4 col6\" >33.370000</td>\n",
              "      <td id=\"T_78335_row4_col7\" class=\"data row4 col7\" >16020</td>\n",
              "      <td id=\"T_78335_row4_col8\" class=\"data row4 col8\" >78.960000</td>\n",
              "      <td id=\"T_78335_row4_col9\" class=\"data row4 col9\" >19</td>\n",
              "      <td id=\"T_78335_row4_col10\" class=\"data row4 col10\" >77</td>\n",
              "      <td id=\"T_78335_row4_col11\" class=\"data row4 col11\" >28</td>\n",
              "      <td id=\"T_78335_row4_col12\" class=\"data row4 col12\" >17</td>\n",
              "    </tr>\n",
              "  </tbody>\n",
              "</table>\n"
            ]
          },
          "metadata": {},
          "execution_count": 34
        }
      ]
    },
    {
      "cell_type": "markdown",
      "source": [
        "**Standardizing the data**"
      ],
      "metadata": {
        "id": "7XXAxoh6Drlm"
      }
    },
    {
      "cell_type": "code",
      "source": [
        "sc = StandardScaler()"
      ],
      "metadata": {
        "id": "vCFMLQD7DjYu"
      },
      "execution_count": null,
      "outputs": []
    },
    {
      "cell_type": "markdown",
      "source": [
        "Standardizing the data"
      ],
      "metadata": {
        "id": "sYy2ScXuD3Jh"
      }
    },
    {
      "cell_type": "code",
      "source": [
        "df_scaled = sc.fit_transform(df_copy)"
      ],
      "metadata": {
        "id": "T14O7ciPDvjq"
      },
      "execution_count": null,
      "outputs": []
    },
    {
      "cell_type": "markdown",
      "source": [
        "Return a array of all the standardized values"
      ],
      "metadata": {
        "id": "A90sr_1kD5ZB"
      }
    },
    {
      "cell_type": "code",
      "source": [
        "df_scaled"
      ],
      "metadata": {
        "colab": {
          "base_uri": "https://localhost:8080/"
        },
        "id": "ZEcyEzKjD1bT",
        "outputId": "393e2721-8c56-487a-f131-6b03adb81d69"
      },
      "execution_count": null,
      "outputs": [
        {
          "output_type": "execute_result",
          "data": {
            "text/plain": [
              "array([[ 2.95528204e+00,  3.16933340e+00,  7.64962749e-01,\n",
              "         4.26232808e+00,  1.63244320e+00,  1.07229395e+00,\n",
              "         3.68121424e+00,  7.03151526e-01,  4.65672622e+00,\n",
              "         3.05005720e+00,  1.14583653e+00,  2.81278702e+00],\n",
              "       [ 2.15517925e+00,  2.13891509e+00,  7.64962749e-01,\n",
              "         2.60911662e+00,  6.35223595e-01,  5.87724608e-01,\n",
              "         2.63538469e+00, -4.41394951e-02,  1.67188751e+00,\n",
              "         2.86541772e+00,  2.96670622e-01,  3.80938324e-01],\n",
              "       [ 1.76190839e+00,  1.92424461e+00,  6.25396797e-01,\n",
              "         2.40009894e+00,  4.74381724e-01,  5.96225824e-01,\n",
              "         2.31965067e+00,  1.10996904e-01,  2.29372891e+00,\n",
              "         2.18840630e+00,  1.14583653e+00,  9.88900497e-01],\n",
              "       [ 2.71118288e+00,  2.89741746e+00, -8.40045698e-01,\n",
              "         2.29204075e+00,  1.27859108e+00, -1.04790945e+00,\n",
              "         1.58829472e+00,  1.20709133e+00,  2.04499235e+00,\n",
              "         1.32675540e+00,  3.52350108e+00,  2.50880593e+00],\n",
              "       [ 2.75186607e+00,  2.68274698e+00,  6.25396797e-01,\n",
              "         1.98442984e+00, -1.68985764e-01, -8.76184872e-01,\n",
              "         1.99635416e+00, -3.39998611e-02,  9.25677829e-01,\n",
              "         1.88067384e+00,  2.50450199e+00,  9.88900497e-01],\n",
              "       [ 1.80259158e+00,  1.70957413e+00,  1.60235846e+00,\n",
              "         1.62515607e+00, -3.94164385e-01,  1.69464756e-01,\n",
              "         1.93081256e+00, -5.12590583e-01, -1.93636689e-01,\n",
              "         2.24995279e+00,  1.14583653e+00,  6.84919410e-01],\n",
              "       [ 1.12453837e+00,  1.19436497e+00,  1.60235846e+00,\n",
              "         1.56205640e+00, -3.29827636e-01,  9.92382513e-01,\n",
              "         1.95381514e+00, -6.49475641e-01,  6.76941269e-01,\n",
              "         2.43459227e+00,  6.36336987e-01,  1.29288158e+00],\n",
              "       [ 8.94000281e-01,  9.94005852e-01, -4.91130818e-01,\n",
              "         1.47687184e+00,  1.08558084e+00,  4.24501251e-01,\n",
              "         1.80603146e+00, -5.67344606e-01,  1.29878267e+00,\n",
              "         1.57294137e+00,  4.66503804e-01,  3.80938324e-01],\n",
              "       [ 1.34151540e+00,  1.25161043e+00,  6.95179773e-01,\n",
              "         1.28993905e+00,  1.20529605e-01,  1.08255997e-01,\n",
              "         1.76443775e+00, -8.16779601e-01,  5.50998708e-02,\n",
              "         2.24995279e+00, -4.29957423e-02,  3.80938324e-01],\n",
              "       [ 7.31267511e-01,  8.36580832e-01,  1.36915966e-01,\n",
              "         1.09906254e+00,  6.35223595e-01,  3.32688113e-01,\n",
              "         1.07183957e+00,  2.17681255e-02,  9.25677829e-01,\n",
              "         1.01902294e+00,  4.66503804e-01,  9.88900497e-01],\n",
              "       [ 1.15166050e+00,  1.03693995e+00,  7.64962749e-01,\n",
              "         1.05370965e+00,  3.77876600e-01,  1.26958674e-01,\n",
              "         7.08524880e-01,  7.03151526e-01,  1.29878267e+00,\n",
              "         3.42790592e-02, -3.82662107e-01,  9.88900497e-01],\n",
              "       [ 5.82095805e-01,  6.07598985e-01,  6.95179773e-01,\n",
              "         8.28917057e-01, -2.65490887e-01,  5.41818038e-01,\n",
              "         1.02646463e+00, -4.25389731e-01,  4.28204710e-01,\n",
              "         1.08056943e+00,  2.96670622e-01, -5.31004936e-01],\n",
              "       [ 5.68534741e-01,  6.93467177e-01, -1.32852653e+00,\n",
              "         7.89085388e-01,  7.31728719e-01, -4.47723561e-01,\n",
              "         7.48511155e-02,  1.78910632e+00,  5.52572990e-01,\n",
              "         5.26651000e-01,  9.76003351e-01, -5.31004936e-01],\n",
              "       [ 6.77023254e-01,  3.49994406e-01,  2.78866905e+00,\n",
              "         7.40577513e-01,  1.08558084e+00,  2.17575185e+00,\n",
              "         3.21892504e-01,  9.52586521e-01, -1.93636689e-01,\n",
              "         1.08056943e+00, -8.92161654e-01, -2.27023850e-01],\n",
              "       [ 1.20590476e+00,  1.10849678e+00,  1.67214144e+00,\n",
              "         6.94041503e-01,  1.20529605e-01, -2.72598501e-01,\n",
              "         9.40441285e-01, -5.34897778e-01, -5.66741528e-01,\n",
              "         7.11290478e-01, -7.22328471e-01,  3.80938324e-01],\n",
              "       [-3.12934430e-01, -2.51082944e-01,  6.25396797e-01,\n",
              "         6.70773499e-01,  4.10044975e-01,  2.55490610e+00,\n",
              "        -1.22718974e-01,  2.12472820e+00,  1.54751923e+00,\n",
              "         4.03558015e-01, -1.06199484e+00, -5.31004936e-01],\n",
              "       [ 8.53317089e-01,  9.36760390e-01, -2.64998643e-03,\n",
              "         6.56970445e-01, -1.36817390e-01, -6.16047648e-01,\n",
              "         5.54124013e-01,  1.86030195e-01, -6.92684089e-02,\n",
              "         1.08056943e+00,  6.36336987e-01,  1.59686267e+00],\n",
              "       [ 3.24435586e-01,  4.78796695e-01, -9.09828674e-01,\n",
              "         6.32124948e-01,  2.11496882e+00, -2.02888526e-01,\n",
              "         3.62225791e-01,  5.89587626e-01,  1.29878267e+00,\n",
              "         3.42790592e-02,  1.65533608e+00,  6.84919410e-01],\n",
              "       [ 2.60921741e-02,  1.92569386e-01, -7.70262722e-01,\n",
              "         4.75558882e-01,  1.43943296e+00,  1.16757214e-01,\n",
              "         3.94996588e-01,  1.39387879e-01,  1.05004611e+00,\n",
              "        -2.11906911e-01,  2.96670622e-01,  7.69572371e-02],\n",
              "       [ 3.10874522e-01,  2.92748944e-01,  6.95179773e-01,\n",
              "         4.57417725e-01,  2.40244821e-02,  5.23115362e-01,\n",
              "         8.58199191e-01, -8.67477771e-01, -6.92684089e-02,\n",
              "         7.72836970e-01, -1.23182802e+00,  9.88900497e-01],\n",
              "       [ 7.99072832e-01,  6.79155812e-01,  6.95179773e-01,\n",
              "         4.27051007e-01,  2.40244821e-02, -3.35507504e-01,\n",
              "         7.54813231e-02,  8.49162255e-01,  3.03836430e-01,\n",
              "         3.42011522e-01,  8.06170169e-01,  9.88900497e-01],\n",
              "       [-9.59574035e-02,  9.23898277e-02, -1.42215938e-01,\n",
              "         4.06149240e-01,  8.83612309e-02,  4.84009766e-01,\n",
              "         1.26751904e+00, -1.64315977e+00,  6.76941269e-01,\n",
              "         6.49743985e-01, -4.29957423e-02,  6.84919410e-01],\n",
              "       [ 3.10874522e-01,  4.07239868e-01,  1.36915966e-01,\n",
              "         3.59218857e-01, -5.55006257e-01, -1.62082687e-01,\n",
              "         9.16808500e-01, -1.17369472e+00, -6.92684089e-02,\n",
              "         7.72836970e-01, -4.29957423e-02,  9.88900497e-01],\n",
              "       [-1.45910184e-02,  7.80784622e-02, -7.00479746e-01,\n",
              "         3.47782041e-01,  7.63897093e-01,  1.40560620e-01,\n",
              "         4.31233526e-01, -2.42876320e-01,  8.01309549e-01,\n",
              "         2.18918537e-01,  4.66503804e-01,  7.69572371e-02],\n",
              "       [ 8.03364308e-02,  2.06880751e-01, -1.46809248e+00,\n",
              "         2.58259379e-01,  2.24364231e+00, -5.90543998e-01,\n",
              "        -5.53150781e-01,  2.53842527e+00,  4.28204710e-01,\n",
              "        -5.19639374e-01,  1.26837440e-01,  7.69572371e-02],\n",
              "       [-7.74010612e-01, -7.23358004e-01, -7.24329624e-02,\n",
              "         2.08174012e-01,  1.08558084e+00,  2.62121559e+00,\n",
              "        -2.30799582e-01,  1.18579810e+00,  1.92062407e+00,\n",
              "        -2.11906911e-01, -3.82662107e-01, -1.44294820e+00],\n",
              "       [ 3.96532383e-02,  1.35323924e-01, -9.79611650e-01,\n",
              "         1.87666618e-01,  8.28233842e-01, -4.06917722e-01,\n",
              "         1.15152494e-02,  4.02004398e-01,  1.17441439e+00,\n",
              "        -5.81185867e-01,  1.48550290e+00,  7.69572371e-02],\n",
              "       [ 2.07381286e+00,  1.98149007e+00, -2.11998914e-01,\n",
              "         1.75835429e-01, -8.12353252e-01, -2.54242330e+00,\n",
              "        -8.79913433e-01,  3.82311689e+00, -6.91109807e-01,\n",
              "        -4.58092882e-01,  2.84416836e+00,  1.59686267e+00],\n",
              "       [ 4.73607292e-01,  5.50353523e-01, -6.30696770e-01,\n",
              "         1.65187359e-01, -4.90669508e-01, -1.04110847e+00,\n",
              "         4.90788147e-01, -7.91430516e-01, -4.42373248e-01,\n",
              "         1.57372044e-01,  6.36336987e-01, -2.27023850e-01],\n",
              "       [-1.02995424e-03, -1.07969289e-01,  9.74311677e-01,\n",
              "         1.43102473e-01, -6.19343006e-01,  1.02978787e+00,\n",
              "         1.32200009e-01, -3.19719343e-02, -4.42373248e-01,\n",
              "         7.11290478e-01, -5.52495289e-01, -5.31004936e-01],\n",
              "       [ 1.08385518e+00,  8.22269467e-01,  1.95127334e+00,\n",
              "        -1.93791879e-02, -9.41026749e-01, -9.56096307e-01,\n",
              "         9.02912023e-02, -3.43258696e-01, -1.06421465e+00,\n",
              "        -8.88139260e-02,  2.96670622e-01,  6.84919410e-01],\n",
              "       [ 3.24435586e-01,  3.49994406e-01,  1.18366061e+00,\n",
              "        -6.39433328e-02, -5.87174631e-01, -4.56224778e-01,\n",
              "        -3.57503223e-02, -1.41479981e-01, -9.39846367e-01,\n",
              "         1.57372044e-01,  8.06170169e-01,  9.88900497e-01],\n",
              "       [-1.63762724e-01, -1.79526116e-01,  7.64962749e-01,\n",
              "        -9.35213051e-02, -9.73195124e-01,  5.40117795e-01,\n",
              "         4.18944478e-01, -1.24568612e+00, -4.42373248e-01,\n",
              "         2.18918537e-01, -8.92161654e-01,  2.20482484e+00],\n",
              "       [ 2.70191329e-01,  3.49994406e-01, -4.91130818e-01,\n",
              "        -1.45578536e-01, -1.68985764e-01, -1.23833670e+00,\n",
              "        -1.77894050e-02, -4.06124427e-01, -5.66741528e-01,\n",
              "         9.58255518e-02,  1.48550290e+00,  3.80938324e-01],\n",
              "       [-1.20796467e+00, -1.10976487e+00, -1.39830951e+00,\n",
              "        -1.70424033e-01,  3.13539852e-01,  1.99382582e+00,\n",
              "        -5.09036247e-01,  9.89089203e-01,  1.67188751e+00,\n",
              "        -8.27371837e-01, -1.74132756e+00, -1.44294820e+00],\n",
              "       [ 5.14290484e-01,  3.64305772e-01,  5.55613821e-01,\n",
              "        -1.76734000e-01, -1.52005749e+00, -9.59496794e-01,\n",
              "        -9.49898388e-02, -2.92560526e-01, -8.15478087e-01,\n",
              "         3.42790592e-02,  9.76003351e-01,  9.88900497e-01],\n",
              "       [-2.99373366e-01, -1.93837482e-01, -1.11917760e+00,\n",
              "        -2.08283838e-01, -1.36817390e-01, -6.12647161e-01,\n",
              "         2.38042981e-02, -6.74824726e-01,  5.52572990e-01,\n",
              "        -3.34999896e-01,  9.76003351e-01, -5.31004936e-01],\n",
              "       [-6.51961035e-01, -5.22998887e-01, -1.39830951e+00,\n",
              "        -2.48115507e-01, -2.65490887e-01, -9.23727119e-02,\n",
              "        -3.26591140e-01,  1.53583367e-01, -1.93636689e-01,\n",
              "         3.42790592e-02, -8.92161654e-01, -8.34986023e-01],\n",
              "       [-1.77323788e-01, -4.94376157e-01,  2.57932012e+00,\n",
              "        -2.78482225e-01, -1.32704724e+00,  2.56000683e+00,\n",
              "        -1.14841379e-01, -5.20702290e-01, -6.91109807e-01,\n",
              "        -2.72674334e-02, -1.40166120e+00, -1.13896711e+00],\n",
              "       [-8.14693805e-01, -6.51801177e-01, -7.70262722e-01,\n",
              "        -3.23440743e-01,  1.24642271e+00,  4.12599548e-01,\n",
              "        -7.82893368e-02, -7.35662529e-01,  1.79468150e-01,\n",
              "        -8.88139260e-02, -3.82662107e-01, -1.13896711e+00],\n",
              "       [-4.34984008e-01, -3.22639771e-01, -9.79611650e-01,\n",
              "        -3.28173219e-01, -1.36817390e-01, -5.41236943e-01,\n",
              "        -1.85109529e-01, -4.77101864e-01, -9.39846367e-01,\n",
              "         5.26651000e-01, -4.29957423e-02, -8.34986023e-01],\n",
              "       [ 9.38974950e-02, -3.64124615e-02,  4.16047869e-01,\n",
              "        -3.36455051e-01, -2.01154139e-01, -5.59939619e-01,\n",
              "        -4.43179550e-01,  2.45854035e-01, -3.18004968e-01,\n",
              "        -4.58092882e-01, -4.29957423e-02,  1.29288158e+00],\n",
              "       [-7.87571676e-01, -9.09405755e-01, -4.21347842e-01,\n",
              "        -3.53807461e-01,  1.27859108e+00,  1.44124674e+00,\n",
              "        -7.03770402e-01,  1.10569499e+00, -6.92684089e-02,\n",
              "        -8.88139260e-02, -1.06199484e+00,  6.84919410e-01],\n",
              "       [-3.26495494e-01, -2.36771578e-01, -8.40045698e-01,\n",
              "        -4.12963406e-01, -2.33322513e-01, -8.50681223e-01,\n",
              "         1.21454570e-02, -1.18789020e+00, -6.91109807e-01,\n",
              "        -3.96546389e-01,  8.06170169e-01,  1.29288158e+00],\n",
              "       [ 6.67753666e-02,  2.08330004e-02, -7.24329624e-02,\n",
              "        -4.15724016e-01, -3.29827636e-01, -1.05301018e+00,\n",
              "        -4.75950347e-01,  1.01871234e-01, -1.93636689e-01,\n",
              "        -5.81185867e-01,  1.26837440e-01,  7.69572371e-02],\n",
              "       [ 3.78679843e-01,  3.07060310e-01,  6.25396797e-01,\n",
              "        -4.31498935e-01, -7.15848129e-01, -1.34375178e+00,\n",
              "        -1.73450688e-01, -7.98528260e-01, -1.06421465e+00,\n",
              "        -4.58092882e-01, -3.82662107e-01,  3.80938324e-01],\n",
              "       [-7.46888484e-01, -7.80603466e-01, -7.24329624e-02,\n",
              "        -4.46485108e-01, -5.87174631e-01,  9.51576673e-01,\n",
              "        -5.60398168e-01,  2.77286901e-01,  6.76941269e-01,\n",
              "        -5.81185867e-01, -7.22328471e-01, -8.34986023e-01],\n",
              "       [-2.85812302e-01, -1.93837482e-01, -2.64998643e-03,\n",
              "        -5.40345873e-01, -8.76690001e-01, -8.69383899e-01,\n",
              "         3.67235543e-02, -1.57725215e+00, -8.15478087e-01,\n",
              "        -1.50360419e-01, -8.92161654e-01, -2.27023850e-01],\n",
              "       [-5.57033585e-01, -5.37310253e-01, -1.11917760e+00,\n",
              "        -5.82938153e-01,  7.96065467e-01, -7.18062246e-01,\n",
              "        -4.73114412e-01, -4.32487475e-01,  3.03836430e-01,\n",
              "        -7.65825344e-01,  2.96670622e-01, -5.31004936e-01],\n",
              "       [-1.14015934e+00, -1.08114214e+00, -1.04939463e+00,\n",
              "        -5.85698764e-01,  1.02124409e+00,  8.97168888e-01,\n",
              "        -6.04197598e-01, -3.39998611e-02, -1.93636689e-01,\n",
              "        -6.42732359e-01, -7.22328471e-01,  3.80938324e-01],\n",
              "       [ 2.02386008e-01, -3.64124615e-02, -1.42215938e-01,\n",
              "        -6.05417412e-01,  5.38718472e-01, -1.37945689e+00,\n",
              "        -1.06267364e+00,  1.73131041e+00, -8.15478087e-01,\n",
              "        -8.88918330e-01,  1.14583653e+00,  7.69572371e-02],\n",
              "       [-1.09947615e+00, -9.95273948e-01, -3.51564866e-01,\n",
              "        -6.11333006e-01, -1.36817390e-01,  1.03488860e+00,\n",
              "        -4.16710830e-01, -6.82936433e-01, -5.66741528e-01,\n",
              "        -2.72674334e-02, -1.23182802e+00, -1.13896711e+00],\n",
              "       [-8.68938061e-01, -7.66292100e-01, -9.79611650e-01,\n",
              "        -6.52347795e-01, -8.76690001e-01, -2.52195582e-01,\n",
              "        -1.66203300e-01, -1.43631123e+00, -8.15478087e-01,\n",
              "        -5.81185867e-01, -1.23182802e+00, -8.34986023e-01],\n",
              "       [-1.02995424e-03, -1.50903385e-01,  1.46279251e+00,\n",
              "        -6.63784611e-01, -9.08858375e-01, -5.80342539e-01,\n",
              "        -7.40007341e-01,  1.62709037e-01, -1.18858293e+00,\n",
              "        -8.27371837e-01, -2.12828925e-01, -8.34986023e-01],\n",
              "       [-7.46888484e-01, -5.80244349e-01, -1.25874355e+00,\n",
              "        -6.87052616e-01, -2.97659262e-01, -9.37393631e-01,\n",
              "        -6.01991871e-01, -3.76719488e-01, -6.92684089e-02,\n",
              "        -8.88918330e-01,  4.66503804e-01,  7.69572371e-02],\n",
              "       [-6.38399970e-01, -4.80064791e-01, -1.04939463e+00,\n",
              "        -7.00855669e-01, -9.73195124e-01, -1.09381601e+00,\n",
              "        -1.44461137e-01, -1.62085257e+00, -3.18004968e-01,\n",
              "        -9.50464822e-01,  2.96670622e-01, -5.31004936e-01],\n",
              "       [-8.68938061e-01, -8.80783024e-01,  2.06698941e-01,\n",
              "        -7.15447469e-01, -9.41026749e-01,  7.05041395e-01,\n",
              "        -6.36968394e-01, -3.60496074e-01, -8.15478087e-01,\n",
              "        -5.19639374e-01, -8.92161654e-01, -2.27023850e-01],\n",
              "       [-8.14693805e-01, -8.09226197e-01, -3.51564866e-01,\n",
              "        -7.28067404e-01, -8.12353252e-01,  3.51455355e-02,\n",
              "        -9.99337778e-01,  9.45488777e-01, -6.92684089e-02,\n",
              "        -7.65825344e-01, -2.12828925e-01, -8.34986023e-01],\n",
              "       [-2.45129109e-01, -3.51262502e-01,  9.04528701e-01,\n",
              "        -7.32405506e-01, -1.16620537e+00, -5.41236943e-01,\n",
              "        -6.82973551e-01, -2.70253332e-01, -5.66741528e-01,\n",
              "        -1.07355781e+00, -1.06199484e+00,  6.84919410e-01],\n",
              "       [-7.46888484e-01, -8.80783024e-01, -2.11998914e-01,\n",
              "        -7.33982998e-01,  1.14991759e+00,  3.42889573e-01,\n",
              "        -1.04597314e+00,  1.13003011e+00, -3.18004968e-01,\n",
              "        -8.27371837e-01, -2.12828925e-01, -2.27023850e-01],\n",
              "       [-9.77426575e-01, -8.52160293e-01, -1.81700736e+00,\n",
              "        -7.39504220e-01,  1.52697980e-01, -7.04460299e-01,\n",
              "        -7.40952652e-01, -9.99074817e-02, -3.18004968e-01,\n",
              "        -5.19639374e-01,  4.66503804e-01, -1.13896711e+00],\n",
              "       [-2.99373366e-01, -5.51621618e-01,  3.46264893e-01,\n",
              "        -8.08519488e-01, -1.06970025e+00, -5.20834023e-01,\n",
              "        -1.18052247e+00,  1.46666596e+00, -8.15478087e-01,\n",
              "        -6.42732359e-01,  1.26837440e-01, -1.13896711e+00],\n",
              "       [-7.74010612e-01, -7.94914831e-01,  6.71329895e-02,\n",
              "        -8.09702607e-01, -1.19837374e+00,  1.98433458e-02,\n",
              "        -7.58598466e-01, -2.86476746e-01, -1.18858293e+00,\n",
              "        -4.58092882e-01, -8.92161654e-01, -1.74692928e+00],\n",
              "       [-1.34357531e+00, -1.25287853e+00, -9.79611650e-01,\n",
              "        -8.35336850e-01,  2.82267305e+00,  8.12156723e-01,\n",
              "        -1.07622311e+00,  8.55246035e-01,  5.50998708e-02,\n",
              "        -8.88918330e-01, -2.12828925e-01, -1.74692928e+00],\n",
              "       [-8.14693805e-01, -1.05251941e+00,  9.74311677e-01,\n",
              "        -8.58210482e-01, -1.29487887e+00,  1.63677472e+00,\n",
              "        -1.08441581e+00,  7.97450122e-01, -1.06421465e+00,\n",
              "        -4.58092882e-01, -1.74132756e+00, -1.74692928e+00],\n",
              "       [-1.18084254e+00, -1.12407624e+00, -4.21347842e-01,\n",
              "        -8.60971093e-01,  3.69121916e+00,  6.69336286e-01,\n",
              "        -1.02643671e+00,  5.33819639e-01, -6.92684089e-02,\n",
              "        -9.50464822e-01, -3.82662107e-01, -1.13896711e+00],\n",
              "       [-1.14015934e+00, -1.05251941e+00, -1.11917760e+00,\n",
              "        -8.68464179e-01, -2.65490887e-01, -1.11075388e-01,\n",
              "        -8.39895249e-01, -2.16513272e-01, -9.39846367e-01,\n",
              "        -7.04278852e-01, -1.23182802e+00, -8.34986023e-01],\n",
              "       [-6.65522099e-01, -7.37669370e-01,  4.16047869e-01,\n",
              "        -8.90943438e-01, -9.73195124e-01, -1.79085120e-01,\n",
              "        -6.32556941e-01, -9.62790330e-01, -6.91109807e-01,\n",
              "        -1.01201131e+00, -5.52495289e-01, -1.74692928e+00],\n",
              "       [-5.02789329e-01, -6.94735273e-01,  1.46279251e+00,\n",
              "        -8.96070286e-01, -1.68985764e-01,  3.87095898e-01,\n",
              "        -8.84639990e-01, -1.58717359e-01, -8.15478087e-01,\n",
              "        -5.81185867e-01, -5.52495289e-01,  7.69572371e-02],\n",
              "       [-1.05879296e+00, -9.23717121e-01, -1.04939463e+00,\n",
              "        -9.30775107e-01, -1.36817390e-01, -6.29649594e-01,\n",
              "        -8.26975993e-01, -4.89269425e-01, -4.42373248e-01,\n",
              "        -8.88918330e-01, -4.29957423e-02, -8.34986023e-01],\n",
              "       [-1.33001424e+00, -1.25287853e+00, -1.32852653e+00,\n",
              "        -9.38662566e-01,  2.40244821e-02,  1.96668649e-01,\n",
              "        -1.11561108e+00,  6.03783113e-01, -6.92684089e-02,\n",
              "        -7.65825344e-01, -3.82662107e-01, -1.13896711e+00],\n",
              "       [-7.74010612e-01, -6.66112542e-01, -1.11917760e+00,\n",
              "        -9.59564333e-01, -5.87174631e-01, -1.36415470e+00,\n",
              "        -5.83085643e-01, -1.32984508e+00, -5.66741528e-01,\n",
              "        -1.01201131e+00, -3.82662107e-01, -8.34986023e-01],\n",
              "       [-7.87571676e-01, -7.66292100e-01, -2.81781890e-01,\n",
              "        -9.61536198e-01, -5.22837882e-01, -7.18062246e-01,\n",
              "        -9.10793607e-01, -3.09797904e-01, -1.93636689e-01,\n",
              "        -1.13510430e+00, -5.52495289e-01,  6.84919410e-01],\n",
              "       [-4.34984008e-01, -4.65753426e-01, -4.91130818e-01,\n",
              "        -9.68634912e-01, -9.73195124e-01, -1.53587927e+00,\n",
              "        -3.66609324e-01, -1.89867854e+00, -9.39846367e-01,\n",
              "        -7.04278852e-01,  2.96670622e-01, -2.27023850e-01],\n",
              "       [-1.58767446e+00, -1.48186037e+00, -1.18896058e+00,\n",
              "        -9.79677355e-01, -5.22837882e-01,  1.10629881e+00,\n",
              "        -5.59767961e-01, -1.45760447e+00, -6.92684089e-02,\n",
              "        -9.50464822e-01, -1.74132756e+00,  6.84919410e-01],\n",
              "       [-1.12659828e+00, -1.16701033e+00,  6.71329895e-02,\n",
              "        -9.84409830e-01, -1.71306773e+00,  8.29159156e-01,\n",
              "        -8.63212931e-01, -5.62274789e-01, -1.43731949e+00,\n",
              "        -2.73453404e-01, -1.23182802e+00, -2.27023850e-01],\n",
              "       [-6.51961035e-01, -7.09046639e-01,  4.85830845e-01,\n",
              "        -9.96241019e-01, -9.41026749e-01, -5.37836456e-01,\n",
              "        -9.67512293e-01, -2.34764613e-01, -8.15478087e-01,\n",
              "        -1.25819729e+00, -1.06199484e+00, -1.13896711e+00],\n",
              "       [-6.38399970e-01, -9.95273948e-01,  2.06698941e-01,\n",
              "        -9.97818511e-01,  2.17034728e-01,  2.08570352e-01,\n",
              "        -1.31727752e+00,  1.33282279e+00, -6.91109807e-01,\n",
              "        -1.01201131e+00,  2.96670622e-01, -8.34986023e-01],\n",
              "       [ 2.70191329e-01, -3.64124615e-02,  1.88149036e+00,\n",
              "        -1.00097349e+00, -1.19837374e+00, -1.50017416e+00,\n",
              "        -1.08157987e+00,  1.98197756e-01, -1.06421465e+00,\n",
              "        -1.44283676e+00,  1.26837440e-01,  3.80938324e-01]])"
            ]
          },
          "metadata": {},
          "execution_count": 37
        }
      ]
    },
    {
      "cell_type": "markdown",
      "source": [
        "Creating a dataframe where all the values are in a order"
      ],
      "metadata": {
        "id": "mpPwwNk-D91V"
      }
    },
    {
      "cell_type": "code",
      "source": [
        "scaled_df = pd.DataFrame(df_scaled, columns = ['Mat', 'Inns', 'NO', 'Runs', 'HS', 'Ave', 'BF', 'SR', '100','50', '0', 'Experience'])"
      ],
      "metadata": {
        "id": "EoM8qRj6D2Ui"
      },
      "execution_count": null,
      "outputs": []
    },
    {
      "cell_type": "code",
      "source": [
        "# Data overview\n",
        "scaled_df.style.set_properties(\n",
        "    **{\n",
        "        'background-color':'#F0CA86',\n",
        "        \"color\": 'black',\n",
        "        \"border-color\":'black',\n",
        "        'border-style': 'solid'\n",
        "    }\n",
        ")"
      ],
      "metadata": {
        "colab": {
          "base_uri": "https://localhost:8080/",
          "height": 1000
        },
        "id": "5EHMDejvK53F",
        "outputId": "b57534b0-ab73-4de3-bdbb-5c77e349cde1"
      },
      "execution_count": null,
      "outputs": [
        {
          "output_type": "execute_result",
          "data": {
            "text/plain": [
              "<pandas.io.formats.style.Styler at 0x7f308e9d5690>"
            ],
            "text/html": [
              "<style type=\"text/css\">\n",
              "#T_65dfd_row0_col0, #T_65dfd_row0_col1, #T_65dfd_row0_col2, #T_65dfd_row0_col3, #T_65dfd_row0_col4, #T_65dfd_row0_col5, #T_65dfd_row0_col6, #T_65dfd_row0_col7, #T_65dfd_row0_col8, #T_65dfd_row0_col9, #T_65dfd_row0_col10, #T_65dfd_row0_col11, #T_65dfd_row1_col0, #T_65dfd_row1_col1, #T_65dfd_row1_col2, #T_65dfd_row1_col3, #T_65dfd_row1_col4, #T_65dfd_row1_col5, #T_65dfd_row1_col6, #T_65dfd_row1_col7, #T_65dfd_row1_col8, #T_65dfd_row1_col9, #T_65dfd_row1_col10, #T_65dfd_row1_col11, #T_65dfd_row2_col0, #T_65dfd_row2_col1, #T_65dfd_row2_col2, #T_65dfd_row2_col3, #T_65dfd_row2_col4, #T_65dfd_row2_col5, #T_65dfd_row2_col6, #T_65dfd_row2_col7, #T_65dfd_row2_col8, #T_65dfd_row2_col9, #T_65dfd_row2_col10, #T_65dfd_row2_col11, #T_65dfd_row3_col0, #T_65dfd_row3_col1, #T_65dfd_row3_col2, #T_65dfd_row3_col3, #T_65dfd_row3_col4, #T_65dfd_row3_col5, #T_65dfd_row3_col6, #T_65dfd_row3_col7, #T_65dfd_row3_col8, #T_65dfd_row3_col9, #T_65dfd_row3_col10, #T_65dfd_row3_col11, #T_65dfd_row4_col0, #T_65dfd_row4_col1, #T_65dfd_row4_col2, #T_65dfd_row4_col3, #T_65dfd_row4_col4, #T_65dfd_row4_col5, #T_65dfd_row4_col6, #T_65dfd_row4_col7, #T_65dfd_row4_col8, #T_65dfd_row4_col9, #T_65dfd_row4_col10, #T_65dfd_row4_col11, #T_65dfd_row5_col0, #T_65dfd_row5_col1, #T_65dfd_row5_col2, #T_65dfd_row5_col3, #T_65dfd_row5_col4, #T_65dfd_row5_col5, #T_65dfd_row5_col6, #T_65dfd_row5_col7, #T_65dfd_row5_col8, #T_65dfd_row5_col9, #T_65dfd_row5_col10, #T_65dfd_row5_col11, #T_65dfd_row6_col0, #T_65dfd_row6_col1, #T_65dfd_row6_col2, #T_65dfd_row6_col3, #T_65dfd_row6_col4, #T_65dfd_row6_col5, #T_65dfd_row6_col6, #T_65dfd_row6_col7, #T_65dfd_row6_col8, #T_65dfd_row6_col9, #T_65dfd_row6_col10, #T_65dfd_row6_col11, #T_65dfd_row7_col0, #T_65dfd_row7_col1, #T_65dfd_row7_col2, #T_65dfd_row7_col3, #T_65dfd_row7_col4, #T_65dfd_row7_col5, #T_65dfd_row7_col6, #T_65dfd_row7_col7, #T_65dfd_row7_col8, #T_65dfd_row7_col9, #T_65dfd_row7_col10, #T_65dfd_row7_col11, #T_65dfd_row8_col0, #T_65dfd_row8_col1, #T_65dfd_row8_col2, #T_65dfd_row8_col3, #T_65dfd_row8_col4, #T_65dfd_row8_col5, #T_65dfd_row8_col6, #T_65dfd_row8_col7, #T_65dfd_row8_col8, #T_65dfd_row8_col9, #T_65dfd_row8_col10, #T_65dfd_row8_col11, #T_65dfd_row9_col0, #T_65dfd_row9_col1, #T_65dfd_row9_col2, #T_65dfd_row9_col3, #T_65dfd_row9_col4, #T_65dfd_row9_col5, #T_65dfd_row9_col6, #T_65dfd_row9_col7, #T_65dfd_row9_col8, #T_65dfd_row9_col9, #T_65dfd_row9_col10, #T_65dfd_row9_col11, #T_65dfd_row10_col0, #T_65dfd_row10_col1, #T_65dfd_row10_col2, #T_65dfd_row10_col3, #T_65dfd_row10_col4, #T_65dfd_row10_col5, #T_65dfd_row10_col6, #T_65dfd_row10_col7, #T_65dfd_row10_col8, #T_65dfd_row10_col9, #T_65dfd_row10_col10, #T_65dfd_row10_col11, #T_65dfd_row11_col0, #T_65dfd_row11_col1, #T_65dfd_row11_col2, #T_65dfd_row11_col3, #T_65dfd_row11_col4, #T_65dfd_row11_col5, #T_65dfd_row11_col6, #T_65dfd_row11_col7, #T_65dfd_row11_col8, #T_65dfd_row11_col9, #T_65dfd_row11_col10, #T_65dfd_row11_col11, #T_65dfd_row12_col0, #T_65dfd_row12_col1, #T_65dfd_row12_col2, #T_65dfd_row12_col3, #T_65dfd_row12_col4, #T_65dfd_row12_col5, #T_65dfd_row12_col6, #T_65dfd_row12_col7, #T_65dfd_row12_col8, #T_65dfd_row12_col9, #T_65dfd_row12_col10, #T_65dfd_row12_col11, #T_65dfd_row13_col0, #T_65dfd_row13_col1, #T_65dfd_row13_col2, #T_65dfd_row13_col3, #T_65dfd_row13_col4, #T_65dfd_row13_col5, #T_65dfd_row13_col6, #T_65dfd_row13_col7, #T_65dfd_row13_col8, #T_65dfd_row13_col9, #T_65dfd_row13_col10, #T_65dfd_row13_col11, #T_65dfd_row14_col0, #T_65dfd_row14_col1, #T_65dfd_row14_col2, #T_65dfd_row14_col3, #T_65dfd_row14_col4, #T_65dfd_row14_col5, #T_65dfd_row14_col6, #T_65dfd_row14_col7, #T_65dfd_row14_col8, #T_65dfd_row14_col9, #T_65dfd_row14_col10, #T_65dfd_row14_col11, #T_65dfd_row15_col0, #T_65dfd_row15_col1, #T_65dfd_row15_col2, #T_65dfd_row15_col3, #T_65dfd_row15_col4, #T_65dfd_row15_col5, #T_65dfd_row15_col6, #T_65dfd_row15_col7, #T_65dfd_row15_col8, #T_65dfd_row15_col9, #T_65dfd_row15_col10, #T_65dfd_row15_col11, #T_65dfd_row16_col0, #T_65dfd_row16_col1, #T_65dfd_row16_col2, #T_65dfd_row16_col3, #T_65dfd_row16_col4, #T_65dfd_row16_col5, #T_65dfd_row16_col6, #T_65dfd_row16_col7, #T_65dfd_row16_col8, #T_65dfd_row16_col9, #T_65dfd_row16_col10, #T_65dfd_row16_col11, #T_65dfd_row17_col0, #T_65dfd_row17_col1, #T_65dfd_row17_col2, #T_65dfd_row17_col3, #T_65dfd_row17_col4, #T_65dfd_row17_col5, #T_65dfd_row17_col6, #T_65dfd_row17_col7, #T_65dfd_row17_col8, #T_65dfd_row17_col9, #T_65dfd_row17_col10, #T_65dfd_row17_col11, #T_65dfd_row18_col0, #T_65dfd_row18_col1, #T_65dfd_row18_col2, #T_65dfd_row18_col3, #T_65dfd_row18_col4, #T_65dfd_row18_col5, #T_65dfd_row18_col6, #T_65dfd_row18_col7, #T_65dfd_row18_col8, #T_65dfd_row18_col9, #T_65dfd_row18_col10, #T_65dfd_row18_col11, #T_65dfd_row19_col0, #T_65dfd_row19_col1, #T_65dfd_row19_col2, #T_65dfd_row19_col3, #T_65dfd_row19_col4, #T_65dfd_row19_col5, #T_65dfd_row19_col6, #T_65dfd_row19_col7, #T_65dfd_row19_col8, #T_65dfd_row19_col9, #T_65dfd_row19_col10, #T_65dfd_row19_col11, #T_65dfd_row20_col0, #T_65dfd_row20_col1, #T_65dfd_row20_col2, #T_65dfd_row20_col3, #T_65dfd_row20_col4, #T_65dfd_row20_col5, #T_65dfd_row20_col6, #T_65dfd_row20_col7, #T_65dfd_row20_col8, #T_65dfd_row20_col9, #T_65dfd_row20_col10, #T_65dfd_row20_col11, #T_65dfd_row21_col0, #T_65dfd_row21_col1, #T_65dfd_row21_col2, #T_65dfd_row21_col3, #T_65dfd_row21_col4, #T_65dfd_row21_col5, #T_65dfd_row21_col6, #T_65dfd_row21_col7, #T_65dfd_row21_col8, #T_65dfd_row21_col9, #T_65dfd_row21_col10, #T_65dfd_row21_col11, #T_65dfd_row22_col0, #T_65dfd_row22_col1, #T_65dfd_row22_col2, #T_65dfd_row22_col3, #T_65dfd_row22_col4, #T_65dfd_row22_col5, #T_65dfd_row22_col6, #T_65dfd_row22_col7, #T_65dfd_row22_col8, #T_65dfd_row22_col9, #T_65dfd_row22_col10, #T_65dfd_row22_col11, #T_65dfd_row23_col0, #T_65dfd_row23_col1, #T_65dfd_row23_col2, #T_65dfd_row23_col3, #T_65dfd_row23_col4, #T_65dfd_row23_col5, #T_65dfd_row23_col6, #T_65dfd_row23_col7, #T_65dfd_row23_col8, #T_65dfd_row23_col9, #T_65dfd_row23_col10, #T_65dfd_row23_col11, #T_65dfd_row24_col0, #T_65dfd_row24_col1, #T_65dfd_row24_col2, #T_65dfd_row24_col3, #T_65dfd_row24_col4, #T_65dfd_row24_col5, #T_65dfd_row24_col6, #T_65dfd_row24_col7, #T_65dfd_row24_col8, #T_65dfd_row24_col9, #T_65dfd_row24_col10, #T_65dfd_row24_col11, #T_65dfd_row25_col0, #T_65dfd_row25_col1, #T_65dfd_row25_col2, #T_65dfd_row25_col3, #T_65dfd_row25_col4, #T_65dfd_row25_col5, #T_65dfd_row25_col6, #T_65dfd_row25_col7, #T_65dfd_row25_col8, #T_65dfd_row25_col9, #T_65dfd_row25_col10, #T_65dfd_row25_col11, #T_65dfd_row26_col0, #T_65dfd_row26_col1, #T_65dfd_row26_col2, #T_65dfd_row26_col3, #T_65dfd_row26_col4, #T_65dfd_row26_col5, #T_65dfd_row26_col6, #T_65dfd_row26_col7, #T_65dfd_row26_col8, #T_65dfd_row26_col9, #T_65dfd_row26_col10, #T_65dfd_row26_col11, #T_65dfd_row27_col0, #T_65dfd_row27_col1, #T_65dfd_row27_col2, #T_65dfd_row27_col3, #T_65dfd_row27_col4, #T_65dfd_row27_col5, #T_65dfd_row27_col6, #T_65dfd_row27_col7, #T_65dfd_row27_col8, #T_65dfd_row27_col9, #T_65dfd_row27_col10, #T_65dfd_row27_col11, #T_65dfd_row28_col0, #T_65dfd_row28_col1, #T_65dfd_row28_col2, #T_65dfd_row28_col3, #T_65dfd_row28_col4, #T_65dfd_row28_col5, #T_65dfd_row28_col6, #T_65dfd_row28_col7, #T_65dfd_row28_col8, #T_65dfd_row28_col9, #T_65dfd_row28_col10, #T_65dfd_row28_col11, #T_65dfd_row29_col0, #T_65dfd_row29_col1, #T_65dfd_row29_col2, #T_65dfd_row29_col3, #T_65dfd_row29_col4, #T_65dfd_row29_col5, #T_65dfd_row29_col6, #T_65dfd_row29_col7, #T_65dfd_row29_col8, #T_65dfd_row29_col9, #T_65dfd_row29_col10, #T_65dfd_row29_col11, #T_65dfd_row30_col0, #T_65dfd_row30_col1, #T_65dfd_row30_col2, #T_65dfd_row30_col3, #T_65dfd_row30_col4, #T_65dfd_row30_col5, #T_65dfd_row30_col6, #T_65dfd_row30_col7, #T_65dfd_row30_col8, #T_65dfd_row30_col9, #T_65dfd_row30_col10, #T_65dfd_row30_col11, #T_65dfd_row31_col0, #T_65dfd_row31_col1, #T_65dfd_row31_col2, #T_65dfd_row31_col3, #T_65dfd_row31_col4, #T_65dfd_row31_col5, #T_65dfd_row31_col6, #T_65dfd_row31_col7, #T_65dfd_row31_col8, #T_65dfd_row31_col9, #T_65dfd_row31_col10, #T_65dfd_row31_col11, #T_65dfd_row32_col0, #T_65dfd_row32_col1, #T_65dfd_row32_col2, #T_65dfd_row32_col3, #T_65dfd_row32_col4, #T_65dfd_row32_col5, #T_65dfd_row32_col6, #T_65dfd_row32_col7, #T_65dfd_row32_col8, #T_65dfd_row32_col9, #T_65dfd_row32_col10, #T_65dfd_row32_col11, #T_65dfd_row33_col0, #T_65dfd_row33_col1, #T_65dfd_row33_col2, #T_65dfd_row33_col3, #T_65dfd_row33_col4, #T_65dfd_row33_col5, #T_65dfd_row33_col6, #T_65dfd_row33_col7, #T_65dfd_row33_col8, #T_65dfd_row33_col9, #T_65dfd_row33_col10, #T_65dfd_row33_col11, #T_65dfd_row34_col0, #T_65dfd_row34_col1, #T_65dfd_row34_col2, #T_65dfd_row34_col3, #T_65dfd_row34_col4, #T_65dfd_row34_col5, #T_65dfd_row34_col6, #T_65dfd_row34_col7, #T_65dfd_row34_col8, #T_65dfd_row34_col9, #T_65dfd_row34_col10, #T_65dfd_row34_col11, #T_65dfd_row35_col0, #T_65dfd_row35_col1, #T_65dfd_row35_col2, #T_65dfd_row35_col3, #T_65dfd_row35_col4, #T_65dfd_row35_col5, #T_65dfd_row35_col6, #T_65dfd_row35_col7, #T_65dfd_row35_col8, #T_65dfd_row35_col9, #T_65dfd_row35_col10, #T_65dfd_row35_col11, #T_65dfd_row36_col0, #T_65dfd_row36_col1, #T_65dfd_row36_col2, #T_65dfd_row36_col3, #T_65dfd_row36_col4, #T_65dfd_row36_col5, #T_65dfd_row36_col6, #T_65dfd_row36_col7, #T_65dfd_row36_col8, #T_65dfd_row36_col9, #T_65dfd_row36_col10, #T_65dfd_row36_col11, #T_65dfd_row37_col0, #T_65dfd_row37_col1, #T_65dfd_row37_col2, #T_65dfd_row37_col3, #T_65dfd_row37_col4, #T_65dfd_row37_col5, #T_65dfd_row37_col6, #T_65dfd_row37_col7, #T_65dfd_row37_col8, #T_65dfd_row37_col9, #T_65dfd_row37_col10, #T_65dfd_row37_col11, #T_65dfd_row38_col0, #T_65dfd_row38_col1, #T_65dfd_row38_col2, #T_65dfd_row38_col3, #T_65dfd_row38_col4, #T_65dfd_row38_col5, #T_65dfd_row38_col6, #T_65dfd_row38_col7, #T_65dfd_row38_col8, #T_65dfd_row38_col9, #T_65dfd_row38_col10, #T_65dfd_row38_col11, #T_65dfd_row39_col0, #T_65dfd_row39_col1, #T_65dfd_row39_col2, #T_65dfd_row39_col3, #T_65dfd_row39_col4, #T_65dfd_row39_col5, #T_65dfd_row39_col6, #T_65dfd_row39_col7, #T_65dfd_row39_col8, #T_65dfd_row39_col9, #T_65dfd_row39_col10, #T_65dfd_row39_col11, #T_65dfd_row40_col0, #T_65dfd_row40_col1, #T_65dfd_row40_col2, #T_65dfd_row40_col3, #T_65dfd_row40_col4, #T_65dfd_row40_col5, #T_65dfd_row40_col6, #T_65dfd_row40_col7, #T_65dfd_row40_col8, #T_65dfd_row40_col9, #T_65dfd_row40_col10, #T_65dfd_row40_col11, #T_65dfd_row41_col0, #T_65dfd_row41_col1, #T_65dfd_row41_col2, #T_65dfd_row41_col3, #T_65dfd_row41_col4, #T_65dfd_row41_col5, #T_65dfd_row41_col6, #T_65dfd_row41_col7, #T_65dfd_row41_col8, #T_65dfd_row41_col9, #T_65dfd_row41_col10, #T_65dfd_row41_col11, #T_65dfd_row42_col0, #T_65dfd_row42_col1, #T_65dfd_row42_col2, #T_65dfd_row42_col3, #T_65dfd_row42_col4, #T_65dfd_row42_col5, #T_65dfd_row42_col6, #T_65dfd_row42_col7, #T_65dfd_row42_col8, #T_65dfd_row42_col9, #T_65dfd_row42_col10, #T_65dfd_row42_col11, #T_65dfd_row43_col0, #T_65dfd_row43_col1, #T_65dfd_row43_col2, #T_65dfd_row43_col3, #T_65dfd_row43_col4, #T_65dfd_row43_col5, #T_65dfd_row43_col6, #T_65dfd_row43_col7, #T_65dfd_row43_col8, #T_65dfd_row43_col9, #T_65dfd_row43_col10, #T_65dfd_row43_col11, #T_65dfd_row44_col0, #T_65dfd_row44_col1, #T_65dfd_row44_col2, #T_65dfd_row44_col3, #T_65dfd_row44_col4, #T_65dfd_row44_col5, #T_65dfd_row44_col6, #T_65dfd_row44_col7, #T_65dfd_row44_col8, #T_65dfd_row44_col9, #T_65dfd_row44_col10, #T_65dfd_row44_col11, #T_65dfd_row45_col0, #T_65dfd_row45_col1, #T_65dfd_row45_col2, #T_65dfd_row45_col3, #T_65dfd_row45_col4, #T_65dfd_row45_col5, #T_65dfd_row45_col6, #T_65dfd_row45_col7, #T_65dfd_row45_col8, #T_65dfd_row45_col9, #T_65dfd_row45_col10, #T_65dfd_row45_col11, #T_65dfd_row46_col0, #T_65dfd_row46_col1, #T_65dfd_row46_col2, #T_65dfd_row46_col3, #T_65dfd_row46_col4, #T_65dfd_row46_col5, #T_65dfd_row46_col6, #T_65dfd_row46_col7, #T_65dfd_row46_col8, #T_65dfd_row46_col9, #T_65dfd_row46_col10, #T_65dfd_row46_col11, #T_65dfd_row47_col0, #T_65dfd_row47_col1, #T_65dfd_row47_col2, #T_65dfd_row47_col3, #T_65dfd_row47_col4, #T_65dfd_row47_col5, #T_65dfd_row47_col6, #T_65dfd_row47_col7, #T_65dfd_row47_col8, #T_65dfd_row47_col9, #T_65dfd_row47_col10, #T_65dfd_row47_col11, #T_65dfd_row48_col0, #T_65dfd_row48_col1, #T_65dfd_row48_col2, #T_65dfd_row48_col3, #T_65dfd_row48_col4, #T_65dfd_row48_col5, #T_65dfd_row48_col6, #T_65dfd_row48_col7, #T_65dfd_row48_col8, #T_65dfd_row48_col9, #T_65dfd_row48_col10, #T_65dfd_row48_col11, #T_65dfd_row49_col0, #T_65dfd_row49_col1, #T_65dfd_row49_col2, #T_65dfd_row49_col3, #T_65dfd_row49_col4, #T_65dfd_row49_col5, #T_65dfd_row49_col6, #T_65dfd_row49_col7, #T_65dfd_row49_col8, #T_65dfd_row49_col9, #T_65dfd_row49_col10, #T_65dfd_row49_col11, #T_65dfd_row50_col0, #T_65dfd_row50_col1, #T_65dfd_row50_col2, #T_65dfd_row50_col3, #T_65dfd_row50_col4, #T_65dfd_row50_col5, #T_65dfd_row50_col6, #T_65dfd_row50_col7, #T_65dfd_row50_col8, #T_65dfd_row50_col9, #T_65dfd_row50_col10, #T_65dfd_row50_col11, #T_65dfd_row51_col0, #T_65dfd_row51_col1, #T_65dfd_row51_col2, #T_65dfd_row51_col3, #T_65dfd_row51_col4, #T_65dfd_row51_col5, #T_65dfd_row51_col6, #T_65dfd_row51_col7, #T_65dfd_row51_col8, #T_65dfd_row51_col9, #T_65dfd_row51_col10, #T_65dfd_row51_col11, #T_65dfd_row52_col0, #T_65dfd_row52_col1, #T_65dfd_row52_col2, #T_65dfd_row52_col3, #T_65dfd_row52_col4, #T_65dfd_row52_col5, #T_65dfd_row52_col6, #T_65dfd_row52_col7, #T_65dfd_row52_col8, #T_65dfd_row52_col9, #T_65dfd_row52_col10, #T_65dfd_row52_col11, #T_65dfd_row53_col0, #T_65dfd_row53_col1, #T_65dfd_row53_col2, #T_65dfd_row53_col3, #T_65dfd_row53_col4, #T_65dfd_row53_col5, #T_65dfd_row53_col6, #T_65dfd_row53_col7, #T_65dfd_row53_col8, #T_65dfd_row53_col9, #T_65dfd_row53_col10, #T_65dfd_row53_col11, #T_65dfd_row54_col0, #T_65dfd_row54_col1, #T_65dfd_row54_col2, #T_65dfd_row54_col3, #T_65dfd_row54_col4, #T_65dfd_row54_col5, #T_65dfd_row54_col6, #T_65dfd_row54_col7, #T_65dfd_row54_col8, #T_65dfd_row54_col9, #T_65dfd_row54_col10, #T_65dfd_row54_col11, #T_65dfd_row55_col0, #T_65dfd_row55_col1, #T_65dfd_row55_col2, #T_65dfd_row55_col3, #T_65dfd_row55_col4, #T_65dfd_row55_col5, #T_65dfd_row55_col6, #T_65dfd_row55_col7, #T_65dfd_row55_col8, #T_65dfd_row55_col9, #T_65dfd_row55_col10, #T_65dfd_row55_col11, #T_65dfd_row56_col0, #T_65dfd_row56_col1, #T_65dfd_row56_col2, #T_65dfd_row56_col3, #T_65dfd_row56_col4, #T_65dfd_row56_col5, #T_65dfd_row56_col6, #T_65dfd_row56_col7, #T_65dfd_row56_col8, #T_65dfd_row56_col9, #T_65dfd_row56_col10, #T_65dfd_row56_col11, #T_65dfd_row57_col0, #T_65dfd_row57_col1, #T_65dfd_row57_col2, #T_65dfd_row57_col3, #T_65dfd_row57_col4, #T_65dfd_row57_col5, #T_65dfd_row57_col6, #T_65dfd_row57_col7, #T_65dfd_row57_col8, #T_65dfd_row57_col9, #T_65dfd_row57_col10, #T_65dfd_row57_col11, #T_65dfd_row58_col0, #T_65dfd_row58_col1, #T_65dfd_row58_col2, #T_65dfd_row58_col3, #T_65dfd_row58_col4, #T_65dfd_row58_col5, #T_65dfd_row58_col6, #T_65dfd_row58_col7, #T_65dfd_row58_col8, #T_65dfd_row58_col9, #T_65dfd_row58_col10, #T_65dfd_row58_col11, #T_65dfd_row59_col0, #T_65dfd_row59_col1, #T_65dfd_row59_col2, #T_65dfd_row59_col3, #T_65dfd_row59_col4, #T_65dfd_row59_col5, #T_65dfd_row59_col6, #T_65dfd_row59_col7, #T_65dfd_row59_col8, #T_65dfd_row59_col9, #T_65dfd_row59_col10, #T_65dfd_row59_col11, #T_65dfd_row60_col0, #T_65dfd_row60_col1, #T_65dfd_row60_col2, #T_65dfd_row60_col3, #T_65dfd_row60_col4, #T_65dfd_row60_col5, #T_65dfd_row60_col6, #T_65dfd_row60_col7, #T_65dfd_row60_col8, #T_65dfd_row60_col9, #T_65dfd_row60_col10, #T_65dfd_row60_col11, #T_65dfd_row61_col0, #T_65dfd_row61_col1, #T_65dfd_row61_col2, #T_65dfd_row61_col3, #T_65dfd_row61_col4, #T_65dfd_row61_col5, #T_65dfd_row61_col6, #T_65dfd_row61_col7, #T_65dfd_row61_col8, #T_65dfd_row61_col9, #T_65dfd_row61_col10, #T_65dfd_row61_col11, #T_65dfd_row62_col0, #T_65dfd_row62_col1, #T_65dfd_row62_col2, #T_65dfd_row62_col3, #T_65dfd_row62_col4, #T_65dfd_row62_col5, #T_65dfd_row62_col6, #T_65dfd_row62_col7, #T_65dfd_row62_col8, #T_65dfd_row62_col9, #T_65dfd_row62_col10, #T_65dfd_row62_col11, #T_65dfd_row63_col0, #T_65dfd_row63_col1, #T_65dfd_row63_col2, #T_65dfd_row63_col3, #T_65dfd_row63_col4, #T_65dfd_row63_col5, #T_65dfd_row63_col6, #T_65dfd_row63_col7, #T_65dfd_row63_col8, #T_65dfd_row63_col9, #T_65dfd_row63_col10, #T_65dfd_row63_col11, #T_65dfd_row64_col0, #T_65dfd_row64_col1, #T_65dfd_row64_col2, #T_65dfd_row64_col3, #T_65dfd_row64_col4, #T_65dfd_row64_col5, #T_65dfd_row64_col6, #T_65dfd_row64_col7, #T_65dfd_row64_col8, #T_65dfd_row64_col9, #T_65dfd_row64_col10, #T_65dfd_row64_col11, #T_65dfd_row65_col0, #T_65dfd_row65_col1, #T_65dfd_row65_col2, #T_65dfd_row65_col3, #T_65dfd_row65_col4, #T_65dfd_row65_col5, #T_65dfd_row65_col6, #T_65dfd_row65_col7, #T_65dfd_row65_col8, #T_65dfd_row65_col9, #T_65dfd_row65_col10, #T_65dfd_row65_col11, #T_65dfd_row66_col0, #T_65dfd_row66_col1, #T_65dfd_row66_col2, #T_65dfd_row66_col3, #T_65dfd_row66_col4, #T_65dfd_row66_col5, #T_65dfd_row66_col6, #T_65dfd_row66_col7, #T_65dfd_row66_col8, #T_65dfd_row66_col9, #T_65dfd_row66_col10, #T_65dfd_row66_col11, #T_65dfd_row67_col0, #T_65dfd_row67_col1, #T_65dfd_row67_col2, #T_65dfd_row67_col3, #T_65dfd_row67_col4, #T_65dfd_row67_col5, #T_65dfd_row67_col6, #T_65dfd_row67_col7, #T_65dfd_row67_col8, #T_65dfd_row67_col9, #T_65dfd_row67_col10, #T_65dfd_row67_col11, #T_65dfd_row68_col0, #T_65dfd_row68_col1, #T_65dfd_row68_col2, #T_65dfd_row68_col3, #T_65dfd_row68_col4, #T_65dfd_row68_col5, #T_65dfd_row68_col6, #T_65dfd_row68_col7, #T_65dfd_row68_col8, #T_65dfd_row68_col9, #T_65dfd_row68_col10, #T_65dfd_row68_col11, #T_65dfd_row69_col0, #T_65dfd_row69_col1, #T_65dfd_row69_col2, #T_65dfd_row69_col3, #T_65dfd_row69_col4, #T_65dfd_row69_col5, #T_65dfd_row69_col6, #T_65dfd_row69_col7, #T_65dfd_row69_col8, #T_65dfd_row69_col9, #T_65dfd_row69_col10, #T_65dfd_row69_col11, #T_65dfd_row70_col0, #T_65dfd_row70_col1, #T_65dfd_row70_col2, #T_65dfd_row70_col3, #T_65dfd_row70_col4, #T_65dfd_row70_col5, #T_65dfd_row70_col6, #T_65dfd_row70_col7, #T_65dfd_row70_col8, #T_65dfd_row70_col9, #T_65dfd_row70_col10, #T_65dfd_row70_col11, #T_65dfd_row71_col0, #T_65dfd_row71_col1, #T_65dfd_row71_col2, #T_65dfd_row71_col3, #T_65dfd_row71_col4, #T_65dfd_row71_col5, #T_65dfd_row71_col6, #T_65dfd_row71_col7, #T_65dfd_row71_col8, #T_65dfd_row71_col9, #T_65dfd_row71_col10, #T_65dfd_row71_col11, #T_65dfd_row72_col0, #T_65dfd_row72_col1, #T_65dfd_row72_col2, #T_65dfd_row72_col3, #T_65dfd_row72_col4, #T_65dfd_row72_col5, #T_65dfd_row72_col6, #T_65dfd_row72_col7, #T_65dfd_row72_col8, #T_65dfd_row72_col9, #T_65dfd_row72_col10, #T_65dfd_row72_col11, #T_65dfd_row73_col0, #T_65dfd_row73_col1, #T_65dfd_row73_col2, #T_65dfd_row73_col3, #T_65dfd_row73_col4, #T_65dfd_row73_col5, #T_65dfd_row73_col6, #T_65dfd_row73_col7, #T_65dfd_row73_col8, #T_65dfd_row73_col9, #T_65dfd_row73_col10, #T_65dfd_row73_col11, #T_65dfd_row74_col0, #T_65dfd_row74_col1, #T_65dfd_row74_col2, #T_65dfd_row74_col3, #T_65dfd_row74_col4, #T_65dfd_row74_col5, #T_65dfd_row74_col6, #T_65dfd_row74_col7, #T_65dfd_row74_col8, #T_65dfd_row74_col9, #T_65dfd_row74_col10, #T_65dfd_row74_col11, #T_65dfd_row75_col0, #T_65dfd_row75_col1, #T_65dfd_row75_col2, #T_65dfd_row75_col3, #T_65dfd_row75_col4, #T_65dfd_row75_col5, #T_65dfd_row75_col6, #T_65dfd_row75_col7, #T_65dfd_row75_col8, #T_65dfd_row75_col9, #T_65dfd_row75_col10, #T_65dfd_row75_col11, #T_65dfd_row76_col0, #T_65dfd_row76_col1, #T_65dfd_row76_col2, #T_65dfd_row76_col3, #T_65dfd_row76_col4, #T_65dfd_row76_col5, #T_65dfd_row76_col6, #T_65dfd_row76_col7, #T_65dfd_row76_col8, #T_65dfd_row76_col9, #T_65dfd_row76_col10, #T_65dfd_row76_col11, #T_65dfd_row77_col0, #T_65dfd_row77_col1, #T_65dfd_row77_col2, #T_65dfd_row77_col3, #T_65dfd_row77_col4, #T_65dfd_row77_col5, #T_65dfd_row77_col6, #T_65dfd_row77_col7, #T_65dfd_row77_col8, #T_65dfd_row77_col9, #T_65dfd_row77_col10, #T_65dfd_row77_col11, #T_65dfd_row78_col0, #T_65dfd_row78_col1, #T_65dfd_row78_col2, #T_65dfd_row78_col3, #T_65dfd_row78_col4, #T_65dfd_row78_col5, #T_65dfd_row78_col6, #T_65dfd_row78_col7, #T_65dfd_row78_col8, #T_65dfd_row78_col9, #T_65dfd_row78_col10, #T_65dfd_row78_col11 {\n",
              "  background-color: #F0CA86;\n",
              "  color: black;\n",
              "  border-color: black;\n",
              "  border-style: solid;\n",
              "}\n",
              "</style>\n",
              "<table id=\"T_65dfd\" class=\"dataframe\">\n",
              "  <thead>\n",
              "    <tr>\n",
              "      <th class=\"blank level0\" >&nbsp;</th>\n",
              "      <th id=\"T_65dfd_level0_col0\" class=\"col_heading level0 col0\" >Mat</th>\n",
              "      <th id=\"T_65dfd_level0_col1\" class=\"col_heading level0 col1\" >Inns</th>\n",
              "      <th id=\"T_65dfd_level0_col2\" class=\"col_heading level0 col2\" >NO</th>\n",
              "      <th id=\"T_65dfd_level0_col3\" class=\"col_heading level0 col3\" >Runs</th>\n",
              "      <th id=\"T_65dfd_level0_col4\" class=\"col_heading level0 col4\" >HS</th>\n",
              "      <th id=\"T_65dfd_level0_col5\" class=\"col_heading level0 col5\" >Ave</th>\n",
              "      <th id=\"T_65dfd_level0_col6\" class=\"col_heading level0 col6\" >BF</th>\n",
              "      <th id=\"T_65dfd_level0_col7\" class=\"col_heading level0 col7\" >SR</th>\n",
              "      <th id=\"T_65dfd_level0_col8\" class=\"col_heading level0 col8\" >100</th>\n",
              "      <th id=\"T_65dfd_level0_col9\" class=\"col_heading level0 col9\" >50</th>\n",
              "      <th id=\"T_65dfd_level0_col10\" class=\"col_heading level0 col10\" >0</th>\n",
              "      <th id=\"T_65dfd_level0_col11\" class=\"col_heading level0 col11\" >Experience</th>\n",
              "    </tr>\n",
              "  </thead>\n",
              "  <tbody>\n",
              "    <tr>\n",
              "      <th id=\"T_65dfd_level0_row0\" class=\"row_heading level0 row0\" >0</th>\n",
              "      <td id=\"T_65dfd_row0_col0\" class=\"data row0 col0\" >2.955282</td>\n",
              "      <td id=\"T_65dfd_row0_col1\" class=\"data row0 col1\" >3.169333</td>\n",
              "      <td id=\"T_65dfd_row0_col2\" class=\"data row0 col2\" >0.764963</td>\n",
              "      <td id=\"T_65dfd_row0_col3\" class=\"data row0 col3\" >4.262328</td>\n",
              "      <td id=\"T_65dfd_row0_col4\" class=\"data row0 col4\" >1.632443</td>\n",
              "      <td id=\"T_65dfd_row0_col5\" class=\"data row0 col5\" >1.072294</td>\n",
              "      <td id=\"T_65dfd_row0_col6\" class=\"data row0 col6\" >3.681214</td>\n",
              "      <td id=\"T_65dfd_row0_col7\" class=\"data row0 col7\" >0.703152</td>\n",
              "      <td id=\"T_65dfd_row0_col8\" class=\"data row0 col8\" >4.656726</td>\n",
              "      <td id=\"T_65dfd_row0_col9\" class=\"data row0 col9\" >3.050057</td>\n",
              "      <td id=\"T_65dfd_row0_col10\" class=\"data row0 col10\" >1.145837</td>\n",
              "      <td id=\"T_65dfd_row0_col11\" class=\"data row0 col11\" >2.812787</td>\n",
              "    </tr>\n",
              "    <tr>\n",
              "      <th id=\"T_65dfd_level0_row1\" class=\"row_heading level0 row1\" >1</th>\n",
              "      <td id=\"T_65dfd_row1_col0\" class=\"data row1 col0\" >2.155179</td>\n",
              "      <td id=\"T_65dfd_row1_col1\" class=\"data row1 col1\" >2.138915</td>\n",
              "      <td id=\"T_65dfd_row1_col2\" class=\"data row1 col2\" >0.764963</td>\n",
              "      <td id=\"T_65dfd_row1_col3\" class=\"data row1 col3\" >2.609117</td>\n",
              "      <td id=\"T_65dfd_row1_col4\" class=\"data row1 col4\" >0.635224</td>\n",
              "      <td id=\"T_65dfd_row1_col5\" class=\"data row1 col5\" >0.587725</td>\n",
              "      <td id=\"T_65dfd_row1_col6\" class=\"data row1 col6\" >2.635385</td>\n",
              "      <td id=\"T_65dfd_row1_col7\" class=\"data row1 col7\" >-0.044139</td>\n",
              "      <td id=\"T_65dfd_row1_col8\" class=\"data row1 col8\" >1.671888</td>\n",
              "      <td id=\"T_65dfd_row1_col9\" class=\"data row1 col9\" >2.865418</td>\n",
              "      <td id=\"T_65dfd_row1_col10\" class=\"data row1 col10\" >0.296671</td>\n",
              "      <td id=\"T_65dfd_row1_col11\" class=\"data row1 col11\" >0.380938</td>\n",
              "    </tr>\n",
              "    <tr>\n",
              "      <th id=\"T_65dfd_level0_row2\" class=\"row_heading level0 row2\" >2</th>\n",
              "      <td id=\"T_65dfd_row2_col0\" class=\"data row2 col0\" >1.761908</td>\n",
              "      <td id=\"T_65dfd_row2_col1\" class=\"data row2 col1\" >1.924245</td>\n",
              "      <td id=\"T_65dfd_row2_col2\" class=\"data row2 col2\" >0.625397</td>\n",
              "      <td id=\"T_65dfd_row2_col3\" class=\"data row2 col3\" >2.400099</td>\n",
              "      <td id=\"T_65dfd_row2_col4\" class=\"data row2 col4\" >0.474382</td>\n",
              "      <td id=\"T_65dfd_row2_col5\" class=\"data row2 col5\" >0.596226</td>\n",
              "      <td id=\"T_65dfd_row2_col6\" class=\"data row2 col6\" >2.319651</td>\n",
              "      <td id=\"T_65dfd_row2_col7\" class=\"data row2 col7\" >0.110997</td>\n",
              "      <td id=\"T_65dfd_row2_col8\" class=\"data row2 col8\" >2.293729</td>\n",
              "      <td id=\"T_65dfd_row2_col9\" class=\"data row2 col9\" >2.188406</td>\n",
              "      <td id=\"T_65dfd_row2_col10\" class=\"data row2 col10\" >1.145837</td>\n",
              "      <td id=\"T_65dfd_row2_col11\" class=\"data row2 col11\" >0.988900</td>\n",
              "    </tr>\n",
              "    <tr>\n",
              "      <th id=\"T_65dfd_level0_row3\" class=\"row_heading level0 row3\" >3</th>\n",
              "      <td id=\"T_65dfd_row3_col0\" class=\"data row3 col0\" >2.711183</td>\n",
              "      <td id=\"T_65dfd_row3_col1\" class=\"data row3 col1\" >2.897417</td>\n",
              "      <td id=\"T_65dfd_row3_col2\" class=\"data row3 col2\" >-0.840046</td>\n",
              "      <td id=\"T_65dfd_row3_col3\" class=\"data row3 col3\" >2.292041</td>\n",
              "      <td id=\"T_65dfd_row3_col4\" class=\"data row3 col4\" >1.278591</td>\n",
              "      <td id=\"T_65dfd_row3_col5\" class=\"data row3 col5\" >-1.047909</td>\n",
              "      <td id=\"T_65dfd_row3_col6\" class=\"data row3 col6\" >1.588295</td>\n",
              "      <td id=\"T_65dfd_row3_col7\" class=\"data row3 col7\" >1.207091</td>\n",
              "      <td id=\"T_65dfd_row3_col8\" class=\"data row3 col8\" >2.044992</td>\n",
              "      <td id=\"T_65dfd_row3_col9\" class=\"data row3 col9\" >1.326755</td>\n",
              "      <td id=\"T_65dfd_row3_col10\" class=\"data row3 col10\" >3.523501</td>\n",
              "      <td id=\"T_65dfd_row3_col11\" class=\"data row3 col11\" >2.508806</td>\n",
              "    </tr>\n",
              "    <tr>\n",
              "      <th id=\"T_65dfd_level0_row4\" class=\"row_heading level0 row4\" >4</th>\n",
              "      <td id=\"T_65dfd_row4_col0\" class=\"data row4 col0\" >2.751866</td>\n",
              "      <td id=\"T_65dfd_row4_col1\" class=\"data row4 col1\" >2.682747</td>\n",
              "      <td id=\"T_65dfd_row4_col2\" class=\"data row4 col2\" >0.625397</td>\n",
              "      <td id=\"T_65dfd_row4_col3\" class=\"data row4 col3\" >1.984430</td>\n",
              "      <td id=\"T_65dfd_row4_col4\" class=\"data row4 col4\" >-0.168986</td>\n",
              "      <td id=\"T_65dfd_row4_col5\" class=\"data row4 col5\" >-0.876185</td>\n",
              "      <td id=\"T_65dfd_row4_col6\" class=\"data row4 col6\" >1.996354</td>\n",
              "      <td id=\"T_65dfd_row4_col7\" class=\"data row4 col7\" >-0.034000</td>\n",
              "      <td id=\"T_65dfd_row4_col8\" class=\"data row4 col8\" >0.925678</td>\n",
              "      <td id=\"T_65dfd_row4_col9\" class=\"data row4 col9\" >1.880674</td>\n",
              "      <td id=\"T_65dfd_row4_col10\" class=\"data row4 col10\" >2.504502</td>\n",
              "      <td id=\"T_65dfd_row4_col11\" class=\"data row4 col11\" >0.988900</td>\n",
              "    </tr>\n",
              "    <tr>\n",
              "      <th id=\"T_65dfd_level0_row5\" class=\"row_heading level0 row5\" >5</th>\n",
              "      <td id=\"T_65dfd_row5_col0\" class=\"data row5 col0\" >1.802592</td>\n",
              "      <td id=\"T_65dfd_row5_col1\" class=\"data row5 col1\" >1.709574</td>\n",
              "      <td id=\"T_65dfd_row5_col2\" class=\"data row5 col2\" >1.602358</td>\n",
              "      <td id=\"T_65dfd_row5_col3\" class=\"data row5 col3\" >1.625156</td>\n",
              "      <td id=\"T_65dfd_row5_col4\" class=\"data row5 col4\" >-0.394164</td>\n",
              "      <td id=\"T_65dfd_row5_col5\" class=\"data row5 col5\" >0.169465</td>\n",
              "      <td id=\"T_65dfd_row5_col6\" class=\"data row5 col6\" >1.930813</td>\n",
              "      <td id=\"T_65dfd_row5_col7\" class=\"data row5 col7\" >-0.512591</td>\n",
              "      <td id=\"T_65dfd_row5_col8\" class=\"data row5 col8\" >-0.193637</td>\n",
              "      <td id=\"T_65dfd_row5_col9\" class=\"data row5 col9\" >2.249953</td>\n",
              "      <td id=\"T_65dfd_row5_col10\" class=\"data row5 col10\" >1.145837</td>\n",
              "      <td id=\"T_65dfd_row5_col11\" class=\"data row5 col11\" >0.684919</td>\n",
              "    </tr>\n",
              "    <tr>\n",
              "      <th id=\"T_65dfd_level0_row6\" class=\"row_heading level0 row6\" >6</th>\n",
              "      <td id=\"T_65dfd_row6_col0\" class=\"data row6 col0\" >1.124538</td>\n",
              "      <td id=\"T_65dfd_row6_col1\" class=\"data row6 col1\" >1.194365</td>\n",
              "      <td id=\"T_65dfd_row6_col2\" class=\"data row6 col2\" >1.602358</td>\n",
              "      <td id=\"T_65dfd_row6_col3\" class=\"data row6 col3\" >1.562056</td>\n",
              "      <td id=\"T_65dfd_row6_col4\" class=\"data row6 col4\" >-0.329828</td>\n",
              "      <td id=\"T_65dfd_row6_col5\" class=\"data row6 col5\" >0.992383</td>\n",
              "      <td id=\"T_65dfd_row6_col6\" class=\"data row6 col6\" >1.953815</td>\n",
              "      <td id=\"T_65dfd_row6_col7\" class=\"data row6 col7\" >-0.649476</td>\n",
              "      <td id=\"T_65dfd_row6_col8\" class=\"data row6 col8\" >0.676941</td>\n",
              "      <td id=\"T_65dfd_row6_col9\" class=\"data row6 col9\" >2.434592</td>\n",
              "      <td id=\"T_65dfd_row6_col10\" class=\"data row6 col10\" >0.636337</td>\n",
              "      <td id=\"T_65dfd_row6_col11\" class=\"data row6 col11\" >1.292882</td>\n",
              "    </tr>\n",
              "    <tr>\n",
              "      <th id=\"T_65dfd_level0_row7\" class=\"row_heading level0 row7\" >7</th>\n",
              "      <td id=\"T_65dfd_row7_col0\" class=\"data row7 col0\" >0.894000</td>\n",
              "      <td id=\"T_65dfd_row7_col1\" class=\"data row7 col1\" >0.994006</td>\n",
              "      <td id=\"T_65dfd_row7_col2\" class=\"data row7 col2\" >-0.491131</td>\n",
              "      <td id=\"T_65dfd_row7_col3\" class=\"data row7 col3\" >1.476872</td>\n",
              "      <td id=\"T_65dfd_row7_col4\" class=\"data row7 col4\" >1.085581</td>\n",
              "      <td id=\"T_65dfd_row7_col5\" class=\"data row7 col5\" >0.424501</td>\n",
              "      <td id=\"T_65dfd_row7_col6\" class=\"data row7 col6\" >1.806031</td>\n",
              "      <td id=\"T_65dfd_row7_col7\" class=\"data row7 col7\" >-0.567345</td>\n",
              "      <td id=\"T_65dfd_row7_col8\" class=\"data row7 col8\" >1.298783</td>\n",
              "      <td id=\"T_65dfd_row7_col9\" class=\"data row7 col9\" >1.572941</td>\n",
              "      <td id=\"T_65dfd_row7_col10\" class=\"data row7 col10\" >0.466504</td>\n",
              "      <td id=\"T_65dfd_row7_col11\" class=\"data row7 col11\" >0.380938</td>\n",
              "    </tr>\n",
              "    <tr>\n",
              "      <th id=\"T_65dfd_level0_row8\" class=\"row_heading level0 row8\" >8</th>\n",
              "      <td id=\"T_65dfd_row8_col0\" class=\"data row8 col0\" >1.341515</td>\n",
              "      <td id=\"T_65dfd_row8_col1\" class=\"data row8 col1\" >1.251610</td>\n",
              "      <td id=\"T_65dfd_row8_col2\" class=\"data row8 col2\" >0.695180</td>\n",
              "      <td id=\"T_65dfd_row8_col3\" class=\"data row8 col3\" >1.289939</td>\n",
              "      <td id=\"T_65dfd_row8_col4\" class=\"data row8 col4\" >0.120530</td>\n",
              "      <td id=\"T_65dfd_row8_col5\" class=\"data row8 col5\" >0.108256</td>\n",
              "      <td id=\"T_65dfd_row8_col6\" class=\"data row8 col6\" >1.764438</td>\n",
              "      <td id=\"T_65dfd_row8_col7\" class=\"data row8 col7\" >-0.816780</td>\n",
              "      <td id=\"T_65dfd_row8_col8\" class=\"data row8 col8\" >0.055100</td>\n",
              "      <td id=\"T_65dfd_row8_col9\" class=\"data row8 col9\" >2.249953</td>\n",
              "      <td id=\"T_65dfd_row8_col10\" class=\"data row8 col10\" >-0.042996</td>\n",
              "      <td id=\"T_65dfd_row8_col11\" class=\"data row8 col11\" >0.380938</td>\n",
              "    </tr>\n",
              "    <tr>\n",
              "      <th id=\"T_65dfd_level0_row9\" class=\"row_heading level0 row9\" >9</th>\n",
              "      <td id=\"T_65dfd_row9_col0\" class=\"data row9 col0\" >0.731268</td>\n",
              "      <td id=\"T_65dfd_row9_col1\" class=\"data row9 col1\" >0.836581</td>\n",
              "      <td id=\"T_65dfd_row9_col2\" class=\"data row9 col2\" >0.136916</td>\n",
              "      <td id=\"T_65dfd_row9_col3\" class=\"data row9 col3\" >1.099063</td>\n",
              "      <td id=\"T_65dfd_row9_col4\" class=\"data row9 col4\" >0.635224</td>\n",
              "      <td id=\"T_65dfd_row9_col5\" class=\"data row9 col5\" >0.332688</td>\n",
              "      <td id=\"T_65dfd_row9_col6\" class=\"data row9 col6\" >1.071840</td>\n",
              "      <td id=\"T_65dfd_row9_col7\" class=\"data row9 col7\" >0.021768</td>\n",
              "      <td id=\"T_65dfd_row9_col8\" class=\"data row9 col8\" >0.925678</td>\n",
              "      <td id=\"T_65dfd_row9_col9\" class=\"data row9 col9\" >1.019023</td>\n",
              "      <td id=\"T_65dfd_row9_col10\" class=\"data row9 col10\" >0.466504</td>\n",
              "      <td id=\"T_65dfd_row9_col11\" class=\"data row9 col11\" >0.988900</td>\n",
              "    </tr>\n",
              "    <tr>\n",
              "      <th id=\"T_65dfd_level0_row10\" class=\"row_heading level0 row10\" >10</th>\n",
              "      <td id=\"T_65dfd_row10_col0\" class=\"data row10 col0\" >1.151661</td>\n",
              "      <td id=\"T_65dfd_row10_col1\" class=\"data row10 col1\" >1.036940</td>\n",
              "      <td id=\"T_65dfd_row10_col2\" class=\"data row10 col2\" >0.764963</td>\n",
              "      <td id=\"T_65dfd_row10_col3\" class=\"data row10 col3\" >1.053710</td>\n",
              "      <td id=\"T_65dfd_row10_col4\" class=\"data row10 col4\" >0.377877</td>\n",
              "      <td id=\"T_65dfd_row10_col5\" class=\"data row10 col5\" >0.126959</td>\n",
              "      <td id=\"T_65dfd_row10_col6\" class=\"data row10 col6\" >0.708525</td>\n",
              "      <td id=\"T_65dfd_row10_col7\" class=\"data row10 col7\" >0.703152</td>\n",
              "      <td id=\"T_65dfd_row10_col8\" class=\"data row10 col8\" >1.298783</td>\n",
              "      <td id=\"T_65dfd_row10_col9\" class=\"data row10 col9\" >0.034279</td>\n",
              "      <td id=\"T_65dfd_row10_col10\" class=\"data row10 col10\" >-0.382662</td>\n",
              "      <td id=\"T_65dfd_row10_col11\" class=\"data row10 col11\" >0.988900</td>\n",
              "    </tr>\n",
              "    <tr>\n",
              "      <th id=\"T_65dfd_level0_row11\" class=\"row_heading level0 row11\" >11</th>\n",
              "      <td id=\"T_65dfd_row11_col0\" class=\"data row11 col0\" >0.582096</td>\n",
              "      <td id=\"T_65dfd_row11_col1\" class=\"data row11 col1\" >0.607599</td>\n",
              "      <td id=\"T_65dfd_row11_col2\" class=\"data row11 col2\" >0.695180</td>\n",
              "      <td id=\"T_65dfd_row11_col3\" class=\"data row11 col3\" >0.828917</td>\n",
              "      <td id=\"T_65dfd_row11_col4\" class=\"data row11 col4\" >-0.265491</td>\n",
              "      <td id=\"T_65dfd_row11_col5\" class=\"data row11 col5\" >0.541818</td>\n",
              "      <td id=\"T_65dfd_row11_col6\" class=\"data row11 col6\" >1.026465</td>\n",
              "      <td id=\"T_65dfd_row11_col7\" class=\"data row11 col7\" >-0.425390</td>\n",
              "      <td id=\"T_65dfd_row11_col8\" class=\"data row11 col8\" >0.428205</td>\n",
              "      <td id=\"T_65dfd_row11_col9\" class=\"data row11 col9\" >1.080569</td>\n",
              "      <td id=\"T_65dfd_row11_col10\" class=\"data row11 col10\" >0.296671</td>\n",
              "      <td id=\"T_65dfd_row11_col11\" class=\"data row11 col11\" >-0.531005</td>\n",
              "    </tr>\n",
              "    <tr>\n",
              "      <th id=\"T_65dfd_level0_row12\" class=\"row_heading level0 row12\" >12</th>\n",
              "      <td id=\"T_65dfd_row12_col0\" class=\"data row12 col0\" >0.568535</td>\n",
              "      <td id=\"T_65dfd_row12_col1\" class=\"data row12 col1\" >0.693467</td>\n",
              "      <td id=\"T_65dfd_row12_col2\" class=\"data row12 col2\" >-1.328527</td>\n",
              "      <td id=\"T_65dfd_row12_col3\" class=\"data row12 col3\" >0.789085</td>\n",
              "      <td id=\"T_65dfd_row12_col4\" class=\"data row12 col4\" >0.731729</td>\n",
              "      <td id=\"T_65dfd_row12_col5\" class=\"data row12 col5\" >-0.447724</td>\n",
              "      <td id=\"T_65dfd_row12_col6\" class=\"data row12 col6\" >0.074851</td>\n",
              "      <td id=\"T_65dfd_row12_col7\" class=\"data row12 col7\" >1.789106</td>\n",
              "      <td id=\"T_65dfd_row12_col8\" class=\"data row12 col8\" >0.552573</td>\n",
              "      <td id=\"T_65dfd_row12_col9\" class=\"data row12 col9\" >0.526651</td>\n",
              "      <td id=\"T_65dfd_row12_col10\" class=\"data row12 col10\" >0.976003</td>\n",
              "      <td id=\"T_65dfd_row12_col11\" class=\"data row12 col11\" >-0.531005</td>\n",
              "    </tr>\n",
              "    <tr>\n",
              "      <th id=\"T_65dfd_level0_row13\" class=\"row_heading level0 row13\" >13</th>\n",
              "      <td id=\"T_65dfd_row13_col0\" class=\"data row13 col0\" >0.677023</td>\n",
              "      <td id=\"T_65dfd_row13_col1\" class=\"data row13 col1\" >0.349994</td>\n",
              "      <td id=\"T_65dfd_row13_col2\" class=\"data row13 col2\" >2.788669</td>\n",
              "      <td id=\"T_65dfd_row13_col3\" class=\"data row13 col3\" >0.740578</td>\n",
              "      <td id=\"T_65dfd_row13_col4\" class=\"data row13 col4\" >1.085581</td>\n",
              "      <td id=\"T_65dfd_row13_col5\" class=\"data row13 col5\" >2.175752</td>\n",
              "      <td id=\"T_65dfd_row13_col6\" class=\"data row13 col6\" >0.321893</td>\n",
              "      <td id=\"T_65dfd_row13_col7\" class=\"data row13 col7\" >0.952587</td>\n",
              "      <td id=\"T_65dfd_row13_col8\" class=\"data row13 col8\" >-0.193637</td>\n",
              "      <td id=\"T_65dfd_row13_col9\" class=\"data row13 col9\" >1.080569</td>\n",
              "      <td id=\"T_65dfd_row13_col10\" class=\"data row13 col10\" >-0.892162</td>\n",
              "      <td id=\"T_65dfd_row13_col11\" class=\"data row13 col11\" >-0.227024</td>\n",
              "    </tr>\n",
              "    <tr>\n",
              "      <th id=\"T_65dfd_level0_row14\" class=\"row_heading level0 row14\" >14</th>\n",
              "      <td id=\"T_65dfd_row14_col0\" class=\"data row14 col0\" >1.205905</td>\n",
              "      <td id=\"T_65dfd_row14_col1\" class=\"data row14 col1\" >1.108497</td>\n",
              "      <td id=\"T_65dfd_row14_col2\" class=\"data row14 col2\" >1.672141</td>\n",
              "      <td id=\"T_65dfd_row14_col3\" class=\"data row14 col3\" >0.694042</td>\n",
              "      <td id=\"T_65dfd_row14_col4\" class=\"data row14 col4\" >0.120530</td>\n",
              "      <td id=\"T_65dfd_row14_col5\" class=\"data row14 col5\" >-0.272599</td>\n",
              "      <td id=\"T_65dfd_row14_col6\" class=\"data row14 col6\" >0.940441</td>\n",
              "      <td id=\"T_65dfd_row14_col7\" class=\"data row14 col7\" >-0.534898</td>\n",
              "      <td id=\"T_65dfd_row14_col8\" class=\"data row14 col8\" >-0.566742</td>\n",
              "      <td id=\"T_65dfd_row14_col9\" class=\"data row14 col9\" >0.711290</td>\n",
              "      <td id=\"T_65dfd_row14_col10\" class=\"data row14 col10\" >-0.722328</td>\n",
              "      <td id=\"T_65dfd_row14_col11\" class=\"data row14 col11\" >0.380938</td>\n",
              "    </tr>\n",
              "    <tr>\n",
              "      <th id=\"T_65dfd_level0_row15\" class=\"row_heading level0 row15\" >15</th>\n",
              "      <td id=\"T_65dfd_row15_col0\" class=\"data row15 col0\" >-0.312934</td>\n",
              "      <td id=\"T_65dfd_row15_col1\" class=\"data row15 col1\" >-0.251083</td>\n",
              "      <td id=\"T_65dfd_row15_col2\" class=\"data row15 col2\" >0.625397</td>\n",
              "      <td id=\"T_65dfd_row15_col3\" class=\"data row15 col3\" >0.670773</td>\n",
              "      <td id=\"T_65dfd_row15_col4\" class=\"data row15 col4\" >0.410045</td>\n",
              "      <td id=\"T_65dfd_row15_col5\" class=\"data row15 col5\" >2.554906</td>\n",
              "      <td id=\"T_65dfd_row15_col6\" class=\"data row15 col6\" >-0.122719</td>\n",
              "      <td id=\"T_65dfd_row15_col7\" class=\"data row15 col7\" >2.124728</td>\n",
              "      <td id=\"T_65dfd_row15_col8\" class=\"data row15 col8\" >1.547519</td>\n",
              "      <td id=\"T_65dfd_row15_col9\" class=\"data row15 col9\" >0.403558</td>\n",
              "      <td id=\"T_65dfd_row15_col10\" class=\"data row15 col10\" >-1.061995</td>\n",
              "      <td id=\"T_65dfd_row15_col11\" class=\"data row15 col11\" >-0.531005</td>\n",
              "    </tr>\n",
              "    <tr>\n",
              "      <th id=\"T_65dfd_level0_row16\" class=\"row_heading level0 row16\" >16</th>\n",
              "      <td id=\"T_65dfd_row16_col0\" class=\"data row16 col0\" >0.853317</td>\n",
              "      <td id=\"T_65dfd_row16_col1\" class=\"data row16 col1\" >0.936760</td>\n",
              "      <td id=\"T_65dfd_row16_col2\" class=\"data row16 col2\" >-0.002650</td>\n",
              "      <td id=\"T_65dfd_row16_col3\" class=\"data row16 col3\" >0.656970</td>\n",
              "      <td id=\"T_65dfd_row16_col4\" class=\"data row16 col4\" >-0.136817</td>\n",
              "      <td id=\"T_65dfd_row16_col5\" class=\"data row16 col5\" >-0.616048</td>\n",
              "      <td id=\"T_65dfd_row16_col6\" class=\"data row16 col6\" >0.554124</td>\n",
              "      <td id=\"T_65dfd_row16_col7\" class=\"data row16 col7\" >0.186030</td>\n",
              "      <td id=\"T_65dfd_row16_col8\" class=\"data row16 col8\" >-0.069268</td>\n",
              "      <td id=\"T_65dfd_row16_col9\" class=\"data row16 col9\" >1.080569</td>\n",
              "      <td id=\"T_65dfd_row16_col10\" class=\"data row16 col10\" >0.636337</td>\n",
              "      <td id=\"T_65dfd_row16_col11\" class=\"data row16 col11\" >1.596863</td>\n",
              "    </tr>\n",
              "    <tr>\n",
              "      <th id=\"T_65dfd_level0_row17\" class=\"row_heading level0 row17\" >17</th>\n",
              "      <td id=\"T_65dfd_row17_col0\" class=\"data row17 col0\" >0.324436</td>\n",
              "      <td id=\"T_65dfd_row17_col1\" class=\"data row17 col1\" >0.478797</td>\n",
              "      <td id=\"T_65dfd_row17_col2\" class=\"data row17 col2\" >-0.909829</td>\n",
              "      <td id=\"T_65dfd_row17_col3\" class=\"data row17 col3\" >0.632125</td>\n",
              "      <td id=\"T_65dfd_row17_col4\" class=\"data row17 col4\" >2.114969</td>\n",
              "      <td id=\"T_65dfd_row17_col5\" class=\"data row17 col5\" >-0.202889</td>\n",
              "      <td id=\"T_65dfd_row17_col6\" class=\"data row17 col6\" >0.362226</td>\n",
              "      <td id=\"T_65dfd_row17_col7\" class=\"data row17 col7\" >0.589588</td>\n",
              "      <td id=\"T_65dfd_row17_col8\" class=\"data row17 col8\" >1.298783</td>\n",
              "      <td id=\"T_65dfd_row17_col9\" class=\"data row17 col9\" >0.034279</td>\n",
              "      <td id=\"T_65dfd_row17_col10\" class=\"data row17 col10\" >1.655336</td>\n",
              "      <td id=\"T_65dfd_row17_col11\" class=\"data row17 col11\" >0.684919</td>\n",
              "    </tr>\n",
              "    <tr>\n",
              "      <th id=\"T_65dfd_level0_row18\" class=\"row_heading level0 row18\" >18</th>\n",
              "      <td id=\"T_65dfd_row18_col0\" class=\"data row18 col0\" >0.026092</td>\n",
              "      <td id=\"T_65dfd_row18_col1\" class=\"data row18 col1\" >0.192569</td>\n",
              "      <td id=\"T_65dfd_row18_col2\" class=\"data row18 col2\" >-0.770263</td>\n",
              "      <td id=\"T_65dfd_row18_col3\" class=\"data row18 col3\" >0.475559</td>\n",
              "      <td id=\"T_65dfd_row18_col4\" class=\"data row18 col4\" >1.439433</td>\n",
              "      <td id=\"T_65dfd_row18_col5\" class=\"data row18 col5\" >0.116757</td>\n",
              "      <td id=\"T_65dfd_row18_col6\" class=\"data row18 col6\" >0.394997</td>\n",
              "      <td id=\"T_65dfd_row18_col7\" class=\"data row18 col7\" >0.139388</td>\n",
              "      <td id=\"T_65dfd_row18_col8\" class=\"data row18 col8\" >1.050046</td>\n",
              "      <td id=\"T_65dfd_row18_col9\" class=\"data row18 col9\" >-0.211907</td>\n",
              "      <td id=\"T_65dfd_row18_col10\" class=\"data row18 col10\" >0.296671</td>\n",
              "      <td id=\"T_65dfd_row18_col11\" class=\"data row18 col11\" >0.076957</td>\n",
              "    </tr>\n",
              "    <tr>\n",
              "      <th id=\"T_65dfd_level0_row19\" class=\"row_heading level0 row19\" >19</th>\n",
              "      <td id=\"T_65dfd_row19_col0\" class=\"data row19 col0\" >0.310875</td>\n",
              "      <td id=\"T_65dfd_row19_col1\" class=\"data row19 col1\" >0.292749</td>\n",
              "      <td id=\"T_65dfd_row19_col2\" class=\"data row19 col2\" >0.695180</td>\n",
              "      <td id=\"T_65dfd_row19_col3\" class=\"data row19 col3\" >0.457418</td>\n",
              "      <td id=\"T_65dfd_row19_col4\" class=\"data row19 col4\" >0.024024</td>\n",
              "      <td id=\"T_65dfd_row19_col5\" class=\"data row19 col5\" >0.523115</td>\n",
              "      <td id=\"T_65dfd_row19_col6\" class=\"data row19 col6\" >0.858199</td>\n",
              "      <td id=\"T_65dfd_row19_col7\" class=\"data row19 col7\" >-0.867478</td>\n",
              "      <td id=\"T_65dfd_row19_col8\" class=\"data row19 col8\" >-0.069268</td>\n",
              "      <td id=\"T_65dfd_row19_col9\" class=\"data row19 col9\" >0.772837</td>\n",
              "      <td id=\"T_65dfd_row19_col10\" class=\"data row19 col10\" >-1.231828</td>\n",
              "      <td id=\"T_65dfd_row19_col11\" class=\"data row19 col11\" >0.988900</td>\n",
              "    </tr>\n",
              "    <tr>\n",
              "      <th id=\"T_65dfd_level0_row20\" class=\"row_heading level0 row20\" >20</th>\n",
              "      <td id=\"T_65dfd_row20_col0\" class=\"data row20 col0\" >0.799073</td>\n",
              "      <td id=\"T_65dfd_row20_col1\" class=\"data row20 col1\" >0.679156</td>\n",
              "      <td id=\"T_65dfd_row20_col2\" class=\"data row20 col2\" >0.695180</td>\n",
              "      <td id=\"T_65dfd_row20_col3\" class=\"data row20 col3\" >0.427051</td>\n",
              "      <td id=\"T_65dfd_row20_col4\" class=\"data row20 col4\" >0.024024</td>\n",
              "      <td id=\"T_65dfd_row20_col5\" class=\"data row20 col5\" >-0.335508</td>\n",
              "      <td id=\"T_65dfd_row20_col6\" class=\"data row20 col6\" >0.075481</td>\n",
              "      <td id=\"T_65dfd_row20_col7\" class=\"data row20 col7\" >0.849162</td>\n",
              "      <td id=\"T_65dfd_row20_col8\" class=\"data row20 col8\" >0.303836</td>\n",
              "      <td id=\"T_65dfd_row20_col9\" class=\"data row20 col9\" >0.342012</td>\n",
              "      <td id=\"T_65dfd_row20_col10\" class=\"data row20 col10\" >0.806170</td>\n",
              "      <td id=\"T_65dfd_row20_col11\" class=\"data row20 col11\" >0.988900</td>\n",
              "    </tr>\n",
              "    <tr>\n",
              "      <th id=\"T_65dfd_level0_row21\" class=\"row_heading level0 row21\" >21</th>\n",
              "      <td id=\"T_65dfd_row21_col0\" class=\"data row21 col0\" >-0.095957</td>\n",
              "      <td id=\"T_65dfd_row21_col1\" class=\"data row21 col1\" >0.092390</td>\n",
              "      <td id=\"T_65dfd_row21_col2\" class=\"data row21 col2\" >-0.142216</td>\n",
              "      <td id=\"T_65dfd_row21_col3\" class=\"data row21 col3\" >0.406149</td>\n",
              "      <td id=\"T_65dfd_row21_col4\" class=\"data row21 col4\" >0.088361</td>\n",
              "      <td id=\"T_65dfd_row21_col5\" class=\"data row21 col5\" >0.484010</td>\n",
              "      <td id=\"T_65dfd_row21_col6\" class=\"data row21 col6\" >1.267519</td>\n",
              "      <td id=\"T_65dfd_row21_col7\" class=\"data row21 col7\" >-1.643160</td>\n",
              "      <td id=\"T_65dfd_row21_col8\" class=\"data row21 col8\" >0.676941</td>\n",
              "      <td id=\"T_65dfd_row21_col9\" class=\"data row21 col9\" >0.649744</td>\n",
              "      <td id=\"T_65dfd_row21_col10\" class=\"data row21 col10\" >-0.042996</td>\n",
              "      <td id=\"T_65dfd_row21_col11\" class=\"data row21 col11\" >0.684919</td>\n",
              "    </tr>\n",
              "    <tr>\n",
              "      <th id=\"T_65dfd_level0_row22\" class=\"row_heading level0 row22\" >22</th>\n",
              "      <td id=\"T_65dfd_row22_col0\" class=\"data row22 col0\" >0.310875</td>\n",
              "      <td id=\"T_65dfd_row22_col1\" class=\"data row22 col1\" >0.407240</td>\n",
              "      <td id=\"T_65dfd_row22_col2\" class=\"data row22 col2\" >0.136916</td>\n",
              "      <td id=\"T_65dfd_row22_col3\" class=\"data row22 col3\" >0.359219</td>\n",
              "      <td id=\"T_65dfd_row22_col4\" class=\"data row22 col4\" >-0.555006</td>\n",
              "      <td id=\"T_65dfd_row22_col5\" class=\"data row22 col5\" >-0.162083</td>\n",
              "      <td id=\"T_65dfd_row22_col6\" class=\"data row22 col6\" >0.916808</td>\n",
              "      <td id=\"T_65dfd_row22_col7\" class=\"data row22 col7\" >-1.173695</td>\n",
              "      <td id=\"T_65dfd_row22_col8\" class=\"data row22 col8\" >-0.069268</td>\n",
              "      <td id=\"T_65dfd_row22_col9\" class=\"data row22 col9\" >0.772837</td>\n",
              "      <td id=\"T_65dfd_row22_col10\" class=\"data row22 col10\" >-0.042996</td>\n",
              "      <td id=\"T_65dfd_row22_col11\" class=\"data row22 col11\" >0.988900</td>\n",
              "    </tr>\n",
              "    <tr>\n",
              "      <th id=\"T_65dfd_level0_row23\" class=\"row_heading level0 row23\" >23</th>\n",
              "      <td id=\"T_65dfd_row23_col0\" class=\"data row23 col0\" >-0.014591</td>\n",
              "      <td id=\"T_65dfd_row23_col1\" class=\"data row23 col1\" >0.078078</td>\n",
              "      <td id=\"T_65dfd_row23_col2\" class=\"data row23 col2\" >-0.700480</td>\n",
              "      <td id=\"T_65dfd_row23_col3\" class=\"data row23 col3\" >0.347782</td>\n",
              "      <td id=\"T_65dfd_row23_col4\" class=\"data row23 col4\" >0.763897</td>\n",
              "      <td id=\"T_65dfd_row23_col5\" class=\"data row23 col5\" >0.140561</td>\n",
              "      <td id=\"T_65dfd_row23_col6\" class=\"data row23 col6\" >0.431234</td>\n",
              "      <td id=\"T_65dfd_row23_col7\" class=\"data row23 col7\" >-0.242876</td>\n",
              "      <td id=\"T_65dfd_row23_col8\" class=\"data row23 col8\" >0.801310</td>\n",
              "      <td id=\"T_65dfd_row23_col9\" class=\"data row23 col9\" >0.218919</td>\n",
              "      <td id=\"T_65dfd_row23_col10\" class=\"data row23 col10\" >0.466504</td>\n",
              "      <td id=\"T_65dfd_row23_col11\" class=\"data row23 col11\" >0.076957</td>\n",
              "    </tr>\n",
              "    <tr>\n",
              "      <th id=\"T_65dfd_level0_row24\" class=\"row_heading level0 row24\" >24</th>\n",
              "      <td id=\"T_65dfd_row24_col0\" class=\"data row24 col0\" >0.080336</td>\n",
              "      <td id=\"T_65dfd_row24_col1\" class=\"data row24 col1\" >0.206881</td>\n",
              "      <td id=\"T_65dfd_row24_col2\" class=\"data row24 col2\" >-1.468092</td>\n",
              "      <td id=\"T_65dfd_row24_col3\" class=\"data row24 col3\" >0.258259</td>\n",
              "      <td id=\"T_65dfd_row24_col4\" class=\"data row24 col4\" >2.243642</td>\n",
              "      <td id=\"T_65dfd_row24_col5\" class=\"data row24 col5\" >-0.590544</td>\n",
              "      <td id=\"T_65dfd_row24_col6\" class=\"data row24 col6\" >-0.553151</td>\n",
              "      <td id=\"T_65dfd_row24_col7\" class=\"data row24 col7\" >2.538425</td>\n",
              "      <td id=\"T_65dfd_row24_col8\" class=\"data row24 col8\" >0.428205</td>\n",
              "      <td id=\"T_65dfd_row24_col9\" class=\"data row24 col9\" >-0.519639</td>\n",
              "      <td id=\"T_65dfd_row24_col10\" class=\"data row24 col10\" >0.126837</td>\n",
              "      <td id=\"T_65dfd_row24_col11\" class=\"data row24 col11\" >0.076957</td>\n",
              "    </tr>\n",
              "    <tr>\n",
              "      <th id=\"T_65dfd_level0_row25\" class=\"row_heading level0 row25\" >25</th>\n",
              "      <td id=\"T_65dfd_row25_col0\" class=\"data row25 col0\" >-0.774011</td>\n",
              "      <td id=\"T_65dfd_row25_col1\" class=\"data row25 col1\" >-0.723358</td>\n",
              "      <td id=\"T_65dfd_row25_col2\" class=\"data row25 col2\" >-0.072433</td>\n",
              "      <td id=\"T_65dfd_row25_col3\" class=\"data row25 col3\" >0.208174</td>\n",
              "      <td id=\"T_65dfd_row25_col4\" class=\"data row25 col4\" >1.085581</td>\n",
              "      <td id=\"T_65dfd_row25_col5\" class=\"data row25 col5\" >2.621216</td>\n",
              "      <td id=\"T_65dfd_row25_col6\" class=\"data row25 col6\" >-0.230800</td>\n",
              "      <td id=\"T_65dfd_row25_col7\" class=\"data row25 col7\" >1.185798</td>\n",
              "      <td id=\"T_65dfd_row25_col8\" class=\"data row25 col8\" >1.920624</td>\n",
              "      <td id=\"T_65dfd_row25_col9\" class=\"data row25 col9\" >-0.211907</td>\n",
              "      <td id=\"T_65dfd_row25_col10\" class=\"data row25 col10\" >-0.382662</td>\n",
              "      <td id=\"T_65dfd_row25_col11\" class=\"data row25 col11\" >-1.442948</td>\n",
              "    </tr>\n",
              "    <tr>\n",
              "      <th id=\"T_65dfd_level0_row26\" class=\"row_heading level0 row26\" >26</th>\n",
              "      <td id=\"T_65dfd_row26_col0\" class=\"data row26 col0\" >0.039653</td>\n",
              "      <td id=\"T_65dfd_row26_col1\" class=\"data row26 col1\" >0.135324</td>\n",
              "      <td id=\"T_65dfd_row26_col2\" class=\"data row26 col2\" >-0.979612</td>\n",
              "      <td id=\"T_65dfd_row26_col3\" class=\"data row26 col3\" >0.187667</td>\n",
              "      <td id=\"T_65dfd_row26_col4\" class=\"data row26 col4\" >0.828234</td>\n",
              "      <td id=\"T_65dfd_row26_col5\" class=\"data row26 col5\" >-0.406918</td>\n",
              "      <td id=\"T_65dfd_row26_col6\" class=\"data row26 col6\" >0.011515</td>\n",
              "      <td id=\"T_65dfd_row26_col7\" class=\"data row26 col7\" >0.402004</td>\n",
              "      <td id=\"T_65dfd_row26_col8\" class=\"data row26 col8\" >1.174414</td>\n",
              "      <td id=\"T_65dfd_row26_col9\" class=\"data row26 col9\" >-0.581186</td>\n",
              "      <td id=\"T_65dfd_row26_col10\" class=\"data row26 col10\" >1.485503</td>\n",
              "      <td id=\"T_65dfd_row26_col11\" class=\"data row26 col11\" >0.076957</td>\n",
              "    </tr>\n",
              "    <tr>\n",
              "      <th id=\"T_65dfd_level0_row27\" class=\"row_heading level0 row27\" >27</th>\n",
              "      <td id=\"T_65dfd_row27_col0\" class=\"data row27 col0\" >2.073813</td>\n",
              "      <td id=\"T_65dfd_row27_col1\" class=\"data row27 col1\" >1.981490</td>\n",
              "      <td id=\"T_65dfd_row27_col2\" class=\"data row27 col2\" >-0.211999</td>\n",
              "      <td id=\"T_65dfd_row27_col3\" class=\"data row27 col3\" >0.175835</td>\n",
              "      <td id=\"T_65dfd_row27_col4\" class=\"data row27 col4\" >-0.812353</td>\n",
              "      <td id=\"T_65dfd_row27_col5\" class=\"data row27 col5\" >-2.542423</td>\n",
              "      <td id=\"T_65dfd_row27_col6\" class=\"data row27 col6\" >-0.879913</td>\n",
              "      <td id=\"T_65dfd_row27_col7\" class=\"data row27 col7\" >3.823117</td>\n",
              "      <td id=\"T_65dfd_row27_col8\" class=\"data row27 col8\" >-0.691110</td>\n",
              "      <td id=\"T_65dfd_row27_col9\" class=\"data row27 col9\" >-0.458093</td>\n",
              "      <td id=\"T_65dfd_row27_col10\" class=\"data row27 col10\" >2.844168</td>\n",
              "      <td id=\"T_65dfd_row27_col11\" class=\"data row27 col11\" >1.596863</td>\n",
              "    </tr>\n",
              "    <tr>\n",
              "      <th id=\"T_65dfd_level0_row28\" class=\"row_heading level0 row28\" >28</th>\n",
              "      <td id=\"T_65dfd_row28_col0\" class=\"data row28 col0\" >0.473607</td>\n",
              "      <td id=\"T_65dfd_row28_col1\" class=\"data row28 col1\" >0.550354</td>\n",
              "      <td id=\"T_65dfd_row28_col2\" class=\"data row28 col2\" >-0.630697</td>\n",
              "      <td id=\"T_65dfd_row28_col3\" class=\"data row28 col3\" >0.165187</td>\n",
              "      <td id=\"T_65dfd_row28_col4\" class=\"data row28 col4\" >-0.490670</td>\n",
              "      <td id=\"T_65dfd_row28_col5\" class=\"data row28 col5\" >-1.041108</td>\n",
              "      <td id=\"T_65dfd_row28_col6\" class=\"data row28 col6\" >0.490788</td>\n",
              "      <td id=\"T_65dfd_row28_col7\" class=\"data row28 col7\" >-0.791431</td>\n",
              "      <td id=\"T_65dfd_row28_col8\" class=\"data row28 col8\" >-0.442373</td>\n",
              "      <td id=\"T_65dfd_row28_col9\" class=\"data row28 col9\" >0.157372</td>\n",
              "      <td id=\"T_65dfd_row28_col10\" class=\"data row28 col10\" >0.636337</td>\n",
              "      <td id=\"T_65dfd_row28_col11\" class=\"data row28 col11\" >-0.227024</td>\n",
              "    </tr>\n",
              "    <tr>\n",
              "      <th id=\"T_65dfd_level0_row29\" class=\"row_heading level0 row29\" >29</th>\n",
              "      <td id=\"T_65dfd_row29_col0\" class=\"data row29 col0\" >-0.001030</td>\n",
              "      <td id=\"T_65dfd_row29_col1\" class=\"data row29 col1\" >-0.107969</td>\n",
              "      <td id=\"T_65dfd_row29_col2\" class=\"data row29 col2\" >0.974312</td>\n",
              "      <td id=\"T_65dfd_row29_col3\" class=\"data row29 col3\" >0.143102</td>\n",
              "      <td id=\"T_65dfd_row29_col4\" class=\"data row29 col4\" >-0.619343</td>\n",
              "      <td id=\"T_65dfd_row29_col5\" class=\"data row29 col5\" >1.029788</td>\n",
              "      <td id=\"T_65dfd_row29_col6\" class=\"data row29 col6\" >0.132200</td>\n",
              "      <td id=\"T_65dfd_row29_col7\" class=\"data row29 col7\" >-0.031972</td>\n",
              "      <td id=\"T_65dfd_row29_col8\" class=\"data row29 col8\" >-0.442373</td>\n",
              "      <td id=\"T_65dfd_row29_col9\" class=\"data row29 col9\" >0.711290</td>\n",
              "      <td id=\"T_65dfd_row29_col10\" class=\"data row29 col10\" >-0.552495</td>\n",
              "      <td id=\"T_65dfd_row29_col11\" class=\"data row29 col11\" >-0.531005</td>\n",
              "    </tr>\n",
              "    <tr>\n",
              "      <th id=\"T_65dfd_level0_row30\" class=\"row_heading level0 row30\" >30</th>\n",
              "      <td id=\"T_65dfd_row30_col0\" class=\"data row30 col0\" >1.083855</td>\n",
              "      <td id=\"T_65dfd_row30_col1\" class=\"data row30 col1\" >0.822269</td>\n",
              "      <td id=\"T_65dfd_row30_col2\" class=\"data row30 col2\" >1.951273</td>\n",
              "      <td id=\"T_65dfd_row30_col3\" class=\"data row30 col3\" >-0.019379</td>\n",
              "      <td id=\"T_65dfd_row30_col4\" class=\"data row30 col4\" >-0.941027</td>\n",
              "      <td id=\"T_65dfd_row30_col5\" class=\"data row30 col5\" >-0.956096</td>\n",
              "      <td id=\"T_65dfd_row30_col6\" class=\"data row30 col6\" >0.090291</td>\n",
              "      <td id=\"T_65dfd_row30_col7\" class=\"data row30 col7\" >-0.343259</td>\n",
              "      <td id=\"T_65dfd_row30_col8\" class=\"data row30 col8\" >-1.064215</td>\n",
              "      <td id=\"T_65dfd_row30_col9\" class=\"data row30 col9\" >-0.088814</td>\n",
              "      <td id=\"T_65dfd_row30_col10\" class=\"data row30 col10\" >0.296671</td>\n",
              "      <td id=\"T_65dfd_row30_col11\" class=\"data row30 col11\" >0.684919</td>\n",
              "    </tr>\n",
              "    <tr>\n",
              "      <th id=\"T_65dfd_level0_row31\" class=\"row_heading level0 row31\" >31</th>\n",
              "      <td id=\"T_65dfd_row31_col0\" class=\"data row31 col0\" >0.324436</td>\n",
              "      <td id=\"T_65dfd_row31_col1\" class=\"data row31 col1\" >0.349994</td>\n",
              "      <td id=\"T_65dfd_row31_col2\" class=\"data row31 col2\" >1.183661</td>\n",
              "      <td id=\"T_65dfd_row31_col3\" class=\"data row31 col3\" >-0.063943</td>\n",
              "      <td id=\"T_65dfd_row31_col4\" class=\"data row31 col4\" >-0.587175</td>\n",
              "      <td id=\"T_65dfd_row31_col5\" class=\"data row31 col5\" >-0.456225</td>\n",
              "      <td id=\"T_65dfd_row31_col6\" class=\"data row31 col6\" >-0.035750</td>\n",
              "      <td id=\"T_65dfd_row31_col7\" class=\"data row31 col7\" >-0.141480</td>\n",
              "      <td id=\"T_65dfd_row31_col8\" class=\"data row31 col8\" >-0.939846</td>\n",
              "      <td id=\"T_65dfd_row31_col9\" class=\"data row31 col9\" >0.157372</td>\n",
              "      <td id=\"T_65dfd_row31_col10\" class=\"data row31 col10\" >0.806170</td>\n",
              "      <td id=\"T_65dfd_row31_col11\" class=\"data row31 col11\" >0.988900</td>\n",
              "    </tr>\n",
              "    <tr>\n",
              "      <th id=\"T_65dfd_level0_row32\" class=\"row_heading level0 row32\" >32</th>\n",
              "      <td id=\"T_65dfd_row32_col0\" class=\"data row32 col0\" >-0.163763</td>\n",
              "      <td id=\"T_65dfd_row32_col1\" class=\"data row32 col1\" >-0.179526</td>\n",
              "      <td id=\"T_65dfd_row32_col2\" class=\"data row32 col2\" >0.764963</td>\n",
              "      <td id=\"T_65dfd_row32_col3\" class=\"data row32 col3\" >-0.093521</td>\n",
              "      <td id=\"T_65dfd_row32_col4\" class=\"data row32 col4\" >-0.973195</td>\n",
              "      <td id=\"T_65dfd_row32_col5\" class=\"data row32 col5\" >0.540118</td>\n",
              "      <td id=\"T_65dfd_row32_col6\" class=\"data row32 col6\" >0.418944</td>\n",
              "      <td id=\"T_65dfd_row32_col7\" class=\"data row32 col7\" >-1.245686</td>\n",
              "      <td id=\"T_65dfd_row32_col8\" class=\"data row32 col8\" >-0.442373</td>\n",
              "      <td id=\"T_65dfd_row32_col9\" class=\"data row32 col9\" >0.218919</td>\n",
              "      <td id=\"T_65dfd_row32_col10\" class=\"data row32 col10\" >-0.892162</td>\n",
              "      <td id=\"T_65dfd_row32_col11\" class=\"data row32 col11\" >2.204825</td>\n",
              "    </tr>\n",
              "    <tr>\n",
              "      <th id=\"T_65dfd_level0_row33\" class=\"row_heading level0 row33\" >33</th>\n",
              "      <td id=\"T_65dfd_row33_col0\" class=\"data row33 col0\" >0.270191</td>\n",
              "      <td id=\"T_65dfd_row33_col1\" class=\"data row33 col1\" >0.349994</td>\n",
              "      <td id=\"T_65dfd_row33_col2\" class=\"data row33 col2\" >-0.491131</td>\n",
              "      <td id=\"T_65dfd_row33_col3\" class=\"data row33 col3\" >-0.145579</td>\n",
              "      <td id=\"T_65dfd_row33_col4\" class=\"data row33 col4\" >-0.168986</td>\n",
              "      <td id=\"T_65dfd_row33_col5\" class=\"data row33 col5\" >-1.238337</td>\n",
              "      <td id=\"T_65dfd_row33_col6\" class=\"data row33 col6\" >-0.017789</td>\n",
              "      <td id=\"T_65dfd_row33_col7\" class=\"data row33 col7\" >-0.406124</td>\n",
              "      <td id=\"T_65dfd_row33_col8\" class=\"data row33 col8\" >-0.566742</td>\n",
              "      <td id=\"T_65dfd_row33_col9\" class=\"data row33 col9\" >0.095826</td>\n",
              "      <td id=\"T_65dfd_row33_col10\" class=\"data row33 col10\" >1.485503</td>\n",
              "      <td id=\"T_65dfd_row33_col11\" class=\"data row33 col11\" >0.380938</td>\n",
              "    </tr>\n",
              "    <tr>\n",
              "      <th id=\"T_65dfd_level0_row34\" class=\"row_heading level0 row34\" >34</th>\n",
              "      <td id=\"T_65dfd_row34_col0\" class=\"data row34 col0\" >-1.207965</td>\n",
              "      <td id=\"T_65dfd_row34_col1\" class=\"data row34 col1\" >-1.109765</td>\n",
              "      <td id=\"T_65dfd_row34_col2\" class=\"data row34 col2\" >-1.398310</td>\n",
              "      <td id=\"T_65dfd_row34_col3\" class=\"data row34 col3\" >-0.170424</td>\n",
              "      <td id=\"T_65dfd_row34_col4\" class=\"data row34 col4\" >0.313540</td>\n",
              "      <td id=\"T_65dfd_row34_col5\" class=\"data row34 col5\" >1.993826</td>\n",
              "      <td id=\"T_65dfd_row34_col6\" class=\"data row34 col6\" >-0.509036</td>\n",
              "      <td id=\"T_65dfd_row34_col7\" class=\"data row34 col7\" >0.989089</td>\n",
              "      <td id=\"T_65dfd_row34_col8\" class=\"data row34 col8\" >1.671888</td>\n",
              "      <td id=\"T_65dfd_row34_col9\" class=\"data row34 col9\" >-0.827372</td>\n",
              "      <td id=\"T_65dfd_row34_col10\" class=\"data row34 col10\" >-1.741328</td>\n",
              "      <td id=\"T_65dfd_row34_col11\" class=\"data row34 col11\" >-1.442948</td>\n",
              "    </tr>\n",
              "    <tr>\n",
              "      <th id=\"T_65dfd_level0_row35\" class=\"row_heading level0 row35\" >35</th>\n",
              "      <td id=\"T_65dfd_row35_col0\" class=\"data row35 col0\" >0.514290</td>\n",
              "      <td id=\"T_65dfd_row35_col1\" class=\"data row35 col1\" >0.364306</td>\n",
              "      <td id=\"T_65dfd_row35_col2\" class=\"data row35 col2\" >0.555614</td>\n",
              "      <td id=\"T_65dfd_row35_col3\" class=\"data row35 col3\" >-0.176734</td>\n",
              "      <td id=\"T_65dfd_row35_col4\" class=\"data row35 col4\" >-1.520057</td>\n",
              "      <td id=\"T_65dfd_row35_col5\" class=\"data row35 col5\" >-0.959497</td>\n",
              "      <td id=\"T_65dfd_row35_col6\" class=\"data row35 col6\" >-0.094990</td>\n",
              "      <td id=\"T_65dfd_row35_col7\" class=\"data row35 col7\" >-0.292561</td>\n",
              "      <td id=\"T_65dfd_row35_col8\" class=\"data row35 col8\" >-0.815478</td>\n",
              "      <td id=\"T_65dfd_row35_col9\" class=\"data row35 col9\" >0.034279</td>\n",
              "      <td id=\"T_65dfd_row35_col10\" class=\"data row35 col10\" >0.976003</td>\n",
              "      <td id=\"T_65dfd_row35_col11\" class=\"data row35 col11\" >0.988900</td>\n",
              "    </tr>\n",
              "    <tr>\n",
              "      <th id=\"T_65dfd_level0_row36\" class=\"row_heading level0 row36\" >36</th>\n",
              "      <td id=\"T_65dfd_row36_col0\" class=\"data row36 col0\" >-0.299373</td>\n",
              "      <td id=\"T_65dfd_row36_col1\" class=\"data row36 col1\" >-0.193837</td>\n",
              "      <td id=\"T_65dfd_row36_col2\" class=\"data row36 col2\" >-1.119178</td>\n",
              "      <td id=\"T_65dfd_row36_col3\" class=\"data row36 col3\" >-0.208284</td>\n",
              "      <td id=\"T_65dfd_row36_col4\" class=\"data row36 col4\" >-0.136817</td>\n",
              "      <td id=\"T_65dfd_row36_col5\" class=\"data row36 col5\" >-0.612647</td>\n",
              "      <td id=\"T_65dfd_row36_col6\" class=\"data row36 col6\" >0.023804</td>\n",
              "      <td id=\"T_65dfd_row36_col7\" class=\"data row36 col7\" >-0.674825</td>\n",
              "      <td id=\"T_65dfd_row36_col8\" class=\"data row36 col8\" >0.552573</td>\n",
              "      <td id=\"T_65dfd_row36_col9\" class=\"data row36 col9\" >-0.335000</td>\n",
              "      <td id=\"T_65dfd_row36_col10\" class=\"data row36 col10\" >0.976003</td>\n",
              "      <td id=\"T_65dfd_row36_col11\" class=\"data row36 col11\" >-0.531005</td>\n",
              "    </tr>\n",
              "    <tr>\n",
              "      <th id=\"T_65dfd_level0_row37\" class=\"row_heading level0 row37\" >37</th>\n",
              "      <td id=\"T_65dfd_row37_col0\" class=\"data row37 col0\" >-0.651961</td>\n",
              "      <td id=\"T_65dfd_row37_col1\" class=\"data row37 col1\" >-0.522999</td>\n",
              "      <td id=\"T_65dfd_row37_col2\" class=\"data row37 col2\" >-1.398310</td>\n",
              "      <td id=\"T_65dfd_row37_col3\" class=\"data row37 col3\" >-0.248116</td>\n",
              "      <td id=\"T_65dfd_row37_col4\" class=\"data row37 col4\" >-0.265491</td>\n",
              "      <td id=\"T_65dfd_row37_col5\" class=\"data row37 col5\" >-0.092373</td>\n",
              "      <td id=\"T_65dfd_row37_col6\" class=\"data row37 col6\" >-0.326591</td>\n",
              "      <td id=\"T_65dfd_row37_col7\" class=\"data row37 col7\" >0.153583</td>\n",
              "      <td id=\"T_65dfd_row37_col8\" class=\"data row37 col8\" >-0.193637</td>\n",
              "      <td id=\"T_65dfd_row37_col9\" class=\"data row37 col9\" >0.034279</td>\n",
              "      <td id=\"T_65dfd_row37_col10\" class=\"data row37 col10\" >-0.892162</td>\n",
              "      <td id=\"T_65dfd_row37_col11\" class=\"data row37 col11\" >-0.834986</td>\n",
              "    </tr>\n",
              "    <tr>\n",
              "      <th id=\"T_65dfd_level0_row38\" class=\"row_heading level0 row38\" >38</th>\n",
              "      <td id=\"T_65dfd_row38_col0\" class=\"data row38 col0\" >-0.177324</td>\n",
              "      <td id=\"T_65dfd_row38_col1\" class=\"data row38 col1\" >-0.494376</td>\n",
              "      <td id=\"T_65dfd_row38_col2\" class=\"data row38 col2\" >2.579320</td>\n",
              "      <td id=\"T_65dfd_row38_col3\" class=\"data row38 col3\" >-0.278482</td>\n",
              "      <td id=\"T_65dfd_row38_col4\" class=\"data row38 col4\" >-1.327047</td>\n",
              "      <td id=\"T_65dfd_row38_col5\" class=\"data row38 col5\" >2.560007</td>\n",
              "      <td id=\"T_65dfd_row38_col6\" class=\"data row38 col6\" >-0.114841</td>\n",
              "      <td id=\"T_65dfd_row38_col7\" class=\"data row38 col7\" >-0.520702</td>\n",
              "      <td id=\"T_65dfd_row38_col8\" class=\"data row38 col8\" >-0.691110</td>\n",
              "      <td id=\"T_65dfd_row38_col9\" class=\"data row38 col9\" >-0.027267</td>\n",
              "      <td id=\"T_65dfd_row38_col10\" class=\"data row38 col10\" >-1.401661</td>\n",
              "      <td id=\"T_65dfd_row38_col11\" class=\"data row38 col11\" >-1.138967</td>\n",
              "    </tr>\n",
              "    <tr>\n",
              "      <th id=\"T_65dfd_level0_row39\" class=\"row_heading level0 row39\" >39</th>\n",
              "      <td id=\"T_65dfd_row39_col0\" class=\"data row39 col0\" >-0.814694</td>\n",
              "      <td id=\"T_65dfd_row39_col1\" class=\"data row39 col1\" >-0.651801</td>\n",
              "      <td id=\"T_65dfd_row39_col2\" class=\"data row39 col2\" >-0.770263</td>\n",
              "      <td id=\"T_65dfd_row39_col3\" class=\"data row39 col3\" >-0.323441</td>\n",
              "      <td id=\"T_65dfd_row39_col4\" class=\"data row39 col4\" >1.246423</td>\n",
              "      <td id=\"T_65dfd_row39_col5\" class=\"data row39 col5\" >0.412600</td>\n",
              "      <td id=\"T_65dfd_row39_col6\" class=\"data row39 col6\" >-0.078289</td>\n",
              "      <td id=\"T_65dfd_row39_col7\" class=\"data row39 col7\" >-0.735663</td>\n",
              "      <td id=\"T_65dfd_row39_col8\" class=\"data row39 col8\" >0.179468</td>\n",
              "      <td id=\"T_65dfd_row39_col9\" class=\"data row39 col9\" >-0.088814</td>\n",
              "      <td id=\"T_65dfd_row39_col10\" class=\"data row39 col10\" >-0.382662</td>\n",
              "      <td id=\"T_65dfd_row39_col11\" class=\"data row39 col11\" >-1.138967</td>\n",
              "    </tr>\n",
              "    <tr>\n",
              "      <th id=\"T_65dfd_level0_row40\" class=\"row_heading level0 row40\" >40</th>\n",
              "      <td id=\"T_65dfd_row40_col0\" class=\"data row40 col0\" >-0.434984</td>\n",
              "      <td id=\"T_65dfd_row40_col1\" class=\"data row40 col1\" >-0.322640</td>\n",
              "      <td id=\"T_65dfd_row40_col2\" class=\"data row40 col2\" >-0.979612</td>\n",
              "      <td id=\"T_65dfd_row40_col3\" class=\"data row40 col3\" >-0.328173</td>\n",
              "      <td id=\"T_65dfd_row40_col4\" class=\"data row40 col4\" >-0.136817</td>\n",
              "      <td id=\"T_65dfd_row40_col5\" class=\"data row40 col5\" >-0.541237</td>\n",
              "      <td id=\"T_65dfd_row40_col6\" class=\"data row40 col6\" >-0.185110</td>\n",
              "      <td id=\"T_65dfd_row40_col7\" class=\"data row40 col7\" >-0.477102</td>\n",
              "      <td id=\"T_65dfd_row40_col8\" class=\"data row40 col8\" >-0.939846</td>\n",
              "      <td id=\"T_65dfd_row40_col9\" class=\"data row40 col9\" >0.526651</td>\n",
              "      <td id=\"T_65dfd_row40_col10\" class=\"data row40 col10\" >-0.042996</td>\n",
              "      <td id=\"T_65dfd_row40_col11\" class=\"data row40 col11\" >-0.834986</td>\n",
              "    </tr>\n",
              "    <tr>\n",
              "      <th id=\"T_65dfd_level0_row41\" class=\"row_heading level0 row41\" >41</th>\n",
              "      <td id=\"T_65dfd_row41_col0\" class=\"data row41 col0\" >0.093897</td>\n",
              "      <td id=\"T_65dfd_row41_col1\" class=\"data row41 col1\" >-0.036412</td>\n",
              "      <td id=\"T_65dfd_row41_col2\" class=\"data row41 col2\" >0.416048</td>\n",
              "      <td id=\"T_65dfd_row41_col3\" class=\"data row41 col3\" >-0.336455</td>\n",
              "      <td id=\"T_65dfd_row41_col4\" class=\"data row41 col4\" >-0.201154</td>\n",
              "      <td id=\"T_65dfd_row41_col5\" class=\"data row41 col5\" >-0.559940</td>\n",
              "      <td id=\"T_65dfd_row41_col6\" class=\"data row41 col6\" >-0.443180</td>\n",
              "      <td id=\"T_65dfd_row41_col7\" class=\"data row41 col7\" >0.245854</td>\n",
              "      <td id=\"T_65dfd_row41_col8\" class=\"data row41 col8\" >-0.318005</td>\n",
              "      <td id=\"T_65dfd_row41_col9\" class=\"data row41 col9\" >-0.458093</td>\n",
              "      <td id=\"T_65dfd_row41_col10\" class=\"data row41 col10\" >-0.042996</td>\n",
              "      <td id=\"T_65dfd_row41_col11\" class=\"data row41 col11\" >1.292882</td>\n",
              "    </tr>\n",
              "    <tr>\n",
              "      <th id=\"T_65dfd_level0_row42\" class=\"row_heading level0 row42\" >42</th>\n",
              "      <td id=\"T_65dfd_row42_col0\" class=\"data row42 col0\" >-0.787572</td>\n",
              "      <td id=\"T_65dfd_row42_col1\" class=\"data row42 col1\" >-0.909406</td>\n",
              "      <td id=\"T_65dfd_row42_col2\" class=\"data row42 col2\" >-0.421348</td>\n",
              "      <td id=\"T_65dfd_row42_col3\" class=\"data row42 col3\" >-0.353807</td>\n",
              "      <td id=\"T_65dfd_row42_col4\" class=\"data row42 col4\" >1.278591</td>\n",
              "      <td id=\"T_65dfd_row42_col5\" class=\"data row42 col5\" >1.441247</td>\n",
              "      <td id=\"T_65dfd_row42_col6\" class=\"data row42 col6\" >-0.703770</td>\n",
              "      <td id=\"T_65dfd_row42_col7\" class=\"data row42 col7\" >1.105695</td>\n",
              "      <td id=\"T_65dfd_row42_col8\" class=\"data row42 col8\" >-0.069268</td>\n",
              "      <td id=\"T_65dfd_row42_col9\" class=\"data row42 col9\" >-0.088814</td>\n",
              "      <td id=\"T_65dfd_row42_col10\" class=\"data row42 col10\" >-1.061995</td>\n",
              "      <td id=\"T_65dfd_row42_col11\" class=\"data row42 col11\" >0.684919</td>\n",
              "    </tr>\n",
              "    <tr>\n",
              "      <th id=\"T_65dfd_level0_row43\" class=\"row_heading level0 row43\" >43</th>\n",
              "      <td id=\"T_65dfd_row43_col0\" class=\"data row43 col0\" >-0.326495</td>\n",
              "      <td id=\"T_65dfd_row43_col1\" class=\"data row43 col1\" >-0.236772</td>\n",
              "      <td id=\"T_65dfd_row43_col2\" class=\"data row43 col2\" >-0.840046</td>\n",
              "      <td id=\"T_65dfd_row43_col3\" class=\"data row43 col3\" >-0.412963</td>\n",
              "      <td id=\"T_65dfd_row43_col4\" class=\"data row43 col4\" >-0.233323</td>\n",
              "      <td id=\"T_65dfd_row43_col5\" class=\"data row43 col5\" >-0.850681</td>\n",
              "      <td id=\"T_65dfd_row43_col6\" class=\"data row43 col6\" >0.012145</td>\n",
              "      <td id=\"T_65dfd_row43_col7\" class=\"data row43 col7\" >-1.187890</td>\n",
              "      <td id=\"T_65dfd_row43_col8\" class=\"data row43 col8\" >-0.691110</td>\n",
              "      <td id=\"T_65dfd_row43_col9\" class=\"data row43 col9\" >-0.396546</td>\n",
              "      <td id=\"T_65dfd_row43_col10\" class=\"data row43 col10\" >0.806170</td>\n",
              "      <td id=\"T_65dfd_row43_col11\" class=\"data row43 col11\" >1.292882</td>\n",
              "    </tr>\n",
              "    <tr>\n",
              "      <th id=\"T_65dfd_level0_row44\" class=\"row_heading level0 row44\" >44</th>\n",
              "      <td id=\"T_65dfd_row44_col0\" class=\"data row44 col0\" >0.066775</td>\n",
              "      <td id=\"T_65dfd_row44_col1\" class=\"data row44 col1\" >0.020833</td>\n",
              "      <td id=\"T_65dfd_row44_col2\" class=\"data row44 col2\" >-0.072433</td>\n",
              "      <td id=\"T_65dfd_row44_col3\" class=\"data row44 col3\" >-0.415724</td>\n",
              "      <td id=\"T_65dfd_row44_col4\" class=\"data row44 col4\" >-0.329828</td>\n",
              "      <td id=\"T_65dfd_row44_col5\" class=\"data row44 col5\" >-1.053010</td>\n",
              "      <td id=\"T_65dfd_row44_col6\" class=\"data row44 col6\" >-0.475950</td>\n",
              "      <td id=\"T_65dfd_row44_col7\" class=\"data row44 col7\" >0.101871</td>\n",
              "      <td id=\"T_65dfd_row44_col8\" class=\"data row44 col8\" >-0.193637</td>\n",
              "      <td id=\"T_65dfd_row44_col9\" class=\"data row44 col9\" >-0.581186</td>\n",
              "      <td id=\"T_65dfd_row44_col10\" class=\"data row44 col10\" >0.126837</td>\n",
              "      <td id=\"T_65dfd_row44_col11\" class=\"data row44 col11\" >0.076957</td>\n",
              "    </tr>\n",
              "    <tr>\n",
              "      <th id=\"T_65dfd_level0_row45\" class=\"row_heading level0 row45\" >45</th>\n",
              "      <td id=\"T_65dfd_row45_col0\" class=\"data row45 col0\" >0.378680</td>\n",
              "      <td id=\"T_65dfd_row45_col1\" class=\"data row45 col1\" >0.307060</td>\n",
              "      <td id=\"T_65dfd_row45_col2\" class=\"data row45 col2\" >0.625397</td>\n",
              "      <td id=\"T_65dfd_row45_col3\" class=\"data row45 col3\" >-0.431499</td>\n",
              "      <td id=\"T_65dfd_row45_col4\" class=\"data row45 col4\" >-0.715848</td>\n",
              "      <td id=\"T_65dfd_row45_col5\" class=\"data row45 col5\" >-1.343752</td>\n",
              "      <td id=\"T_65dfd_row45_col6\" class=\"data row45 col6\" >-0.173451</td>\n",
              "      <td id=\"T_65dfd_row45_col7\" class=\"data row45 col7\" >-0.798528</td>\n",
              "      <td id=\"T_65dfd_row45_col8\" class=\"data row45 col8\" >-1.064215</td>\n",
              "      <td id=\"T_65dfd_row45_col9\" class=\"data row45 col9\" >-0.458093</td>\n",
              "      <td id=\"T_65dfd_row45_col10\" class=\"data row45 col10\" >-0.382662</td>\n",
              "      <td id=\"T_65dfd_row45_col11\" class=\"data row45 col11\" >0.380938</td>\n",
              "    </tr>\n",
              "    <tr>\n",
              "      <th id=\"T_65dfd_level0_row46\" class=\"row_heading level0 row46\" >46</th>\n",
              "      <td id=\"T_65dfd_row46_col0\" class=\"data row46 col0\" >-0.746888</td>\n",
              "      <td id=\"T_65dfd_row46_col1\" class=\"data row46 col1\" >-0.780603</td>\n",
              "      <td id=\"T_65dfd_row46_col2\" class=\"data row46 col2\" >-0.072433</td>\n",
              "      <td id=\"T_65dfd_row46_col3\" class=\"data row46 col3\" >-0.446485</td>\n",
              "      <td id=\"T_65dfd_row46_col4\" class=\"data row46 col4\" >-0.587175</td>\n",
              "      <td id=\"T_65dfd_row46_col5\" class=\"data row46 col5\" >0.951577</td>\n",
              "      <td id=\"T_65dfd_row46_col6\" class=\"data row46 col6\" >-0.560398</td>\n",
              "      <td id=\"T_65dfd_row46_col7\" class=\"data row46 col7\" >0.277287</td>\n",
              "      <td id=\"T_65dfd_row46_col8\" class=\"data row46 col8\" >0.676941</td>\n",
              "      <td id=\"T_65dfd_row46_col9\" class=\"data row46 col9\" >-0.581186</td>\n",
              "      <td id=\"T_65dfd_row46_col10\" class=\"data row46 col10\" >-0.722328</td>\n",
              "      <td id=\"T_65dfd_row46_col11\" class=\"data row46 col11\" >-0.834986</td>\n",
              "    </tr>\n",
              "    <tr>\n",
              "      <th id=\"T_65dfd_level0_row47\" class=\"row_heading level0 row47\" >47</th>\n",
              "      <td id=\"T_65dfd_row47_col0\" class=\"data row47 col0\" >-0.285812</td>\n",
              "      <td id=\"T_65dfd_row47_col1\" class=\"data row47 col1\" >-0.193837</td>\n",
              "      <td id=\"T_65dfd_row47_col2\" class=\"data row47 col2\" >-0.002650</td>\n",
              "      <td id=\"T_65dfd_row47_col3\" class=\"data row47 col3\" >-0.540346</td>\n",
              "      <td id=\"T_65dfd_row47_col4\" class=\"data row47 col4\" >-0.876690</td>\n",
              "      <td id=\"T_65dfd_row47_col5\" class=\"data row47 col5\" >-0.869384</td>\n",
              "      <td id=\"T_65dfd_row47_col6\" class=\"data row47 col6\" >0.036724</td>\n",
              "      <td id=\"T_65dfd_row47_col7\" class=\"data row47 col7\" >-1.577252</td>\n",
              "      <td id=\"T_65dfd_row47_col8\" class=\"data row47 col8\" >-0.815478</td>\n",
              "      <td id=\"T_65dfd_row47_col9\" class=\"data row47 col9\" >-0.150360</td>\n",
              "      <td id=\"T_65dfd_row47_col10\" class=\"data row47 col10\" >-0.892162</td>\n",
              "      <td id=\"T_65dfd_row47_col11\" class=\"data row47 col11\" >-0.227024</td>\n",
              "    </tr>\n",
              "    <tr>\n",
              "      <th id=\"T_65dfd_level0_row48\" class=\"row_heading level0 row48\" >48</th>\n",
              "      <td id=\"T_65dfd_row48_col0\" class=\"data row48 col0\" >-0.557034</td>\n",
              "      <td id=\"T_65dfd_row48_col1\" class=\"data row48 col1\" >-0.537310</td>\n",
              "      <td id=\"T_65dfd_row48_col2\" class=\"data row48 col2\" >-1.119178</td>\n",
              "      <td id=\"T_65dfd_row48_col3\" class=\"data row48 col3\" >-0.582938</td>\n",
              "      <td id=\"T_65dfd_row48_col4\" class=\"data row48 col4\" >0.796065</td>\n",
              "      <td id=\"T_65dfd_row48_col5\" class=\"data row48 col5\" >-0.718062</td>\n",
              "      <td id=\"T_65dfd_row48_col6\" class=\"data row48 col6\" >-0.473114</td>\n",
              "      <td id=\"T_65dfd_row48_col7\" class=\"data row48 col7\" >-0.432487</td>\n",
              "      <td id=\"T_65dfd_row48_col8\" class=\"data row48 col8\" >0.303836</td>\n",
              "      <td id=\"T_65dfd_row48_col9\" class=\"data row48 col9\" >-0.765825</td>\n",
              "      <td id=\"T_65dfd_row48_col10\" class=\"data row48 col10\" >0.296671</td>\n",
              "      <td id=\"T_65dfd_row48_col11\" class=\"data row48 col11\" >-0.531005</td>\n",
              "    </tr>\n",
              "    <tr>\n",
              "      <th id=\"T_65dfd_level0_row49\" class=\"row_heading level0 row49\" >49</th>\n",
              "      <td id=\"T_65dfd_row49_col0\" class=\"data row49 col0\" >-1.140159</td>\n",
              "      <td id=\"T_65dfd_row49_col1\" class=\"data row49 col1\" >-1.081142</td>\n",
              "      <td id=\"T_65dfd_row49_col2\" class=\"data row49 col2\" >-1.049395</td>\n",
              "      <td id=\"T_65dfd_row49_col3\" class=\"data row49 col3\" >-0.585699</td>\n",
              "      <td id=\"T_65dfd_row49_col4\" class=\"data row49 col4\" >1.021244</td>\n",
              "      <td id=\"T_65dfd_row49_col5\" class=\"data row49 col5\" >0.897169</td>\n",
              "      <td id=\"T_65dfd_row49_col6\" class=\"data row49 col6\" >-0.604198</td>\n",
              "      <td id=\"T_65dfd_row49_col7\" class=\"data row49 col7\" >-0.034000</td>\n",
              "      <td id=\"T_65dfd_row49_col8\" class=\"data row49 col8\" >-0.193637</td>\n",
              "      <td id=\"T_65dfd_row49_col9\" class=\"data row49 col9\" >-0.642732</td>\n",
              "      <td id=\"T_65dfd_row49_col10\" class=\"data row49 col10\" >-0.722328</td>\n",
              "      <td id=\"T_65dfd_row49_col11\" class=\"data row49 col11\" >0.380938</td>\n",
              "    </tr>\n",
              "    <tr>\n",
              "      <th id=\"T_65dfd_level0_row50\" class=\"row_heading level0 row50\" >50</th>\n",
              "      <td id=\"T_65dfd_row50_col0\" class=\"data row50 col0\" >0.202386</td>\n",
              "      <td id=\"T_65dfd_row50_col1\" class=\"data row50 col1\" >-0.036412</td>\n",
              "      <td id=\"T_65dfd_row50_col2\" class=\"data row50 col2\" >-0.142216</td>\n",
              "      <td id=\"T_65dfd_row50_col3\" class=\"data row50 col3\" >-0.605417</td>\n",
              "      <td id=\"T_65dfd_row50_col4\" class=\"data row50 col4\" >0.538718</td>\n",
              "      <td id=\"T_65dfd_row50_col5\" class=\"data row50 col5\" >-1.379457</td>\n",
              "      <td id=\"T_65dfd_row50_col6\" class=\"data row50 col6\" >-1.062674</td>\n",
              "      <td id=\"T_65dfd_row50_col7\" class=\"data row50 col7\" >1.731310</td>\n",
              "      <td id=\"T_65dfd_row50_col8\" class=\"data row50 col8\" >-0.815478</td>\n",
              "      <td id=\"T_65dfd_row50_col9\" class=\"data row50 col9\" >-0.888918</td>\n",
              "      <td id=\"T_65dfd_row50_col10\" class=\"data row50 col10\" >1.145837</td>\n",
              "      <td id=\"T_65dfd_row50_col11\" class=\"data row50 col11\" >0.076957</td>\n",
              "    </tr>\n",
              "    <tr>\n",
              "      <th id=\"T_65dfd_level0_row51\" class=\"row_heading level0 row51\" >51</th>\n",
              "      <td id=\"T_65dfd_row51_col0\" class=\"data row51 col0\" >-1.099476</td>\n",
              "      <td id=\"T_65dfd_row51_col1\" class=\"data row51 col1\" >-0.995274</td>\n",
              "      <td id=\"T_65dfd_row51_col2\" class=\"data row51 col2\" >-0.351565</td>\n",
              "      <td id=\"T_65dfd_row51_col3\" class=\"data row51 col3\" >-0.611333</td>\n",
              "      <td id=\"T_65dfd_row51_col4\" class=\"data row51 col4\" >-0.136817</td>\n",
              "      <td id=\"T_65dfd_row51_col5\" class=\"data row51 col5\" >1.034889</td>\n",
              "      <td id=\"T_65dfd_row51_col6\" class=\"data row51 col6\" >-0.416711</td>\n",
              "      <td id=\"T_65dfd_row51_col7\" class=\"data row51 col7\" >-0.682936</td>\n",
              "      <td id=\"T_65dfd_row51_col8\" class=\"data row51 col8\" >-0.566742</td>\n",
              "      <td id=\"T_65dfd_row51_col9\" class=\"data row51 col9\" >-0.027267</td>\n",
              "      <td id=\"T_65dfd_row51_col10\" class=\"data row51 col10\" >-1.231828</td>\n",
              "      <td id=\"T_65dfd_row51_col11\" class=\"data row51 col11\" >-1.138967</td>\n",
              "    </tr>\n",
              "    <tr>\n",
              "      <th id=\"T_65dfd_level0_row52\" class=\"row_heading level0 row52\" >52</th>\n",
              "      <td id=\"T_65dfd_row52_col0\" class=\"data row52 col0\" >-0.868938</td>\n",
              "      <td id=\"T_65dfd_row52_col1\" class=\"data row52 col1\" >-0.766292</td>\n",
              "      <td id=\"T_65dfd_row52_col2\" class=\"data row52 col2\" >-0.979612</td>\n",
              "      <td id=\"T_65dfd_row52_col3\" class=\"data row52 col3\" >-0.652348</td>\n",
              "      <td id=\"T_65dfd_row52_col4\" class=\"data row52 col4\" >-0.876690</td>\n",
              "      <td id=\"T_65dfd_row52_col5\" class=\"data row52 col5\" >-0.252196</td>\n",
              "      <td id=\"T_65dfd_row52_col6\" class=\"data row52 col6\" >-0.166203</td>\n",
              "      <td id=\"T_65dfd_row52_col7\" class=\"data row52 col7\" >-1.436311</td>\n",
              "      <td id=\"T_65dfd_row52_col8\" class=\"data row52 col8\" >-0.815478</td>\n",
              "      <td id=\"T_65dfd_row52_col9\" class=\"data row52 col9\" >-0.581186</td>\n",
              "      <td id=\"T_65dfd_row52_col10\" class=\"data row52 col10\" >-1.231828</td>\n",
              "      <td id=\"T_65dfd_row52_col11\" class=\"data row52 col11\" >-0.834986</td>\n",
              "    </tr>\n",
              "    <tr>\n",
              "      <th id=\"T_65dfd_level0_row53\" class=\"row_heading level0 row53\" >53</th>\n",
              "      <td id=\"T_65dfd_row53_col0\" class=\"data row53 col0\" >-0.001030</td>\n",
              "      <td id=\"T_65dfd_row53_col1\" class=\"data row53 col1\" >-0.150903</td>\n",
              "      <td id=\"T_65dfd_row53_col2\" class=\"data row53 col2\" >1.462793</td>\n",
              "      <td id=\"T_65dfd_row53_col3\" class=\"data row53 col3\" >-0.663785</td>\n",
              "      <td id=\"T_65dfd_row53_col4\" class=\"data row53 col4\" >-0.908858</td>\n",
              "      <td id=\"T_65dfd_row53_col5\" class=\"data row53 col5\" >-0.580343</td>\n",
              "      <td id=\"T_65dfd_row53_col6\" class=\"data row53 col6\" >-0.740007</td>\n",
              "      <td id=\"T_65dfd_row53_col7\" class=\"data row53 col7\" >0.162709</td>\n",
              "      <td id=\"T_65dfd_row53_col8\" class=\"data row53 col8\" >-1.188583</td>\n",
              "      <td id=\"T_65dfd_row53_col9\" class=\"data row53 col9\" >-0.827372</td>\n",
              "      <td id=\"T_65dfd_row53_col10\" class=\"data row53 col10\" >-0.212829</td>\n",
              "      <td id=\"T_65dfd_row53_col11\" class=\"data row53 col11\" >-0.834986</td>\n",
              "    </tr>\n",
              "    <tr>\n",
              "      <th id=\"T_65dfd_level0_row54\" class=\"row_heading level0 row54\" >54</th>\n",
              "      <td id=\"T_65dfd_row54_col0\" class=\"data row54 col0\" >-0.746888</td>\n",
              "      <td id=\"T_65dfd_row54_col1\" class=\"data row54 col1\" >-0.580244</td>\n",
              "      <td id=\"T_65dfd_row54_col2\" class=\"data row54 col2\" >-1.258744</td>\n",
              "      <td id=\"T_65dfd_row54_col3\" class=\"data row54 col3\" >-0.687053</td>\n",
              "      <td id=\"T_65dfd_row54_col4\" class=\"data row54 col4\" >-0.297659</td>\n",
              "      <td id=\"T_65dfd_row54_col5\" class=\"data row54 col5\" >-0.937394</td>\n",
              "      <td id=\"T_65dfd_row54_col6\" class=\"data row54 col6\" >-0.601992</td>\n",
              "      <td id=\"T_65dfd_row54_col7\" class=\"data row54 col7\" >-0.376719</td>\n",
              "      <td id=\"T_65dfd_row54_col8\" class=\"data row54 col8\" >-0.069268</td>\n",
              "      <td id=\"T_65dfd_row54_col9\" class=\"data row54 col9\" >-0.888918</td>\n",
              "      <td id=\"T_65dfd_row54_col10\" class=\"data row54 col10\" >0.466504</td>\n",
              "      <td id=\"T_65dfd_row54_col11\" class=\"data row54 col11\" >0.076957</td>\n",
              "    </tr>\n",
              "    <tr>\n",
              "      <th id=\"T_65dfd_level0_row55\" class=\"row_heading level0 row55\" >55</th>\n",
              "      <td id=\"T_65dfd_row55_col0\" class=\"data row55 col0\" >-0.638400</td>\n",
              "      <td id=\"T_65dfd_row55_col1\" class=\"data row55 col1\" >-0.480065</td>\n",
              "      <td id=\"T_65dfd_row55_col2\" class=\"data row55 col2\" >-1.049395</td>\n",
              "      <td id=\"T_65dfd_row55_col3\" class=\"data row55 col3\" >-0.700856</td>\n",
              "      <td id=\"T_65dfd_row55_col4\" class=\"data row55 col4\" >-0.973195</td>\n",
              "      <td id=\"T_65dfd_row55_col5\" class=\"data row55 col5\" >-1.093816</td>\n",
              "      <td id=\"T_65dfd_row55_col6\" class=\"data row55 col6\" >-0.144461</td>\n",
              "      <td id=\"T_65dfd_row55_col7\" class=\"data row55 col7\" >-1.620853</td>\n",
              "      <td id=\"T_65dfd_row55_col8\" class=\"data row55 col8\" >-0.318005</td>\n",
              "      <td id=\"T_65dfd_row55_col9\" class=\"data row55 col9\" >-0.950465</td>\n",
              "      <td id=\"T_65dfd_row55_col10\" class=\"data row55 col10\" >0.296671</td>\n",
              "      <td id=\"T_65dfd_row55_col11\" class=\"data row55 col11\" >-0.531005</td>\n",
              "    </tr>\n",
              "    <tr>\n",
              "      <th id=\"T_65dfd_level0_row56\" class=\"row_heading level0 row56\" >56</th>\n",
              "      <td id=\"T_65dfd_row56_col0\" class=\"data row56 col0\" >-0.868938</td>\n",
              "      <td id=\"T_65dfd_row56_col1\" class=\"data row56 col1\" >-0.880783</td>\n",
              "      <td id=\"T_65dfd_row56_col2\" class=\"data row56 col2\" >0.206699</td>\n",
              "      <td id=\"T_65dfd_row56_col3\" class=\"data row56 col3\" >-0.715447</td>\n",
              "      <td id=\"T_65dfd_row56_col4\" class=\"data row56 col4\" >-0.941027</td>\n",
              "      <td id=\"T_65dfd_row56_col5\" class=\"data row56 col5\" >0.705041</td>\n",
              "      <td id=\"T_65dfd_row56_col6\" class=\"data row56 col6\" >-0.636968</td>\n",
              "      <td id=\"T_65dfd_row56_col7\" class=\"data row56 col7\" >-0.360496</td>\n",
              "      <td id=\"T_65dfd_row56_col8\" class=\"data row56 col8\" >-0.815478</td>\n",
              "      <td id=\"T_65dfd_row56_col9\" class=\"data row56 col9\" >-0.519639</td>\n",
              "      <td id=\"T_65dfd_row56_col10\" class=\"data row56 col10\" >-0.892162</td>\n",
              "      <td id=\"T_65dfd_row56_col11\" class=\"data row56 col11\" >-0.227024</td>\n",
              "    </tr>\n",
              "    <tr>\n",
              "      <th id=\"T_65dfd_level0_row57\" class=\"row_heading level0 row57\" >57</th>\n",
              "      <td id=\"T_65dfd_row57_col0\" class=\"data row57 col0\" >-0.814694</td>\n",
              "      <td id=\"T_65dfd_row57_col1\" class=\"data row57 col1\" >-0.809226</td>\n",
              "      <td id=\"T_65dfd_row57_col2\" class=\"data row57 col2\" >-0.351565</td>\n",
              "      <td id=\"T_65dfd_row57_col3\" class=\"data row57 col3\" >-0.728067</td>\n",
              "      <td id=\"T_65dfd_row57_col4\" class=\"data row57 col4\" >-0.812353</td>\n",
              "      <td id=\"T_65dfd_row57_col5\" class=\"data row57 col5\" >0.035146</td>\n",
              "      <td id=\"T_65dfd_row57_col6\" class=\"data row57 col6\" >-0.999338</td>\n",
              "      <td id=\"T_65dfd_row57_col7\" class=\"data row57 col7\" >0.945489</td>\n",
              "      <td id=\"T_65dfd_row57_col8\" class=\"data row57 col8\" >-0.069268</td>\n",
              "      <td id=\"T_65dfd_row57_col9\" class=\"data row57 col9\" >-0.765825</td>\n",
              "      <td id=\"T_65dfd_row57_col10\" class=\"data row57 col10\" >-0.212829</td>\n",
              "      <td id=\"T_65dfd_row57_col11\" class=\"data row57 col11\" >-0.834986</td>\n",
              "    </tr>\n",
              "    <tr>\n",
              "      <th id=\"T_65dfd_level0_row58\" class=\"row_heading level0 row58\" >58</th>\n",
              "      <td id=\"T_65dfd_row58_col0\" class=\"data row58 col0\" >-0.245129</td>\n",
              "      <td id=\"T_65dfd_row58_col1\" class=\"data row58 col1\" >-0.351263</td>\n",
              "      <td id=\"T_65dfd_row58_col2\" class=\"data row58 col2\" >0.904529</td>\n",
              "      <td id=\"T_65dfd_row58_col3\" class=\"data row58 col3\" >-0.732406</td>\n",
              "      <td id=\"T_65dfd_row58_col4\" class=\"data row58 col4\" >-1.166205</td>\n",
              "      <td id=\"T_65dfd_row58_col5\" class=\"data row58 col5\" >-0.541237</td>\n",
              "      <td id=\"T_65dfd_row58_col6\" class=\"data row58 col6\" >-0.682974</td>\n",
              "      <td id=\"T_65dfd_row58_col7\" class=\"data row58 col7\" >-0.270253</td>\n",
              "      <td id=\"T_65dfd_row58_col8\" class=\"data row58 col8\" >-0.566742</td>\n",
              "      <td id=\"T_65dfd_row58_col9\" class=\"data row58 col9\" >-1.073558</td>\n",
              "      <td id=\"T_65dfd_row58_col10\" class=\"data row58 col10\" >-1.061995</td>\n",
              "      <td id=\"T_65dfd_row58_col11\" class=\"data row58 col11\" >0.684919</td>\n",
              "    </tr>\n",
              "    <tr>\n",
              "      <th id=\"T_65dfd_level0_row59\" class=\"row_heading level0 row59\" >59</th>\n",
              "      <td id=\"T_65dfd_row59_col0\" class=\"data row59 col0\" >-0.746888</td>\n",
              "      <td id=\"T_65dfd_row59_col1\" class=\"data row59 col1\" >-0.880783</td>\n",
              "      <td id=\"T_65dfd_row59_col2\" class=\"data row59 col2\" >-0.211999</td>\n",
              "      <td id=\"T_65dfd_row59_col3\" class=\"data row59 col3\" >-0.733983</td>\n",
              "      <td id=\"T_65dfd_row59_col4\" class=\"data row59 col4\" >1.149918</td>\n",
              "      <td id=\"T_65dfd_row59_col5\" class=\"data row59 col5\" >0.342890</td>\n",
              "      <td id=\"T_65dfd_row59_col6\" class=\"data row59 col6\" >-1.045973</td>\n",
              "      <td id=\"T_65dfd_row59_col7\" class=\"data row59 col7\" >1.130030</td>\n",
              "      <td id=\"T_65dfd_row59_col8\" class=\"data row59 col8\" >-0.318005</td>\n",
              "      <td id=\"T_65dfd_row59_col9\" class=\"data row59 col9\" >-0.827372</td>\n",
              "      <td id=\"T_65dfd_row59_col10\" class=\"data row59 col10\" >-0.212829</td>\n",
              "      <td id=\"T_65dfd_row59_col11\" class=\"data row59 col11\" >-0.227024</td>\n",
              "    </tr>\n",
              "    <tr>\n",
              "      <th id=\"T_65dfd_level0_row60\" class=\"row_heading level0 row60\" >60</th>\n",
              "      <td id=\"T_65dfd_row60_col0\" class=\"data row60 col0\" >-0.977427</td>\n",
              "      <td id=\"T_65dfd_row60_col1\" class=\"data row60 col1\" >-0.852160</td>\n",
              "      <td id=\"T_65dfd_row60_col2\" class=\"data row60 col2\" >-1.817007</td>\n",
              "      <td id=\"T_65dfd_row60_col3\" class=\"data row60 col3\" >-0.739504</td>\n",
              "      <td id=\"T_65dfd_row60_col4\" class=\"data row60 col4\" >0.152698</td>\n",
              "      <td id=\"T_65dfd_row60_col5\" class=\"data row60 col5\" >-0.704460</td>\n",
              "      <td id=\"T_65dfd_row60_col6\" class=\"data row60 col6\" >-0.740953</td>\n",
              "      <td id=\"T_65dfd_row60_col7\" class=\"data row60 col7\" >-0.099907</td>\n",
              "      <td id=\"T_65dfd_row60_col8\" class=\"data row60 col8\" >-0.318005</td>\n",
              "      <td id=\"T_65dfd_row60_col9\" class=\"data row60 col9\" >-0.519639</td>\n",
              "      <td id=\"T_65dfd_row60_col10\" class=\"data row60 col10\" >0.466504</td>\n",
              "      <td id=\"T_65dfd_row60_col11\" class=\"data row60 col11\" >-1.138967</td>\n",
              "    </tr>\n",
              "    <tr>\n",
              "      <th id=\"T_65dfd_level0_row61\" class=\"row_heading level0 row61\" >61</th>\n",
              "      <td id=\"T_65dfd_row61_col0\" class=\"data row61 col0\" >-0.299373</td>\n",
              "      <td id=\"T_65dfd_row61_col1\" class=\"data row61 col1\" >-0.551622</td>\n",
              "      <td id=\"T_65dfd_row61_col2\" class=\"data row61 col2\" >0.346265</td>\n",
              "      <td id=\"T_65dfd_row61_col3\" class=\"data row61 col3\" >-0.808519</td>\n",
              "      <td id=\"T_65dfd_row61_col4\" class=\"data row61 col4\" >-1.069700</td>\n",
              "      <td id=\"T_65dfd_row61_col5\" class=\"data row61 col5\" >-0.520834</td>\n",
              "      <td id=\"T_65dfd_row61_col6\" class=\"data row61 col6\" >-1.180522</td>\n",
              "      <td id=\"T_65dfd_row61_col7\" class=\"data row61 col7\" >1.466666</td>\n",
              "      <td id=\"T_65dfd_row61_col8\" class=\"data row61 col8\" >-0.815478</td>\n",
              "      <td id=\"T_65dfd_row61_col9\" class=\"data row61 col9\" >-0.642732</td>\n",
              "      <td id=\"T_65dfd_row61_col10\" class=\"data row61 col10\" >0.126837</td>\n",
              "      <td id=\"T_65dfd_row61_col11\" class=\"data row61 col11\" >-1.138967</td>\n",
              "    </tr>\n",
              "    <tr>\n",
              "      <th id=\"T_65dfd_level0_row62\" class=\"row_heading level0 row62\" >62</th>\n",
              "      <td id=\"T_65dfd_row62_col0\" class=\"data row62 col0\" >-0.774011</td>\n",
              "      <td id=\"T_65dfd_row62_col1\" class=\"data row62 col1\" >-0.794915</td>\n",
              "      <td id=\"T_65dfd_row62_col2\" class=\"data row62 col2\" >0.067133</td>\n",
              "      <td id=\"T_65dfd_row62_col3\" class=\"data row62 col3\" >-0.809703</td>\n",
              "      <td id=\"T_65dfd_row62_col4\" class=\"data row62 col4\" >-1.198374</td>\n",
              "      <td id=\"T_65dfd_row62_col5\" class=\"data row62 col5\" >0.019843</td>\n",
              "      <td id=\"T_65dfd_row62_col6\" class=\"data row62 col6\" >-0.758598</td>\n",
              "      <td id=\"T_65dfd_row62_col7\" class=\"data row62 col7\" >-0.286477</td>\n",
              "      <td id=\"T_65dfd_row62_col8\" class=\"data row62 col8\" >-1.188583</td>\n",
              "      <td id=\"T_65dfd_row62_col9\" class=\"data row62 col9\" >-0.458093</td>\n",
              "      <td id=\"T_65dfd_row62_col10\" class=\"data row62 col10\" >-0.892162</td>\n",
              "      <td id=\"T_65dfd_row62_col11\" class=\"data row62 col11\" >-1.746929</td>\n",
              "    </tr>\n",
              "    <tr>\n",
              "      <th id=\"T_65dfd_level0_row63\" class=\"row_heading level0 row63\" >63</th>\n",
              "      <td id=\"T_65dfd_row63_col0\" class=\"data row63 col0\" >-1.343575</td>\n",
              "      <td id=\"T_65dfd_row63_col1\" class=\"data row63 col1\" >-1.252879</td>\n",
              "      <td id=\"T_65dfd_row63_col2\" class=\"data row63 col2\" >-0.979612</td>\n",
              "      <td id=\"T_65dfd_row63_col3\" class=\"data row63 col3\" >-0.835337</td>\n",
              "      <td id=\"T_65dfd_row63_col4\" class=\"data row63 col4\" >2.822673</td>\n",
              "      <td id=\"T_65dfd_row63_col5\" class=\"data row63 col5\" >0.812157</td>\n",
              "      <td id=\"T_65dfd_row63_col6\" class=\"data row63 col6\" >-1.076223</td>\n",
              "      <td id=\"T_65dfd_row63_col7\" class=\"data row63 col7\" >0.855246</td>\n",
              "      <td id=\"T_65dfd_row63_col8\" class=\"data row63 col8\" >0.055100</td>\n",
              "      <td id=\"T_65dfd_row63_col9\" class=\"data row63 col9\" >-0.888918</td>\n",
              "      <td id=\"T_65dfd_row63_col10\" class=\"data row63 col10\" >-0.212829</td>\n",
              "      <td id=\"T_65dfd_row63_col11\" class=\"data row63 col11\" >-1.746929</td>\n",
              "    </tr>\n",
              "    <tr>\n",
              "      <th id=\"T_65dfd_level0_row64\" class=\"row_heading level0 row64\" >64</th>\n",
              "      <td id=\"T_65dfd_row64_col0\" class=\"data row64 col0\" >-0.814694</td>\n",
              "      <td id=\"T_65dfd_row64_col1\" class=\"data row64 col1\" >-1.052519</td>\n",
              "      <td id=\"T_65dfd_row64_col2\" class=\"data row64 col2\" >0.974312</td>\n",
              "      <td id=\"T_65dfd_row64_col3\" class=\"data row64 col3\" >-0.858210</td>\n",
              "      <td id=\"T_65dfd_row64_col4\" class=\"data row64 col4\" >-1.294879</td>\n",
              "      <td id=\"T_65dfd_row64_col5\" class=\"data row64 col5\" >1.636775</td>\n",
              "      <td id=\"T_65dfd_row64_col6\" class=\"data row64 col6\" >-1.084416</td>\n",
              "      <td id=\"T_65dfd_row64_col7\" class=\"data row64 col7\" >0.797450</td>\n",
              "      <td id=\"T_65dfd_row64_col8\" class=\"data row64 col8\" >-1.064215</td>\n",
              "      <td id=\"T_65dfd_row64_col9\" class=\"data row64 col9\" >-0.458093</td>\n",
              "      <td id=\"T_65dfd_row64_col10\" class=\"data row64 col10\" >-1.741328</td>\n",
              "      <td id=\"T_65dfd_row64_col11\" class=\"data row64 col11\" >-1.746929</td>\n",
              "    </tr>\n",
              "    <tr>\n",
              "      <th id=\"T_65dfd_level0_row65\" class=\"row_heading level0 row65\" >65</th>\n",
              "      <td id=\"T_65dfd_row65_col0\" class=\"data row65 col0\" >-1.180843</td>\n",
              "      <td id=\"T_65dfd_row65_col1\" class=\"data row65 col1\" >-1.124076</td>\n",
              "      <td id=\"T_65dfd_row65_col2\" class=\"data row65 col2\" >-0.421348</td>\n",
              "      <td id=\"T_65dfd_row65_col3\" class=\"data row65 col3\" >-0.860971</td>\n",
              "      <td id=\"T_65dfd_row65_col4\" class=\"data row65 col4\" >3.691219</td>\n",
              "      <td id=\"T_65dfd_row65_col5\" class=\"data row65 col5\" >0.669336</td>\n",
              "      <td id=\"T_65dfd_row65_col6\" class=\"data row65 col6\" >-1.026437</td>\n",
              "      <td id=\"T_65dfd_row65_col7\" class=\"data row65 col7\" >0.533820</td>\n",
              "      <td id=\"T_65dfd_row65_col8\" class=\"data row65 col8\" >-0.069268</td>\n",
              "      <td id=\"T_65dfd_row65_col9\" class=\"data row65 col9\" >-0.950465</td>\n",
              "      <td id=\"T_65dfd_row65_col10\" class=\"data row65 col10\" >-0.382662</td>\n",
              "      <td id=\"T_65dfd_row65_col11\" class=\"data row65 col11\" >-1.138967</td>\n",
              "    </tr>\n",
              "    <tr>\n",
              "      <th id=\"T_65dfd_level0_row66\" class=\"row_heading level0 row66\" >66</th>\n",
              "      <td id=\"T_65dfd_row66_col0\" class=\"data row66 col0\" >-1.140159</td>\n",
              "      <td id=\"T_65dfd_row66_col1\" class=\"data row66 col1\" >-1.052519</td>\n",
              "      <td id=\"T_65dfd_row66_col2\" class=\"data row66 col2\" >-1.119178</td>\n",
              "      <td id=\"T_65dfd_row66_col3\" class=\"data row66 col3\" >-0.868464</td>\n",
              "      <td id=\"T_65dfd_row66_col4\" class=\"data row66 col4\" >-0.265491</td>\n",
              "      <td id=\"T_65dfd_row66_col5\" class=\"data row66 col5\" >-0.111075</td>\n",
              "      <td id=\"T_65dfd_row66_col6\" class=\"data row66 col6\" >-0.839895</td>\n",
              "      <td id=\"T_65dfd_row66_col7\" class=\"data row66 col7\" >-0.216513</td>\n",
              "      <td id=\"T_65dfd_row66_col8\" class=\"data row66 col8\" >-0.939846</td>\n",
              "      <td id=\"T_65dfd_row66_col9\" class=\"data row66 col9\" >-0.704279</td>\n",
              "      <td id=\"T_65dfd_row66_col10\" class=\"data row66 col10\" >-1.231828</td>\n",
              "      <td id=\"T_65dfd_row66_col11\" class=\"data row66 col11\" >-0.834986</td>\n",
              "    </tr>\n",
              "    <tr>\n",
              "      <th id=\"T_65dfd_level0_row67\" class=\"row_heading level0 row67\" >67</th>\n",
              "      <td id=\"T_65dfd_row67_col0\" class=\"data row67 col0\" >-0.665522</td>\n",
              "      <td id=\"T_65dfd_row67_col1\" class=\"data row67 col1\" >-0.737669</td>\n",
              "      <td id=\"T_65dfd_row67_col2\" class=\"data row67 col2\" >0.416048</td>\n",
              "      <td id=\"T_65dfd_row67_col3\" class=\"data row67 col3\" >-0.890943</td>\n",
              "      <td id=\"T_65dfd_row67_col4\" class=\"data row67 col4\" >-0.973195</td>\n",
              "      <td id=\"T_65dfd_row67_col5\" class=\"data row67 col5\" >-0.179085</td>\n",
              "      <td id=\"T_65dfd_row67_col6\" class=\"data row67 col6\" >-0.632557</td>\n",
              "      <td id=\"T_65dfd_row67_col7\" class=\"data row67 col7\" >-0.962790</td>\n",
              "      <td id=\"T_65dfd_row67_col8\" class=\"data row67 col8\" >-0.691110</td>\n",
              "      <td id=\"T_65dfd_row67_col9\" class=\"data row67 col9\" >-1.012011</td>\n",
              "      <td id=\"T_65dfd_row67_col10\" class=\"data row67 col10\" >-0.552495</td>\n",
              "      <td id=\"T_65dfd_row67_col11\" class=\"data row67 col11\" >-1.746929</td>\n",
              "    </tr>\n",
              "    <tr>\n",
              "      <th id=\"T_65dfd_level0_row68\" class=\"row_heading level0 row68\" >68</th>\n",
              "      <td id=\"T_65dfd_row68_col0\" class=\"data row68 col0\" >-0.502789</td>\n",
              "      <td id=\"T_65dfd_row68_col1\" class=\"data row68 col1\" >-0.694735</td>\n",
              "      <td id=\"T_65dfd_row68_col2\" class=\"data row68 col2\" >1.462793</td>\n",
              "      <td id=\"T_65dfd_row68_col3\" class=\"data row68 col3\" >-0.896070</td>\n",
              "      <td id=\"T_65dfd_row68_col4\" class=\"data row68 col4\" >-0.168986</td>\n",
              "      <td id=\"T_65dfd_row68_col5\" class=\"data row68 col5\" >0.387096</td>\n",
              "      <td id=\"T_65dfd_row68_col6\" class=\"data row68 col6\" >-0.884640</td>\n",
              "      <td id=\"T_65dfd_row68_col7\" class=\"data row68 col7\" >-0.158717</td>\n",
              "      <td id=\"T_65dfd_row68_col8\" class=\"data row68 col8\" >-0.815478</td>\n",
              "      <td id=\"T_65dfd_row68_col9\" class=\"data row68 col9\" >-0.581186</td>\n",
              "      <td id=\"T_65dfd_row68_col10\" class=\"data row68 col10\" >-0.552495</td>\n",
              "      <td id=\"T_65dfd_row68_col11\" class=\"data row68 col11\" >0.076957</td>\n",
              "    </tr>\n",
              "    <tr>\n",
              "      <th id=\"T_65dfd_level0_row69\" class=\"row_heading level0 row69\" >69</th>\n",
              "      <td id=\"T_65dfd_row69_col0\" class=\"data row69 col0\" >-1.058793</td>\n",
              "      <td id=\"T_65dfd_row69_col1\" class=\"data row69 col1\" >-0.923717</td>\n",
              "      <td id=\"T_65dfd_row69_col2\" class=\"data row69 col2\" >-1.049395</td>\n",
              "      <td id=\"T_65dfd_row69_col3\" class=\"data row69 col3\" >-0.930775</td>\n",
              "      <td id=\"T_65dfd_row69_col4\" class=\"data row69 col4\" >-0.136817</td>\n",
              "      <td id=\"T_65dfd_row69_col5\" class=\"data row69 col5\" >-0.629650</td>\n",
              "      <td id=\"T_65dfd_row69_col6\" class=\"data row69 col6\" >-0.826976</td>\n",
              "      <td id=\"T_65dfd_row69_col7\" class=\"data row69 col7\" >-0.489269</td>\n",
              "      <td id=\"T_65dfd_row69_col8\" class=\"data row69 col8\" >-0.442373</td>\n",
              "      <td id=\"T_65dfd_row69_col9\" class=\"data row69 col9\" >-0.888918</td>\n",
              "      <td id=\"T_65dfd_row69_col10\" class=\"data row69 col10\" >-0.042996</td>\n",
              "      <td id=\"T_65dfd_row69_col11\" class=\"data row69 col11\" >-0.834986</td>\n",
              "    </tr>\n",
              "    <tr>\n",
              "      <th id=\"T_65dfd_level0_row70\" class=\"row_heading level0 row70\" >70</th>\n",
              "      <td id=\"T_65dfd_row70_col0\" class=\"data row70 col0\" >-1.330014</td>\n",
              "      <td id=\"T_65dfd_row70_col1\" class=\"data row70 col1\" >-1.252879</td>\n",
              "      <td id=\"T_65dfd_row70_col2\" class=\"data row70 col2\" >-1.328527</td>\n",
              "      <td id=\"T_65dfd_row70_col3\" class=\"data row70 col3\" >-0.938663</td>\n",
              "      <td id=\"T_65dfd_row70_col4\" class=\"data row70 col4\" >0.024024</td>\n",
              "      <td id=\"T_65dfd_row70_col5\" class=\"data row70 col5\" >0.196669</td>\n",
              "      <td id=\"T_65dfd_row70_col6\" class=\"data row70 col6\" >-1.115611</td>\n",
              "      <td id=\"T_65dfd_row70_col7\" class=\"data row70 col7\" >0.603783</td>\n",
              "      <td id=\"T_65dfd_row70_col8\" class=\"data row70 col8\" >-0.069268</td>\n",
              "      <td id=\"T_65dfd_row70_col9\" class=\"data row70 col9\" >-0.765825</td>\n",
              "      <td id=\"T_65dfd_row70_col10\" class=\"data row70 col10\" >-0.382662</td>\n",
              "      <td id=\"T_65dfd_row70_col11\" class=\"data row70 col11\" >-1.138967</td>\n",
              "    </tr>\n",
              "    <tr>\n",
              "      <th id=\"T_65dfd_level0_row71\" class=\"row_heading level0 row71\" >71</th>\n",
              "      <td id=\"T_65dfd_row71_col0\" class=\"data row71 col0\" >-0.774011</td>\n",
              "      <td id=\"T_65dfd_row71_col1\" class=\"data row71 col1\" >-0.666113</td>\n",
              "      <td id=\"T_65dfd_row71_col2\" class=\"data row71 col2\" >-1.119178</td>\n",
              "      <td id=\"T_65dfd_row71_col3\" class=\"data row71 col3\" >-0.959564</td>\n",
              "      <td id=\"T_65dfd_row71_col4\" class=\"data row71 col4\" >-0.587175</td>\n",
              "      <td id=\"T_65dfd_row71_col5\" class=\"data row71 col5\" >-1.364155</td>\n",
              "      <td id=\"T_65dfd_row71_col6\" class=\"data row71 col6\" >-0.583086</td>\n",
              "      <td id=\"T_65dfd_row71_col7\" class=\"data row71 col7\" >-1.329845</td>\n",
              "      <td id=\"T_65dfd_row71_col8\" class=\"data row71 col8\" >-0.566742</td>\n",
              "      <td id=\"T_65dfd_row71_col9\" class=\"data row71 col9\" >-1.012011</td>\n",
              "      <td id=\"T_65dfd_row71_col10\" class=\"data row71 col10\" >-0.382662</td>\n",
              "      <td id=\"T_65dfd_row71_col11\" class=\"data row71 col11\" >-0.834986</td>\n",
              "    </tr>\n",
              "    <tr>\n",
              "      <th id=\"T_65dfd_level0_row72\" class=\"row_heading level0 row72\" >72</th>\n",
              "      <td id=\"T_65dfd_row72_col0\" class=\"data row72 col0\" >-0.787572</td>\n",
              "      <td id=\"T_65dfd_row72_col1\" class=\"data row72 col1\" >-0.766292</td>\n",
              "      <td id=\"T_65dfd_row72_col2\" class=\"data row72 col2\" >-0.281782</td>\n",
              "      <td id=\"T_65dfd_row72_col3\" class=\"data row72 col3\" >-0.961536</td>\n",
              "      <td id=\"T_65dfd_row72_col4\" class=\"data row72 col4\" >-0.522838</td>\n",
              "      <td id=\"T_65dfd_row72_col5\" class=\"data row72 col5\" >-0.718062</td>\n",
              "      <td id=\"T_65dfd_row72_col6\" class=\"data row72 col6\" >-0.910794</td>\n",
              "      <td id=\"T_65dfd_row72_col7\" class=\"data row72 col7\" >-0.309798</td>\n",
              "      <td id=\"T_65dfd_row72_col8\" class=\"data row72 col8\" >-0.193637</td>\n",
              "      <td id=\"T_65dfd_row72_col9\" class=\"data row72 col9\" >-1.135104</td>\n",
              "      <td id=\"T_65dfd_row72_col10\" class=\"data row72 col10\" >-0.552495</td>\n",
              "      <td id=\"T_65dfd_row72_col11\" class=\"data row72 col11\" >0.684919</td>\n",
              "    </tr>\n",
              "    <tr>\n",
              "      <th id=\"T_65dfd_level0_row73\" class=\"row_heading level0 row73\" >73</th>\n",
              "      <td id=\"T_65dfd_row73_col0\" class=\"data row73 col0\" >-0.434984</td>\n",
              "      <td id=\"T_65dfd_row73_col1\" class=\"data row73 col1\" >-0.465753</td>\n",
              "      <td id=\"T_65dfd_row73_col2\" class=\"data row73 col2\" >-0.491131</td>\n",
              "      <td id=\"T_65dfd_row73_col3\" class=\"data row73 col3\" >-0.968635</td>\n",
              "      <td id=\"T_65dfd_row73_col4\" class=\"data row73 col4\" >-0.973195</td>\n",
              "      <td id=\"T_65dfd_row73_col5\" class=\"data row73 col5\" >-1.535879</td>\n",
              "      <td id=\"T_65dfd_row73_col6\" class=\"data row73 col6\" >-0.366609</td>\n",
              "      <td id=\"T_65dfd_row73_col7\" class=\"data row73 col7\" >-1.898679</td>\n",
              "      <td id=\"T_65dfd_row73_col8\" class=\"data row73 col8\" >-0.939846</td>\n",
              "      <td id=\"T_65dfd_row73_col9\" class=\"data row73 col9\" >-0.704279</td>\n",
              "      <td id=\"T_65dfd_row73_col10\" class=\"data row73 col10\" >0.296671</td>\n",
              "      <td id=\"T_65dfd_row73_col11\" class=\"data row73 col11\" >-0.227024</td>\n",
              "    </tr>\n",
              "    <tr>\n",
              "      <th id=\"T_65dfd_level0_row74\" class=\"row_heading level0 row74\" >74</th>\n",
              "      <td id=\"T_65dfd_row74_col0\" class=\"data row74 col0\" >-1.587674</td>\n",
              "      <td id=\"T_65dfd_row74_col1\" class=\"data row74 col1\" >-1.481860</td>\n",
              "      <td id=\"T_65dfd_row74_col2\" class=\"data row74 col2\" >-1.188961</td>\n",
              "      <td id=\"T_65dfd_row74_col3\" class=\"data row74 col3\" >-0.979677</td>\n",
              "      <td id=\"T_65dfd_row74_col4\" class=\"data row74 col4\" >-0.522838</td>\n",
              "      <td id=\"T_65dfd_row74_col5\" class=\"data row74 col5\" >1.106299</td>\n",
              "      <td id=\"T_65dfd_row74_col6\" class=\"data row74 col6\" >-0.559768</td>\n",
              "      <td id=\"T_65dfd_row74_col7\" class=\"data row74 col7\" >-1.457604</td>\n",
              "      <td id=\"T_65dfd_row74_col8\" class=\"data row74 col8\" >-0.069268</td>\n",
              "      <td id=\"T_65dfd_row74_col9\" class=\"data row74 col9\" >-0.950465</td>\n",
              "      <td id=\"T_65dfd_row74_col10\" class=\"data row74 col10\" >-1.741328</td>\n",
              "      <td id=\"T_65dfd_row74_col11\" class=\"data row74 col11\" >0.684919</td>\n",
              "    </tr>\n",
              "    <tr>\n",
              "      <th id=\"T_65dfd_level0_row75\" class=\"row_heading level0 row75\" >75</th>\n",
              "      <td id=\"T_65dfd_row75_col0\" class=\"data row75 col0\" >-1.126598</td>\n",
              "      <td id=\"T_65dfd_row75_col1\" class=\"data row75 col1\" >-1.167010</td>\n",
              "      <td id=\"T_65dfd_row75_col2\" class=\"data row75 col2\" >0.067133</td>\n",
              "      <td id=\"T_65dfd_row75_col3\" class=\"data row75 col3\" >-0.984410</td>\n",
              "      <td id=\"T_65dfd_row75_col4\" class=\"data row75 col4\" >-1.713068</td>\n",
              "      <td id=\"T_65dfd_row75_col5\" class=\"data row75 col5\" >0.829159</td>\n",
              "      <td id=\"T_65dfd_row75_col6\" class=\"data row75 col6\" >-0.863213</td>\n",
              "      <td id=\"T_65dfd_row75_col7\" class=\"data row75 col7\" >-0.562275</td>\n",
              "      <td id=\"T_65dfd_row75_col8\" class=\"data row75 col8\" >-1.437319</td>\n",
              "      <td id=\"T_65dfd_row75_col9\" class=\"data row75 col9\" >-0.273453</td>\n",
              "      <td id=\"T_65dfd_row75_col10\" class=\"data row75 col10\" >-1.231828</td>\n",
              "      <td id=\"T_65dfd_row75_col11\" class=\"data row75 col11\" >-0.227024</td>\n",
              "    </tr>\n",
              "    <tr>\n",
              "      <th id=\"T_65dfd_level0_row76\" class=\"row_heading level0 row76\" >76</th>\n",
              "      <td id=\"T_65dfd_row76_col0\" class=\"data row76 col0\" >-0.651961</td>\n",
              "      <td id=\"T_65dfd_row76_col1\" class=\"data row76 col1\" >-0.709047</td>\n",
              "      <td id=\"T_65dfd_row76_col2\" class=\"data row76 col2\" >0.485831</td>\n",
              "      <td id=\"T_65dfd_row76_col3\" class=\"data row76 col3\" >-0.996241</td>\n",
              "      <td id=\"T_65dfd_row76_col4\" class=\"data row76 col4\" >-0.941027</td>\n",
              "      <td id=\"T_65dfd_row76_col5\" class=\"data row76 col5\" >-0.537836</td>\n",
              "      <td id=\"T_65dfd_row76_col6\" class=\"data row76 col6\" >-0.967512</td>\n",
              "      <td id=\"T_65dfd_row76_col7\" class=\"data row76 col7\" >-0.234765</td>\n",
              "      <td id=\"T_65dfd_row76_col8\" class=\"data row76 col8\" >-0.815478</td>\n",
              "      <td id=\"T_65dfd_row76_col9\" class=\"data row76 col9\" >-1.258197</td>\n",
              "      <td id=\"T_65dfd_row76_col10\" class=\"data row76 col10\" >-1.061995</td>\n",
              "      <td id=\"T_65dfd_row76_col11\" class=\"data row76 col11\" >-1.138967</td>\n",
              "    </tr>\n",
              "    <tr>\n",
              "      <th id=\"T_65dfd_level0_row77\" class=\"row_heading level0 row77\" >77</th>\n",
              "      <td id=\"T_65dfd_row77_col0\" class=\"data row77 col0\" >-0.638400</td>\n",
              "      <td id=\"T_65dfd_row77_col1\" class=\"data row77 col1\" >-0.995274</td>\n",
              "      <td id=\"T_65dfd_row77_col2\" class=\"data row77 col2\" >0.206699</td>\n",
              "      <td id=\"T_65dfd_row77_col3\" class=\"data row77 col3\" >-0.997819</td>\n",
              "      <td id=\"T_65dfd_row77_col4\" class=\"data row77 col4\" >0.217035</td>\n",
              "      <td id=\"T_65dfd_row77_col5\" class=\"data row77 col5\" >0.208570</td>\n",
              "      <td id=\"T_65dfd_row77_col6\" class=\"data row77 col6\" >-1.317278</td>\n",
              "      <td id=\"T_65dfd_row77_col7\" class=\"data row77 col7\" >1.332823</td>\n",
              "      <td id=\"T_65dfd_row77_col8\" class=\"data row77 col8\" >-0.691110</td>\n",
              "      <td id=\"T_65dfd_row77_col9\" class=\"data row77 col9\" >-1.012011</td>\n",
              "      <td id=\"T_65dfd_row77_col10\" class=\"data row77 col10\" >0.296671</td>\n",
              "      <td id=\"T_65dfd_row77_col11\" class=\"data row77 col11\" >-0.834986</td>\n",
              "    </tr>\n",
              "    <tr>\n",
              "      <th id=\"T_65dfd_level0_row78\" class=\"row_heading level0 row78\" >78</th>\n",
              "      <td id=\"T_65dfd_row78_col0\" class=\"data row78 col0\" >0.270191</td>\n",
              "      <td id=\"T_65dfd_row78_col1\" class=\"data row78 col1\" >-0.036412</td>\n",
              "      <td id=\"T_65dfd_row78_col2\" class=\"data row78 col2\" >1.881490</td>\n",
              "      <td id=\"T_65dfd_row78_col3\" class=\"data row78 col3\" >-1.000973</td>\n",
              "      <td id=\"T_65dfd_row78_col4\" class=\"data row78 col4\" >-1.198374</td>\n",
              "      <td id=\"T_65dfd_row78_col5\" class=\"data row78 col5\" >-1.500174</td>\n",
              "      <td id=\"T_65dfd_row78_col6\" class=\"data row78 col6\" >-1.081580</td>\n",
              "      <td id=\"T_65dfd_row78_col7\" class=\"data row78 col7\" >0.198198</td>\n",
              "      <td id=\"T_65dfd_row78_col8\" class=\"data row78 col8\" >-1.064215</td>\n",
              "      <td id=\"T_65dfd_row78_col9\" class=\"data row78 col9\" >-1.442837</td>\n",
              "      <td id=\"T_65dfd_row78_col10\" class=\"data row78 col10\" >0.126837</td>\n",
              "      <td id=\"T_65dfd_row78_col11\" class=\"data row78 col11\" >0.380938</td>\n",
              "    </tr>\n",
              "  </tbody>\n",
              "</table>\n"
            ]
          },
          "metadata": {},
          "execution_count": 39
        }
      ]
    },
    {
      "cell_type": "markdown",
      "source": [
        "<hr>\n",
        "\n",
        "**Implementation to KMeans**\n",
        "  * **Using elbow method to find the optimal number of clusters**\n",
        "\n",
        "  * **Elbow Method: The elbow method is used to determine the optimal number of clusters in K-means clustering. if K increases, average distortion will decrease. Then each cluster will have fewer constituent instances, and the instances will be closer to their respective centroids. However, the improvements in average distortion will decline as K increases. The value of K at which improvement in distortion declines the most is called the elbow, at which we should stop dividing the data into further clusters.**\n",
        "\n",
        "  * **The KMeans algorithm clusters data by trying to separate samples in n groups of equal variances, minimizing a criterion known as inertia, or within-cluster sum-of-squares Inertia, or the within-cluster sum of squares criterion, can be recognized as a measure of how internally coherent clusters are.**"
      ],
      "metadata": {
        "id": "4O-sS3saEMS3"
      }
    },
    {
      "cell_type": "code",
      "source": [
        "# way to find the best cluster that is elbow method\n",
        "\n",
        "# Step 1: Set the range\n",
        "clusters = list(range(2, 8))\n",
        "# Step 2: Formulate a loop and capture the WCSS (Withing Cluster sum of squared of distance)\n",
        "ssd = []\n",
        "# Step3: runnning a for loop\n",
        "for x in clusters:\n",
        "  # Step 4 - Implementing the KMeans with each values of X\n",
        "  model = KMeans(n_clusters = x, random_state = 50)\n",
        "  # Step 5 - Fitting the data\n",
        "  model.fit(scaled_df)\n",
        "  # Step 6 - Capturing the WCSS\n",
        "  ssd.append(model.inertia_)\n",
        "  print(f'The WCSS of the model with clusters = {x} is: {model.inertia_}')"
      ],
      "metadata": {
        "colab": {
          "base_uri": "https://localhost:8080/"
        },
        "id": "r76NAwuyEGOe",
        "outputId": "555eb5bf-5f9c-4168-841d-29425d2058a1"
      },
      "execution_count": null,
      "outputs": [
        {
          "output_type": "stream",
          "name": "stdout",
          "text": [
            "The WCSS of the model with clusters = 2 is: 644.829826892706\n",
            "The WCSS of the model with clusters = 3 is: 531.5685807806851\n",
            "The WCSS of the model with clusters = 4 is: 464.9897975808977\n",
            "The WCSS of the model with clusters = 5 is: 416.8257718293502\n",
            "The WCSS of the model with clusters = 6 is: 376.58757500896354\n",
            "The WCSS of the model with clusters = 7 is: 336.0695720959377\n"
          ]
        }
      ]
    },
    {
      "cell_type": "code",
      "source": [
        "plt.plot(clusters, ssd)"
      ],
      "metadata": {
        "colab": {
          "base_uri": "https://localhost:8080/",
          "height": 447
        },
        "id": "7srTupuhFf2X",
        "outputId": "e6f2bf48-daee-49c3-9f94-91dbc25598fc"
      },
      "execution_count": null,
      "outputs": [
        {
          "output_type": "execute_result",
          "data": {
            "text/plain": [
              "[<matplotlib.lines.Line2D at 0x7f3090ffb430>]"
            ]
          },
          "metadata": {},
          "execution_count": 41
        },
        {
          "output_type": "display_data",
          "data": {
            "text/plain": [
              "<Figure size 640x480 with 1 Axes>"
            ],
            "image/png": "[encoded data removed]"
          },
          "metadata": {}
        }
      ]
    },
    {
      "cell_type": "markdown",
      "source": [
        "**The optimal values for the cluster seems to be either 3 or 4**\n",
        "\n",
        "<hr>\n",
        "\n",
        "**Using of `silhouette Method` for confirming the number of clusters, that is best out of the two**"
      ],
      "metadata": {
        "id": "yzIJr75PFmTp"
      }
    },
    {
      "cell_type": "code",
      "source": [
        "# way to find the best cluster that is elbow method\n",
        "\n",
        "# step 1: Set the range\n",
        "clusters = list(range(2, 8))\n",
        "# step 2: Formulate a loop and capture the WCSS (Withing Cluster sum of squared of distance)\n",
        "scoreList = []\n",
        "# runnning a for loop\n",
        "for x in clusters:\n",
        "  # Step 4 - Implementing the KMeans with each values of X\n",
        "  model = KMeans(n_clusters = x, random_state = 50)\n",
        "  # Step 5 - Fitting the data\n",
        "  model.fit(scaled_df)\n",
        "  # Step 6 - Getting the clusters labels\n",
        "  cluster_labels = model.labels_\n",
        "  # Step 7 - Getting a score on the basis of how the data has been labelled with respect to labels_\n",
        "  score = silhouette_score(scaled_df, cluster_labels)\n",
        "  scoreList.append(score)\n",
        "  print(f'For {x} clusters, score is {score}')"
      ],
      "metadata": {
        "colab": {
          "base_uri": "https://localhost:8080/"
        },
        "id": "Rx8x23fLFi15",
        "outputId": "076a3850-228f-41fa-d6ad-e5ab97d620ff"
      },
      "execution_count": null,
      "outputs": [
        {
          "output_type": "stream",
          "name": "stdout",
          "text": [
            "For 2 clusters, score is 0.3136820966012298\n",
            "For 3 clusters, score is 0.2145859150936642\n",
            "For 4 clusters, score is 0.20533122063552012\n",
            "For 5 clusters, score is 0.20736135372000328\n",
            "For 6 clusters, score is 0.18852859678609948\n",
            "For 7 clusters, score is 0.1817544285967207\n"
          ]
        }
      ]
    },
    {
      "cell_type": "markdown",
      "source": [
        "**From here we can conclude that since the values for 3 is more than that of k = 4, we can conclude that the best k is 3**"
      ],
      "metadata": {
        "id": "6CMZwc1XGPuZ"
      }
    },
    {
      "cell_type": "markdown",
      "source": [
        "<hr>\n",
        "\n",
        "**Implementing the KMeans with num of clusters being 3**"
      ],
      "metadata": {
        "id": "5iLShDDiGYB4"
      }
    },
    {
      "cell_type": "code",
      "source": [
        "model = KMeans(n_clusters = 3, random_state=50)"
      ],
      "metadata": {
        "id": "-m-riH-2GMpe"
      },
      "execution_count": null,
      "outputs": []
    },
    {
      "cell_type": "code",
      "source": [
        "model.fit(df_scaled)"
      ],
      "metadata": {
        "colab": {
          "base_uri": "https://localhost:8080/",
          "height": 74
        },
        "id": "_roWgar2GfbJ",
        "outputId": "61e941d5-802c-4ca4-919d-62df638e19af"
      },
      "execution_count": null,
      "outputs": [
        {
          "output_type": "execute_result",
          "data": {
            "text/plain": [
              "KMeans(n_clusters=3, random_state=50)"
            ],
            "text/html": [
              "<style>#sk-container-id-1 {color: black;background-color: white;}#sk-container-id-1 pre{padding: 0;}#sk-container-id-1 div.sk-toggleable {background-color: white;}#sk-container-id-1 label.sk-toggleable__label {cursor: pointer;display: block;width: 100%;margin-bottom: 0;padding: 0.3em;box-sizing: border-box;text-align: center;}#sk-container-id-1 label.sk-toggleable__label-arrow:before {content: \"▸\";float: left;margin-right: 0.25em;color: #696969;}#sk-container-id-1 label.sk-toggleable__label-arrow:hover:before {color: black;}#sk-container-id-1 div.sk-estimator:hover label.sk-toggleable__label-arrow:before {color: black;}#sk-container-id-1 div.sk-toggleable__content {max-height: 0;max-width: 0;overflow: hidden;text-align: left;background-color: #f0f8ff;}#sk-container-id-1 div.sk-toggleable__content pre {margin: 0.2em;color: black;border-radius: 0.25em;background-color: #f0f8ff;}#sk-container-id-1 input.sk-toggleable__control:checked~div.sk-toggleable__content {max-height: 200px;max-width: 100%;overflow: auto;}#sk-container-id-1 input.sk-toggleable__control:checked~label.sk-toggleable__label-arrow:before {content: \"▾\";}#sk-container-id-1 div.sk-estimator input.sk-toggleable__control:checked~label.sk-toggleable__label {background-color: #d4ebff;}#sk-container-id-1 div.sk-label input.sk-toggleable__control:checked~label.sk-toggleable__label {background-color: #d4ebff;}#sk-container-id-1 input.sk-hidden--visually {border: 0;clip: rect(1px 1px 1px 1px);clip: rect(1px, 1px, 1px, 1px);height: 1px;margin: -1px;overflow: hidden;padding: 0;position: absolute;width: 1px;}#sk-container-id-1 div.sk-estimator {font-family: monospace;background-color: #f0f8ff;border: 1px dotted black;border-radius: 0.25em;box-sizing: border-box;margin-bottom: 0.5em;}#sk-container-id-1 div.sk-estimator:hover {background-color: #d4ebff;}#sk-container-id-1 div.sk-parallel-item::after {content: \"\";width: 100%;border-bottom: 1px solid gray;flex-grow: 1;}#sk-container-id-1 div.sk-label:hover label.sk-toggleable__label {background-color: #d4ebff;}#sk-container-id-1 div.sk-serial::before {content: \"\";position: absolute;border-left: 1px solid gray;box-sizing: border-box;top: 0;bottom: 0;left: 50%;z-index: 0;}#sk-container-id-1 div.sk-serial {display: flex;flex-direction: column;align-items: center;background-color: white;padding-right: 0.2em;padding-left: 0.2em;position: relative;}#sk-container-id-1 div.sk-item {position: relative;z-index: 1;}#sk-container-id-1 div.sk-parallel {display: flex;align-items: stretch;justify-content: center;background-color: white;position: relative;}#sk-container-id-1 div.sk-item::before, #sk-container-id-1 div.sk-parallel-item::before {content: \"\";position: absolute;border-left: 1px solid gray;box-sizing: border-box;top: 0;bottom: 0;left: 50%;z-index: -1;}#sk-container-id-1 div.sk-parallel-item {display: flex;flex-direction: column;z-index: 1;position: relative;background-color: white;}#sk-container-id-1 div.sk-parallel-item:first-child::after {align-self: flex-end;width: 50%;}#sk-container-id-1 div.sk-parallel-item:last-child::after {align-self: flex-start;width: 50%;}#sk-container-id-1 div.sk-parallel-item:only-child::after {width: 0;}#sk-container-id-1 div.sk-dashed-wrapped {border: 1px dashed gray;margin: 0 0.4em 0.5em 0.4em;box-sizing: border-box;padding-bottom: 0.4em;background-color: white;}#sk-container-id-1 div.sk-label label {font-family: monospace;font-weight: bold;display: inline-block;line-height: 1.2em;}#sk-container-id-1 div.sk-label-container {text-align: center;}#sk-container-id-1 div.sk-container {/* jupyter's `normalize.less` sets `[hidden] { display: none; }` but bootstrap.min.css set `[hidden] { display: none !important; }` so we also need the `!important` here to be able to override the default hidden behavior on the sphinx rendered scikit-learn.org. See: https://github.com/scikit-learn/scikit-learn/issues/21755 */display: inline-block !important;position: relative;}#sk-container-id-1 div.sk-text-repr-fallback {display: none;}</style><div id=\"sk-container-id-1\" class=\"sk-top-container\"><div class=\"sk-text-repr-fallback\"><pre>KMeans(n_clusters=3, random_state=50)</pre><b>In a Jupyter environment, please rerun this cell to show the HTML representation or trust the notebook. <br />On GitHub, the HTML representation is unable to render, please try loading this page with nbviewer.org.</b></div><div class=\"sk-container\" hidden><div class=\"sk-item\"><div class=\"sk-estimator sk-toggleable\"><input class=\"sk-toggleable__control sk-hidden--visually\" id=\"sk-estimator-id-1\" type=\"checkbox\" checked><label for=\"sk-estimator-id-1\" class=\"sk-toggleable__label sk-toggleable__label-arrow\">KMeans</label><div class=\"sk-toggleable__content\"><pre>KMeans(n_clusters=3, random_state=50)</pre></div></div></div></div></div>"
            ]
          },
          "metadata": {},
          "execution_count": 44
        }
      ]
    },
    {
      "cell_type": "code",
      "source": [
        "model.labels_"
      ],
      "metadata": {
        "colab": {
          "base_uri": "https://localhost:8080/"
        },
        "id": "W0BQT1OyGgtm",
        "outputId": "af9817c6-1bd1-49d6-be80-5a55edc1b4e5"
      },
      "execution_count": null,
      "outputs": [
        {
          "output_type": "execute_result",
          "data": {
            "text/plain": [
              "array([0, 0, 0, 0, 0, 0, 0, 0, 0, 2, 2, 2, 2, 2, 2, 1, 2, 2, 2, 2, 2, 2,\n",
              "       2, 2, 2, 1, 2, 2, 2, 1, 2, 2, 2, 2, 1, 2, 2, 1, 1, 1, 1, 2, 1, 2,\n",
              "       2, 2, 1, 1, 1, 1, 2, 1, 1, 1, 1, 1, 1, 1, 1, 1, 1, 1, 1, 1, 1, 1,\n",
              "       1, 1, 1, 1, 1, 1, 1, 1, 1, 1, 1, 1, 2], dtype=int32)"
            ]
          },
          "metadata": {},
          "execution_count": 45
        }
      ]
    },
    {
      "cell_type": "code",
      "source": [
        "df['Cluster Assigned'] = model.labels_"
      ],
      "metadata": {
        "id": "vHRmXtx6GiKs"
      },
      "execution_count": null,
      "outputs": []
    },
    {
      "cell_type": "code",
      "source": [
        "df.head().style.set_properties(\n",
        "    **{\n",
        "        'background-color':'#9AD7A4',\n",
        "        \"color\": 'black',\n",
        "        \"border-color\":'black',\n",
        "        'border-style': 'solid'\n",
        "    }\n",
        ")"
      ],
      "metadata": {
        "colab": {
          "base_uri": "https://localhost:8080/",
          "height": 220
        },
        "id": "ygIQRINhGj5g",
        "outputId": "08522fa3-93af-41e1-9484-60283c2b5aae"
      },
      "execution_count": null,
      "outputs": [
        {
          "output_type": "execute_result",
          "data": {
            "text/plain": [
              "<pandas.io.formats.style.Styler at 0x7f308ecf3820>"
            ],
            "text/html": [
              "<style type=\"text/css\">\n",
              "#T_dd39a_row0_col0, #T_dd39a_row0_col1, #T_dd39a_row0_col2, #T_dd39a_row0_col3, #T_dd39a_row0_col4, #T_dd39a_row0_col5, #T_dd39a_row0_col6, #T_dd39a_row0_col7, #T_dd39a_row0_col8, #T_dd39a_row0_col9, #T_dd39a_row0_col10, #T_dd39a_row0_col11, #T_dd39a_row0_col12, #T_dd39a_row0_col13, #T_dd39a_row1_col0, #T_dd39a_row1_col1, #T_dd39a_row1_col2, #T_dd39a_row1_col3, #T_dd39a_row1_col4, #T_dd39a_row1_col5, #T_dd39a_row1_col6, #T_dd39a_row1_col7, #T_dd39a_row1_col8, #T_dd39a_row1_col9, #T_dd39a_row1_col10, #T_dd39a_row1_col11, #T_dd39a_row1_col12, #T_dd39a_row1_col13, #T_dd39a_row2_col0, #T_dd39a_row2_col1, #T_dd39a_row2_col2, #T_dd39a_row2_col3, #T_dd39a_row2_col4, #T_dd39a_row2_col5, #T_dd39a_row2_col6, #T_dd39a_row2_col7, #T_dd39a_row2_col8, #T_dd39a_row2_col9, #T_dd39a_row2_col10, #T_dd39a_row2_col11, #T_dd39a_row2_col12, #T_dd39a_row2_col13, #T_dd39a_row3_col0, #T_dd39a_row3_col1, #T_dd39a_row3_col2, #T_dd39a_row3_col3, #T_dd39a_row3_col4, #T_dd39a_row3_col5, #T_dd39a_row3_col6, #T_dd39a_row3_col7, #T_dd39a_row3_col8, #T_dd39a_row3_col9, #T_dd39a_row3_col10, #T_dd39a_row3_col11, #T_dd39a_row3_col12, #T_dd39a_row3_col13, #T_dd39a_row4_col0, #T_dd39a_row4_col1, #T_dd39a_row4_col2, #T_dd39a_row4_col3, #T_dd39a_row4_col4, #T_dd39a_row4_col5, #T_dd39a_row4_col6, #T_dd39a_row4_col7, #T_dd39a_row4_col8, #T_dd39a_row4_col9, #T_dd39a_row4_col10, #T_dd39a_row4_col11, #T_dd39a_row4_col12, #T_dd39a_row4_col13 {\n",
              "  background-color: #9AD7A4;\n",
              "  color: black;\n",
              "  border-color: black;\n",
              "  border-style: solid;\n",
              "}\n",
              "</style>\n",
              "<table id=\"T_dd39a\" class=\"dataframe\">\n",
              "  <thead>\n",
              "    <tr>\n",
              "      <th class=\"blank level0\" >&nbsp;</th>\n",
              "      <th id=\"T_dd39a_level0_col0\" class=\"col_heading level0 col0\" >Player</th>\n",
              "      <th id=\"T_dd39a_level0_col1\" class=\"col_heading level0 col1\" >Mat</th>\n",
              "      <th id=\"T_dd39a_level0_col2\" class=\"col_heading level0 col2\" >Inns</th>\n",
              "      <th id=\"T_dd39a_level0_col3\" class=\"col_heading level0 col3\" >NO</th>\n",
              "      <th id=\"T_dd39a_level0_col4\" class=\"col_heading level0 col4\" >Runs</th>\n",
              "      <th id=\"T_dd39a_level0_col5\" class=\"col_heading level0 col5\" >HS</th>\n",
              "      <th id=\"T_dd39a_level0_col6\" class=\"col_heading level0 col6\" >Ave</th>\n",
              "      <th id=\"T_dd39a_level0_col7\" class=\"col_heading level0 col7\" >BF</th>\n",
              "      <th id=\"T_dd39a_level0_col8\" class=\"col_heading level0 col8\" >SR</th>\n",
              "      <th id=\"T_dd39a_level0_col9\" class=\"col_heading level0 col9\" >100</th>\n",
              "      <th id=\"T_dd39a_level0_col10\" class=\"col_heading level0 col10\" >50</th>\n",
              "      <th id=\"T_dd39a_level0_col11\" class=\"col_heading level0 col11\" >0</th>\n",
              "      <th id=\"T_dd39a_level0_col12\" class=\"col_heading level0 col12\" >Experience</th>\n",
              "      <th id=\"T_dd39a_level0_col13\" class=\"col_heading level0 col13\" >Cluster Assigned</th>\n",
              "    </tr>\n",
              "  </thead>\n",
              "  <tbody>\n",
              "    <tr>\n",
              "      <th id=\"T_dd39a_level0_row0\" class=\"row_heading level0 row0\" >0</th>\n",
              "      <td id=\"T_dd39a_row0_col0\" class=\"data row0 col0\" >SR Tendulkar (INDIA)</td>\n",
              "      <td id=\"T_dd39a_row0_col1\" class=\"data row0 col1\" >463</td>\n",
              "      <td id=\"T_dd39a_row0_col2\" class=\"data row0 col2\" >452</td>\n",
              "      <td id=\"T_dd39a_row0_col3\" class=\"data row0 col3\" >41</td>\n",
              "      <td id=\"T_dd39a_row0_col4\" class=\"data row0 col4\" >18426</td>\n",
              "      <td id=\"T_dd39a_row0_col5\" class=\"data row0 col5\" >200</td>\n",
              "      <td id=\"T_dd39a_row0_col6\" class=\"data row0 col6\" >44.830000</td>\n",
              "      <td id=\"T_dd39a_row0_col7\" class=\"data row0 col7\" >21367</td>\n",
              "      <td id=\"T_dd39a_row0_col8\" class=\"data row0 col8\" >86.230000</td>\n",
              "      <td id=\"T_dd39a_row0_col9\" class=\"data row0 col9\" >49</td>\n",
              "      <td id=\"T_dd39a_row0_col10\" class=\"data row0 col10\" >96</td>\n",
              "      <td id=\"T_dd39a_row0_col11\" class=\"data row0 col11\" >20</td>\n",
              "      <td id=\"T_dd39a_row0_col12\" class=\"data row0 col12\" >23</td>\n",
              "      <td id=\"T_dd39a_row0_col13\" class=\"data row0 col13\" >0</td>\n",
              "    </tr>\n",
              "    <tr>\n",
              "      <th id=\"T_dd39a_level0_row1\" class=\"row_heading level0 row1\" >1</th>\n",
              "      <td id=\"T_dd39a_row1_col0\" class=\"data row1 col0\" >KC Sangakkara (Asia/ICC/SL)</td>\n",
              "      <td id=\"T_dd39a_row1_col1\" class=\"data row1 col1\" >404</td>\n",
              "      <td id=\"T_dd39a_row1_col2\" class=\"data row1 col2\" >380</td>\n",
              "      <td id=\"T_dd39a_row1_col3\" class=\"data row1 col3\" >41</td>\n",
              "      <td id=\"T_dd39a_row1_col4\" class=\"data row1 col4\" >14234</td>\n",
              "      <td id=\"T_dd39a_row1_col5\" class=\"data row1 col5\" >169</td>\n",
              "      <td id=\"T_dd39a_row1_col6\" class=\"data row1 col6\" >41.980000</td>\n",
              "      <td id=\"T_dd39a_row1_col7\" class=\"data row1 col7\" >18048</td>\n",
              "      <td id=\"T_dd39a_row1_col8\" class=\"data row1 col8\" >78.860000</td>\n",
              "      <td id=\"T_dd39a_row1_col9\" class=\"data row1 col9\" >25</td>\n",
              "      <td id=\"T_dd39a_row1_col10\" class=\"data row1 col10\" >93</td>\n",
              "      <td id=\"T_dd39a_row1_col11\" class=\"data row1 col11\" >15</td>\n",
              "      <td id=\"T_dd39a_row1_col12\" class=\"data row1 col12\" >15</td>\n",
              "      <td id=\"T_dd39a_row1_col13\" class=\"data row1 col13\" >0</td>\n",
              "    </tr>\n",
              "    <tr>\n",
              "      <th id=\"T_dd39a_level0_row2\" class=\"row_heading level0 row2\" >2</th>\n",
              "      <td id=\"T_dd39a_row2_col0\" class=\"data row2 col0\" >RT Ponting (AUS/ICC)</td>\n",
              "      <td id=\"T_dd39a_row2_col1\" class=\"data row2 col1\" >375</td>\n",
              "      <td id=\"T_dd39a_row2_col2\" class=\"data row2 col2\" >365</td>\n",
              "      <td id=\"T_dd39a_row2_col3\" class=\"data row2 col3\" >39</td>\n",
              "      <td id=\"T_dd39a_row2_col4\" class=\"data row2 col4\" >13704</td>\n",
              "      <td id=\"T_dd39a_row2_col5\" class=\"data row2 col5\" >164</td>\n",
              "      <td id=\"T_dd39a_row2_col6\" class=\"data row2 col6\" >42.030000</td>\n",
              "      <td id=\"T_dd39a_row2_col7\" class=\"data row2 col7\" >17046</td>\n",
              "      <td id=\"T_dd39a_row2_col8\" class=\"data row2 col8\" >80.390000</td>\n",
              "      <td id=\"T_dd39a_row2_col9\" class=\"data row2 col9\" >30</td>\n",
              "      <td id=\"T_dd39a_row2_col10\" class=\"data row2 col10\" >82</td>\n",
              "      <td id=\"T_dd39a_row2_col11\" class=\"data row2 col11\" >20</td>\n",
              "      <td id=\"T_dd39a_row2_col12\" class=\"data row2 col12\" >17</td>\n",
              "      <td id=\"T_dd39a_row2_col13\" class=\"data row2 col13\" >0</td>\n",
              "    </tr>\n",
              "    <tr>\n",
              "      <th id=\"T_dd39a_level0_row3\" class=\"row_heading level0 row3\" >3</th>\n",
              "      <td id=\"T_dd39a_row3_col0\" class=\"data row3 col0\" >ST Jayasuriya (Asia/SL)</td>\n",
              "      <td id=\"T_dd39a_row3_col1\" class=\"data row3 col1\" >445</td>\n",
              "      <td id=\"T_dd39a_row3_col2\" class=\"data row3 col2\" >433</td>\n",
              "      <td id=\"T_dd39a_row3_col3\" class=\"data row3 col3\" >18</td>\n",
              "      <td id=\"T_dd39a_row3_col4\" class=\"data row3 col4\" >13430</td>\n",
              "      <td id=\"T_dd39a_row3_col5\" class=\"data row3 col5\" >189</td>\n",
              "      <td id=\"T_dd39a_row3_col6\" class=\"data row3 col6\" >32.360000</td>\n",
              "      <td id=\"T_dd39a_row3_col7\" class=\"data row3 col7\" >14725</td>\n",
              "      <td id=\"T_dd39a_row3_col8\" class=\"data row3 col8\" >91.200000</td>\n",
              "      <td id=\"T_dd39a_row3_col9\" class=\"data row3 col9\" >28</td>\n",
              "      <td id=\"T_dd39a_row3_col10\" class=\"data row3 col10\" >68</td>\n",
              "      <td id=\"T_dd39a_row3_col11\" class=\"data row3 col11\" >34</td>\n",
              "      <td id=\"T_dd39a_row3_col12\" class=\"data row3 col12\" >22</td>\n",
              "      <td id=\"T_dd39a_row3_col13\" class=\"data row3 col13\" >0</td>\n",
              "    </tr>\n",
              "    <tr>\n",
              "      <th id=\"T_dd39a_level0_row4\" class=\"row_heading level0 row4\" >4</th>\n",
              "      <td id=\"T_dd39a_row4_col0\" class=\"data row4 col0\" >DPMD Jayawardene (Asia/SL)</td>\n",
              "      <td id=\"T_dd39a_row4_col1\" class=\"data row4 col1\" >448</td>\n",
              "      <td id=\"T_dd39a_row4_col2\" class=\"data row4 col2\" >418</td>\n",
              "      <td id=\"T_dd39a_row4_col3\" class=\"data row4 col3\" >39</td>\n",
              "      <td id=\"T_dd39a_row4_col4\" class=\"data row4 col4\" >12650</td>\n",
              "      <td id=\"T_dd39a_row4_col5\" class=\"data row4 col5\" >144</td>\n",
              "      <td id=\"T_dd39a_row4_col6\" class=\"data row4 col6\" >33.370000</td>\n",
              "      <td id=\"T_dd39a_row4_col7\" class=\"data row4 col7\" >16020</td>\n",
              "      <td id=\"T_dd39a_row4_col8\" class=\"data row4 col8\" >78.960000</td>\n",
              "      <td id=\"T_dd39a_row4_col9\" class=\"data row4 col9\" >19</td>\n",
              "      <td id=\"T_dd39a_row4_col10\" class=\"data row4 col10\" >77</td>\n",
              "      <td id=\"T_dd39a_row4_col11\" class=\"data row4 col11\" >28</td>\n",
              "      <td id=\"T_dd39a_row4_col12\" class=\"data row4 col12\" >17</td>\n",
              "      <td id=\"T_dd39a_row4_col13\" class=\"data row4 col13\" >0</td>\n",
              "    </tr>\n",
              "  </tbody>\n",
              "</table>\n"
            ]
          },
          "metadata": {},
          "execution_count": 47
        }
      ]
    },
    {
      "cell_type": "code",
      "source": [
        "df['Cluster Assigned'].value_counts()"
      ],
      "metadata": {
        "colab": {
          "base_uri": "https://localhost:8080/"
        },
        "id": "QOQPqFitGnYz",
        "outputId": "74da6835-2cd6-4453-c2fd-3f1e35edcf3d"
      },
      "execution_count": null,
      "outputs": [
        {
          "output_type": "execute_result",
          "data": {
            "text/plain": [
              "1    40\n",
              "2    30\n",
              "0     9\n",
              "Name: Cluster Assigned, dtype: int64"
            ]
          },
          "metadata": {},
          "execution_count": 48
        }
      ]
    },
    {
      "cell_type": "markdown",
      "source": [
        "**For visualizing we will be choosing few columns and doing the prediction on them**"
      ],
      "metadata": {
        "id": "HbTPUftAGrn_"
      }
    },
    {
      "cell_type": "code",
      "source": [
        "X = scaled_df.iloc[:, [3, 6]].values\n",
        "X"
      ],
      "metadata": {
        "colab": {
          "base_uri": "https://localhost:8080/"
        },
        "id": "MsyBRrS8GnqX",
        "outputId": "15f05a83-22ae-4826-a121-a510aaf380aa"
      },
      "execution_count": null,
      "outputs": [
        {
          "output_type": "execute_result",
          "data": {
            "text/plain": [
              "array([[ 4.26232808,  3.68121424],\n",
              "       [ 2.60911662,  2.63538469],\n",
              "       [ 2.40009894,  2.31965067],\n",
              "       [ 2.29204075,  1.58829472],\n",
              "       [ 1.98442984,  1.99635416],\n",
              "       [ 1.62515607,  1.93081256],\n",
              "       [ 1.5620564 ,  1.95381514],\n",
              "       [ 1.47687184,  1.80603146],\n",
              "       [ 1.28993905,  1.76443775],\n",
              "       [ 1.09906254,  1.07183957],\n",
              "       [ 1.05370965,  0.70852488],\n",
              "       [ 0.82891706,  1.02646463],\n",
              "       [ 0.78908539,  0.07485112],\n",
              "       [ 0.74057751,  0.3218925 ],\n",
              "       [ 0.6940415 ,  0.94044129],\n",
              "       [ 0.6707735 , -0.12271897],\n",
              "       [ 0.65697044,  0.55412401],\n",
              "       [ 0.63212495,  0.36222579],\n",
              "       [ 0.47555888,  0.39499659],\n",
              "       [ 0.45741773,  0.85819919],\n",
              "       [ 0.42705101,  0.07548132],\n",
              "       [ 0.40614924,  1.26751904],\n",
              "       [ 0.35921886,  0.9168085 ],\n",
              "       [ 0.34778204,  0.43123353],\n",
              "       [ 0.25825938, -0.55315078],\n",
              "       [ 0.20817401, -0.23079958],\n",
              "       [ 0.18766662,  0.01151525],\n",
              "       [ 0.17583543, -0.87991343],\n",
              "       [ 0.16518736,  0.49078815],\n",
              "       [ 0.14310247,  0.13220001],\n",
              "       [-0.01937919,  0.0902912 ],\n",
              "       [-0.06394333, -0.03575032],\n",
              "       [-0.09352131,  0.41894448],\n",
              "       [-0.14557854, -0.01778941],\n",
              "       [-0.17042403, -0.50903625],\n",
              "       [-0.176734  , -0.09498984],\n",
              "       [-0.20828384,  0.0238043 ],\n",
              "       [-0.24811551, -0.32659114],\n",
              "       [-0.27848223, -0.11484138],\n",
              "       [-0.32344074, -0.07828934],\n",
              "       [-0.32817322, -0.18510953],\n",
              "       [-0.33645505, -0.44317955],\n",
              "       [-0.35380746, -0.7037704 ],\n",
              "       [-0.41296341,  0.01214546],\n",
              "       [-0.41572402, -0.47595035],\n",
              "       [-0.43149894, -0.17345069],\n",
              "       [-0.44648511, -0.56039817],\n",
              "       [-0.54034587,  0.03672355],\n",
              "       [-0.58293815, -0.47311441],\n",
              "       [-0.58569876, -0.6041976 ],\n",
              "       [-0.60541741, -1.06267364],\n",
              "       [-0.61133301, -0.41671083],\n",
              "       [-0.65234779, -0.1662033 ],\n",
              "       [-0.66378461, -0.74000734],\n",
              "       [-0.68705262, -0.60199187],\n",
              "       [-0.70085567, -0.14446114],\n",
              "       [-0.71544747, -0.63696839],\n",
              "       [-0.7280674 , -0.99933778],\n",
              "       [-0.73240551, -0.68297355],\n",
              "       [-0.733983  , -1.04597314],\n",
              "       [-0.73950422, -0.74095265],\n",
              "       [-0.80851949, -1.18052247],\n",
              "       [-0.80970261, -0.75859847],\n",
              "       [-0.83533685, -1.07622311],\n",
              "       [-0.85821048, -1.08441581],\n",
              "       [-0.86097109, -1.02643671],\n",
              "       [-0.86846418, -0.83989525],\n",
              "       [-0.89094344, -0.63255694],\n",
              "       [-0.89607029, -0.88463999],\n",
              "       [-0.93077511, -0.82697599],\n",
              "       [-0.93866257, -1.11561108],\n",
              "       [-0.95956433, -0.58308564],\n",
              "       [-0.9615362 , -0.91079361],\n",
              "       [-0.96863491, -0.36660932],\n",
              "       [-0.97967735, -0.55976796],\n",
              "       [-0.98440983, -0.86321293],\n",
              "       [-0.99624102, -0.96751229],\n",
              "       [-0.99781851, -1.31727752],\n",
              "       [-1.00097349, -1.08157987]])"
            ]
          },
          "metadata": {},
          "execution_count": 49
        }
      ]
    },
    {
      "cell_type": "code",
      "source": [
        "pred = model.fit_predict(X)\n",
        "pred"
      ],
      "metadata": {
        "colab": {
          "base_uri": "https://localhost:8080/"
        },
        "id": "aHxx07MtGzd_",
        "outputId": "2474c898-9c62-4cc2-dcf5-232c9399ae21"
      },
      "execution_count": null,
      "outputs": [
        {
          "output_type": "execute_result",
          "data": {
            "text/plain": [
              "array([2, 2, 2, 2, 2, 2, 2, 2, 2, 1, 1, 1, 1, 1, 1, 1, 1, 1, 1, 1, 1, 1,\n",
              "       1, 1, 0, 1, 1, 0, 1, 1, 1, 1, 1, 1, 0, 0, 1, 0, 0, 0, 0, 0, 0, 0,\n",
              "       0, 0, 0, 0, 0, 0, 0, 0, 0, 0, 0, 0, 0, 0, 0, 0, 0, 0, 0, 0, 0, 0,\n",
              "       0, 0, 0, 0, 0, 0, 0, 0, 0, 0, 0, 0, 0], dtype=int32)"
            ]
          },
          "metadata": {},
          "execution_count": 50
        }
      ]
    },
    {
      "cell_type": "markdown",
      "source": [
        "**Putting data into dataframe**"
      ],
      "metadata": {
        "id": "b4W1I6ZiIvGc"
      }
    },
    {
      "cell_type": "code",
      "source": [
        "DF = pd.DataFrame(X, columns=['NO', 'Ave'])"
      ],
      "metadata": {
        "id": "WDB0o2cdG86q"
      },
      "execution_count": null,
      "outputs": []
    },
    {
      "cell_type": "code",
      "source": [
        "DF['Pred Cluster Values'] = pred"
      ],
      "metadata": {
        "id": "JEUP1jzxG-M8"
      },
      "execution_count": null,
      "outputs": []
    },
    {
      "cell_type": "code",
      "source": [
        "DF.head().style.set_properties(\n",
        "    **{\n",
        "        'background-color':'#FDAEA9',\n",
        "        \"color\": 'black',\n",
        "        \"border-color\":'black',\n",
        "        'border-style': 'solid'\n",
        "    }\n",
        ")"
      ],
      "metadata": {
        "colab": {
          "base_uri": "https://localhost:8080/",
          "height": 220
        },
        "id": "zt0eZN7JLSIq",
        "outputId": "ceba6a28-9f83-416f-da41-562f3403da72"
      },
      "execution_count": null,
      "outputs": [
        {
          "output_type": "execute_result",
          "data": {
            "text/plain": [
              "<pandas.io.formats.style.Styler at 0x7f308ecf1c90>"
            ],
            "text/html": [
              "<style type=\"text/css\">\n",
              "#T_d1f49_row0_col0, #T_d1f49_row0_col1, #T_d1f49_row0_col2, #T_d1f49_row1_col0, #T_d1f49_row1_col1, #T_d1f49_row1_col2, #T_d1f49_row2_col0, #T_d1f49_row2_col1, #T_d1f49_row2_col2, #T_d1f49_row3_col0, #T_d1f49_row3_col1, #T_d1f49_row3_col2, #T_d1f49_row4_col0, #T_d1f49_row4_col1, #T_d1f49_row4_col2 {\n",
              "  background-color: #FDAEA9;\n",
              "  color: black;\n",
              "  border-color: black;\n",
              "  border-style: solid;\n",
              "}\n",
              "</style>\n",
              "<table id=\"T_d1f49\" class=\"dataframe\">\n",
              "  <thead>\n",
              "    <tr>\n",
              "      <th class=\"blank level0\" >&nbsp;</th>\n",
              "      <th id=\"T_d1f49_level0_col0\" class=\"col_heading level0 col0\" >NO</th>\n",
              "      <th id=\"T_d1f49_level0_col1\" class=\"col_heading level0 col1\" >Ave</th>\n",
              "      <th id=\"T_d1f49_level0_col2\" class=\"col_heading level0 col2\" >Pred Cluster Values</th>\n",
              "    </tr>\n",
              "  </thead>\n",
              "  <tbody>\n",
              "    <tr>\n",
              "      <th id=\"T_d1f49_level0_row0\" class=\"row_heading level0 row0\" >0</th>\n",
              "      <td id=\"T_d1f49_row0_col0\" class=\"data row0 col0\" >4.262328</td>\n",
              "      <td id=\"T_d1f49_row0_col1\" class=\"data row0 col1\" >3.681214</td>\n",
              "      <td id=\"T_d1f49_row0_col2\" class=\"data row0 col2\" >2</td>\n",
              "    </tr>\n",
              "    <tr>\n",
              "      <th id=\"T_d1f49_level0_row1\" class=\"row_heading level0 row1\" >1</th>\n",
              "      <td id=\"T_d1f49_row1_col0\" class=\"data row1 col0\" >2.609117</td>\n",
              "      <td id=\"T_d1f49_row1_col1\" class=\"data row1 col1\" >2.635385</td>\n",
              "      <td id=\"T_d1f49_row1_col2\" class=\"data row1 col2\" >2</td>\n",
              "    </tr>\n",
              "    <tr>\n",
              "      <th id=\"T_d1f49_level0_row2\" class=\"row_heading level0 row2\" >2</th>\n",
              "      <td id=\"T_d1f49_row2_col0\" class=\"data row2 col0\" >2.400099</td>\n",
              "      <td id=\"T_d1f49_row2_col1\" class=\"data row2 col1\" >2.319651</td>\n",
              "      <td id=\"T_d1f49_row2_col2\" class=\"data row2 col2\" >2</td>\n",
              "    </tr>\n",
              "    <tr>\n",
              "      <th id=\"T_d1f49_level0_row3\" class=\"row_heading level0 row3\" >3</th>\n",
              "      <td id=\"T_d1f49_row3_col0\" class=\"data row3 col0\" >2.292041</td>\n",
              "      <td id=\"T_d1f49_row3_col1\" class=\"data row3 col1\" >1.588295</td>\n",
              "      <td id=\"T_d1f49_row3_col2\" class=\"data row3 col2\" >2</td>\n",
              "    </tr>\n",
              "    <tr>\n",
              "      <th id=\"T_d1f49_level0_row4\" class=\"row_heading level0 row4\" >4</th>\n",
              "      <td id=\"T_d1f49_row4_col0\" class=\"data row4 col0\" >1.984430</td>\n",
              "      <td id=\"T_d1f49_row4_col1\" class=\"data row4 col1\" >1.996354</td>\n",
              "      <td id=\"T_d1f49_row4_col2\" class=\"data row4 col2\" >2</td>\n",
              "    </tr>\n",
              "  </tbody>\n",
              "</table>\n"
            ]
          },
          "metadata": {},
          "execution_count": 53
        }
      ]
    },
    {
      "cell_type": "markdown",
      "source": [
        "**Visualize**"
      ],
      "metadata": {
        "id": "2yN8EJCEIzqO"
      }
    },
    {
      "cell_type": "code",
      "source": [
        "plt.style.use('dark_background')\n",
        "plt.figure(figsize = (10, 8))\n",
        "\n",
        "sns.scatterplot(x = X[pred == 0, 0], y = X[pred == 0, 1] , color = 'green', label = 'Cluster1')\n",
        "sns.scatterplot(x = X[pred == 1, 0], y = X[pred == 1, 1] , color = 'red', label = 'Cluster2')\n",
        "sns.scatterplot(x = X[pred == 2, 0], y = X[pred == 2, 1] , color = 'blue', label = 'Cluster3')\n",
        "sns.scatterplot(x = X[pred == 3, 0], y = X[pred == 3, 1] , color = 'yellow', label = 'Cluster4')\n",
        "\n",
        "plt.xlabel(\"Not outs\")\n",
        "plt.ylabel(\"Average\")\n",
        "sns.scatterplot( x = model.cluster_centers_[0:4, 0], y =  model.cluster_centers_[0:4, 1], color = 'cyan',\n",
        "                label = 'Centroids',s=50,marker='D')"
      ],
      "metadata": {
        "colab": {
          "base_uri": "https://localhost:8080/",
          "height": 713
        },
        "id": "asixQB1mG2WJ",
        "outputId": "fabd1a72-9b08-4758-c838-0f6dc6bc2f17"
      },
      "execution_count": null,
      "outputs": [
        {
          "output_type": "execute_result",
          "data": {
            "text/plain": [
              "<Axes: xlabel='Not outs', ylabel='Average'>"
            ]
          },
          "metadata": {},
          "execution_count": 56
        },
        {
          "output_type": "display_data",
          "data": {
            "text/plain": [
              "<Figure size 1000x800 with 1 Axes>"
            ],
            "image/png": "[encoded data removed]"
          },
          "metadata": {}
        }
      ]
    },
    {
      "cell_type": "code",
      "source": [],
      "metadata": {
        "id": "TcnTIiZcLjB7"
      },
      "execution_count": null,
      "outputs": []
    }
  ]
}